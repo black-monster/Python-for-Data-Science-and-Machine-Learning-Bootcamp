{
  "nbformat": 4,
  "nbformat_minor": 0,
  "metadata": {
    "colab": {
      "name": "K Means Clustering Project .ipynb",
      "version": "0.3.2",
      "views": {},
      "default_view": {},
      "provenance": []
    },
    "kernelspec": {
      "display_name": "Python 3",
      "language": "python",
      "name": "python3"
    }
  },
  "cells": [
    {
      "metadata": {
        "id": "Bw-Ka4rI6M_s",
        "colab_type": "text"
      },
      "cell_type": "markdown",
      "source": [
        "___\n",
        "\n",
        "<a href='http://www.pieriandata.com'> <img src='../Pierian_Data_Logo.png' /></a>\n",
        "___\n",
        "# K Means Clustering Project \n",
        "\n",
        "For this project we will attempt to use KMeans Clustering to cluster Universities into to two groups, Private and Public.\n",
        "\n",
        "___\n",
        "It is **very important to note, we actually have the labels for this data set, but we will NOT use them for the KMeans clustering algorithm, since that is an unsupervised learning algorithm.** \n",
        "\n",
        "When using the Kmeans algorithm under normal circumstances, it is because you don't have labels. In this case we will use the labels to try to get an idea of how well the algorithm performed, but you won't usually do this for Kmeans, so the classification report and confusion matrix at the end of this project, don't truly make sense in a real world setting!.\n",
        "___\n",
        "\n",
        "## The Data\n",
        "\n",
        "We will use a data frame with 777 observations on the following 18 variables.\n",
        "* Private A factor with levels No and Yes indicating private or public university\n",
        "* Apps Number of applications received\n",
        "* Accept Number of applications accepted\n",
        "* Enroll Number of new students enrolled\n",
        "* Top10perc Pct. new students from top 10% of H.S. class\n",
        "* Top25perc Pct. new students from top 25% of H.S. class\n",
        "* F.Undergrad Number of fulltime undergraduates\n",
        "* P.Undergrad Number of parttime undergraduates\n",
        "* Outstate Out-of-state tuition\n",
        "* Room.Board Room and board costs\n",
        "* Books Estimated book costs\n",
        "* Personal Estimated personal spending\n",
        "* PhD Pct. of faculty with Ph.D.’s\n",
        "* Terminal Pct. of faculty with terminal degree\n",
        "* S.F.Ratio Student/faculty ratio\n",
        "* perc.alumni Pct. alumni who donate\n",
        "* Expend Instructional expenditure per student\n",
        "* Grad.Rate Graduation rate"
      ]
    },
    {
      "metadata": {
        "id": "pmWv80uH6M_u",
        "colab_type": "text"
      },
      "cell_type": "markdown",
      "source": [
        "## Import Libraries\n",
        "\n",
        "** Import the libraries you usually use for data analysis.**"
      ]
    },
    {
      "metadata": {
        "id": "-6GkkZrS6M_v",
        "colab_type": "code",
        "colab": {
          "autoexec": {
            "startup": false,
            "wait_interval": 0
          },
          "resources": {
            "http://localhost:8080/nbextensions/google.colab/files.js": {
              "data": "Ly8gQ29weXJpZ2h0IDIwMTcgR29vZ2xlIExMQwovLwovLyBMaWNlbnNlZCB1bmRlciB0aGUgQXBhY2hlIExpY2Vuc2UsIFZlcnNpb24gMi4wICh0aGUgIkxpY2Vuc2UiKTsKLy8geW91IG1heSBub3QgdXNlIHRoaXMgZmlsZSBleGNlcHQgaW4gY29tcGxpYW5jZSB3aXRoIHRoZSBMaWNlbnNlLgovLyBZb3UgbWF5IG9idGFpbiBhIGNvcHkgb2YgdGhlIExpY2Vuc2UgYXQKLy8KLy8gICAgICBodHRwOi8vd3d3LmFwYWNoZS5vcmcvbGljZW5zZXMvTElDRU5TRS0yLjAKLy8KLy8gVW5sZXNzIHJlcXVpcmVkIGJ5IGFwcGxpY2FibGUgbGF3IG9yIGFncmVlZCB0byBpbiB3cml0aW5nLCBzb2Z0d2FyZQovLyBkaXN0cmlidXRlZCB1bmRlciB0aGUgTGljZW5zZSBpcyBkaXN0cmlidXRlZCBvbiBhbiAiQVMgSVMiIEJBU0lTLAovLyBXSVRIT1VUIFdBUlJBTlRJRVMgT1IgQ09ORElUSU9OUyBPRiBBTlkgS0lORCwgZWl0aGVyIGV4cHJlc3Mgb3IgaW1wbGllZC4KLy8gU2VlIHRoZSBMaWNlbnNlIGZvciB0aGUgc3BlY2lmaWMgbGFuZ3VhZ2UgZ292ZXJuaW5nIHBlcm1pc3Npb25zIGFuZAovLyBsaW1pdGF0aW9ucyB1bmRlciB0aGUgTGljZW5zZS4KCi8qKgogKiBAZmlsZW92ZXJ2aWV3IEhlbHBlcnMgZm9yIGdvb2dsZS5jb2xhYiBQeXRob24gbW9kdWxlLgogKi8KKGZ1bmN0aW9uKHNjb3BlKSB7CmZ1bmN0aW9uIHNwYW4odGV4dCwgc3R5bGVBdHRyaWJ1dGVzID0ge30pIHsKICBjb25zdCBlbGVtZW50ID0gZG9jdW1lbnQuY3JlYXRlRWxlbWVudCgnc3BhbicpOwogIGVsZW1lbnQudGV4dENvbnRlbnQgPSB0ZXh0OwogIGZvciAoY29uc3Qga2V5IG9mIE9iamVjdC5rZXlzKHN0eWxlQXR0cmlidXRlcykpIHsKICAgIGVsZW1lbnQuc3R5bGVba2V5XSA9IHN0eWxlQXR0cmlidXRlc1trZXldOwogIH0KICByZXR1cm4gZWxlbWVudDsKfQoKLy8gTWF4IG51bWJlciBvZiBieXRlcyB3aGljaCB3aWxsIGJlIHVwbG9hZGVkIGF0IGEgdGltZS4KY29uc3QgTUFYX1BBWUxPQURfU0laRSA9IDEwMCAqIDEwMjQ7Ci8vIE1heCBhbW91bnQgb2YgdGltZSB0byBibG9jayB3YWl0aW5nIGZvciB0aGUgdXNlci4KY29uc3QgRklMRV9DSEFOR0VfVElNRU9VVF9NUyA9IDMwICogMTAwMDsKCmZ1bmN0aW9uIF91cGxvYWRGaWxlcyhpbnB1dElkLCBvdXRwdXRJZCkgewogIGNvbnN0IHN0ZXBzID0gdXBsb2FkRmlsZXNTdGVwKGlucHV0SWQsIG91dHB1dElkKTsKICBjb25zdCBvdXRwdXRFbGVtZW50ID0gZG9jdW1lbnQuZ2V0RWxlbWVudEJ5SWQob3V0cHV0SWQpOwogIC8vIENhY2hlIHN0ZXBzIG9uIHRoZSBvdXRwdXRFbGVtZW50IHRvIG1ha2UgaXQgYXZhaWxhYmxlIGZvciB0aGUgbmV4dCBjYWxsCiAgLy8gdG8gdXBsb2FkRmlsZXNDb250aW51ZSBmcm9tIFB5dGhvbi4KICBvdXRwdXRFbGVtZW50LnN0ZXBzID0gc3RlcHM7CgogIHJldHVybiBfdXBsb2FkRmlsZXNDb250aW51ZShvdXRwdXRJZCk7Cn0KCi8vIFRoaXMgaXMgcm91Z2hseSBhbiBhc3luYyBnZW5lcmF0b3IgKG5vdCBzdXBwb3J0ZWQgaW4gdGhlIGJyb3dzZXIgeWV0KSwKLy8gd2hlcmUgdGhlcmUgYXJlIG11bHRpcGxlIGFzeW5jaHJvbm91cyBzdGVwcyBhbmQgdGhlIFB5dGhvbiBzaWRlIGlzIGdvaW5nCi8vIHRvIHBvbGwgZm9yIGNvbXBsZXRpb24gb2YgZWFjaCBzdGVwLgovLyBUaGlzIHVzZXMgYSBQcm9taXNlIHRvIGJsb2NrIHRoZSBweXRob24gc2lkZSBvbiBjb21wbGV0aW9uIG9mIGVhY2ggc3RlcCwKLy8gdGhlbiBwYXNzZXMgdGhlIHJlc3VsdCBvZiB0aGUgcHJldmlvdXMgc3RlcCBhcyB0aGUgaW5wdXQgdG8gdGhlIG5leHQgc3RlcC4KZnVuY3Rpb24gX3VwbG9hZEZpbGVzQ29udGludWUob3V0cHV0SWQpIHsKICBjb25zdCBvdXRwdXRFbGVtZW50ID0gZG9jdW1lbnQuZ2V0RWxlbWVudEJ5SWQob3V0cHV0SWQpOwogIGNvbnN0IHN0ZXBzID0gb3V0cHV0RWxlbWVudC5zdGVwczsKCiAgY29uc3QgbmV4dCA9IHN0ZXBzLm5leHQob3V0cHV0RWxlbWVudC5sYXN0UHJvbWlzZVZhbHVlKTsKICByZXR1cm4gUHJvbWlzZS5yZXNvbHZlKG5leHQudmFsdWUucHJvbWlzZSkudGhlbigodmFsdWUpID0+IHsKICAgIC8vIENhY2hlIHRoZSBsYXN0IHByb21pc2UgdmFsdWUgdG8gbWFrZSBpdCBhdmFpbGFibGUgdG8gdGhlIG5leHQKICAgIC8vIHN0ZXAgb2YgdGhlIGdlbmVyYXRvci4KICAgIG91dHB1dEVsZW1lbnQubGFzdFByb21pc2VWYWx1ZSA9IHZhbHVlOwogICAgcmV0dXJuIG5leHQudmFsdWUucmVzcG9uc2U7CiAgfSk7Cn0KCi8qKgogKiBHZW5lcmF0b3IgZnVuY3Rpb24gd2hpY2ggaXMgY2FsbGVkIGJldHdlZW4gZWFjaCBhc3luYyBzdGVwIG9mIHRoZSB1cGxvYWQKICogcHJvY2Vzcy4KICogQHBhcmFtIHtzdHJpbmd9IGlucHV0SWQgRWxlbWVudCBJRCBvZiB0aGUgaW5wdXQgZmlsZSBwaWNrZXIgZWxlbWVudC4KICogQHBhcmFtIHtzdHJpbmd9IG91dHB1dElkIEVsZW1lbnQgSUQgb2YgdGhlIG91dHB1dCBkaXNwbGF5LgogKiBAcmV0dXJuIHshSXRlcmFibGU8IU9iamVjdD59IEl0ZXJhYmxlIG9mIG5leHQgc3RlcHMuCiAqLwpmdW5jdGlvbiogdXBsb2FkRmlsZXNTdGVwKGlucHV0SWQsIG91dHB1dElkKSB7CiAgY29uc3QgaW5wdXRFbGVtZW50ID0gZG9jdW1lbnQuZ2V0RWxlbWVudEJ5SWQoaW5wdXRJZCk7CiAgaW5wdXRFbGVtZW50LmRpc2FibGVkID0gZmFsc2U7CgogIGNvbnN0IG91dHB1dEVsZW1lbnQgPSBkb2N1bWVudC5nZXRFbGVtZW50QnlJZChvdXRwdXRJZCk7CiAgb3V0cHV0RWxlbWVudC5pbm5lckhUTUwgPSAnJzsKCiAgY29uc3QgcGlja2VkUHJvbWlzZSA9IG5ldyBQcm9taXNlKChyZXNvbHZlKSA9PiB7CiAgICBpbnB1dEVsZW1lbnQuYWRkRXZlbnRMaXN0ZW5lcignY2hhbmdlJywgKGUpID0+IHsKICAgICAgcmVzb2x2ZShlLnRhcmdldC5maWxlcyk7CiAgICB9KTsKICB9KTsKCiAgY29uc3QgY2FuY2VsID0gZG9jdW1lbnQuY3JlYXRlRWxlbWVudCgnYnV0dG9uJyk7CiAgaW5wdXRFbGVtZW50LnBhcmVudEVsZW1lbnQuYXBwZW5kQ2hpbGQoY2FuY2VsKTsKICBjYW5jZWwudGV4dENvbnRlbnQgPSAnQ2FuY2VsIHVwbG9hZCc7CiAgY29uc3QgY2FuY2VsUHJvbWlzZSA9IG5ldyBQcm9taXNlKChyZXNvbHZlKSA9PiB7CiAgICBjYW5jZWwub25jbGljayA9ICgpID0+IHsKICAgICAgcmVzb2x2ZShudWxsKTsKICAgIH07CiAgfSk7CgogIC8vIENhbmNlbCB1cGxvYWQgaWYgdXNlciBoYXNuJ3QgcGlja2VkIGFueXRoaW5nIGluIHRpbWVvdXQuCiAgY29uc3QgdGltZW91dFByb21pc2UgPSBuZXcgUHJvbWlzZSgocmVzb2x2ZSkgPT4gewogICAgc2V0VGltZW91dCgoKSA9PiB7CiAgICAgIHJlc29sdmUobnVsbCk7CiAgICB9LCBGSUxFX0NIQU5HRV9USU1FT1VUX01TKTsKICB9KTsKCiAgLy8gV2FpdCBmb3IgdGhlIHVzZXIgdG8gcGljayB0aGUgZmlsZXMuCiAgY29uc3QgZmlsZXMgPSB5aWVsZCB7CiAgICBwcm9taXNlOiBQcm9taXNlLnJhY2UoW3BpY2tlZFByb21pc2UsIHRpbWVvdXRQcm9taXNlLCBjYW5jZWxQcm9taXNlXSksCiAgICByZXNwb25zZTogewogICAgICBhY3Rpb246ICdzdGFydGluZycsCiAgICB9CiAgfTsKCiAgaWYgKCFmaWxlcykgewogICAgcmV0dXJuIHsKICAgICAgcmVzcG9uc2U6IHsKICAgICAgICBhY3Rpb246ICdjb21wbGV0ZScsCiAgICAgIH0KICAgIH07CiAgfQoKICBjYW5jZWwucmVtb3ZlKCk7CgogIC8vIERpc2FibGUgdGhlIGlucHV0IGVsZW1lbnQgc2luY2UgZnVydGhlciBwaWNrcyBhcmUgbm90IGFsbG93ZWQuCiAgaW5wdXRFbGVtZW50LmRpc2FibGVkID0gdHJ1ZTsKCiAgZm9yIChjb25zdCBmaWxlIG9mIGZpbGVzKSB7CiAgICBjb25zdCBsaSA9IGRvY3VtZW50LmNyZWF0ZUVsZW1lbnQoJ2xpJyk7CiAgICBsaS5hcHBlbmQoc3BhbihmaWxlLm5hbWUsIHtmb250V2VpZ2h0OiAnYm9sZCd9KSk7CiAgICBsaS5hcHBlbmQoc3BhbigKICAgICAgICBgKCR7ZmlsZS50eXBlIHx8ICduL2EnfSkgLSAke2ZpbGUuc2l6ZX0gYnl0ZXMsIGAgKwogICAgICAgIGBsYXN0IG1vZGlmaWVkOiAkewogICAgICAgICAgICBmaWxlLmxhc3RNb2RpZmllZERhdGUgPyBmaWxlLmxhc3RNb2RpZmllZERhdGUudG9Mb2NhbGVEYXRlU3RyaW5nKCkgOgogICAgICAgICAgICAgICAgICAgICAgICAgICAgICAgICAgICAnbi9hJ30gLSBgKSk7CiAgICBjb25zdCBwZXJjZW50ID0gc3BhbignMCUgZG9uZScpOwogICAgbGkuYXBwZW5kQ2hpbGQocGVyY2VudCk7CgogICAgb3V0cHV0RWxlbWVudC5hcHBlbmRDaGlsZChsaSk7CgogICAgY29uc3QgZmlsZURhdGFQcm9taXNlID0gbmV3IFByb21pc2UoKHJlc29sdmUpID0+IHsKICAgICAgY29uc3QgcmVhZGVyID0gbmV3IEZpbGVSZWFkZXIoKTsKICAgICAgcmVhZGVyLm9ubG9hZCA9IChlKSA9PiB7CiAgICAgICAgcmVzb2x2ZShlLnRhcmdldC5yZXN1bHQpOwogICAgICB9OwogICAgICByZWFkZXIucmVhZEFzQXJyYXlCdWZmZXIoZmlsZSk7CiAgICB9KTsKICAgIC8vIFdhaXQgZm9yIHRoZSBkYXRhIHRvIGJlIHJlYWR5LgogICAgbGV0IGZpbGVEYXRhID0geWllbGQgewogICAgICBwcm9taXNlOiBmaWxlRGF0YVByb21pc2UsCiAgICAgIHJlc3BvbnNlOiB7CiAgICAgICAgYWN0aW9uOiAnY29udGludWUnLAogICAgICB9CiAgICB9OwoKICAgIC8vIFVzZSBhIGNodW5rZWQgc2VuZGluZyB0byBhdm9pZCBtZXNzYWdlIHNpemUgbGltaXRzLiBTZWUgYi82MjExNTY2MC4KICAgIGxldCBwb3NpdGlvbiA9IDA7CiAgICB3aGlsZSAocG9zaXRpb24gPCBmaWxlRGF0YS5ieXRlTGVuZ3RoKSB7CiAgICAgIGNvbnN0IGxlbmd0aCA9IE1hdGgubWluKGZpbGVEYXRhLmJ5dGVMZW5ndGggLSBwb3NpdGlvbiwgTUFYX1BBWUxPQURfU0laRSk7CiAgICAgIGNvbnN0IGNodW5rID0gbmV3IFVpbnQ4QXJyYXkoZmlsZURhdGEsIHBvc2l0aW9uLCBsZW5ndGgpOwogICAgICBwb3NpdGlvbiArPSBsZW5ndGg7CgogICAgICBjb25zdCBiYXNlNjQgPSBidG9hKFN0cmluZy5mcm9tQ2hhckNvZGUuYXBwbHkobnVsbCwgY2h1bmspKTsKICAgICAgeWllbGQgewogICAgICAgIHJlc3BvbnNlOiB7CiAgICAgICAgICBhY3Rpb246ICdhcHBlbmQnLAogICAgICAgICAgZmlsZTogZmlsZS5uYW1lLAogICAgICAgICAgZGF0YTogYmFzZTY0LAogICAgICAgIH0sCiAgICAgIH07CiAgICAgIHBlcmNlbnQudGV4dENvbnRlbnQgPQogICAgICAgICAgYCR7TWF0aC5yb3VuZCgocG9zaXRpb24gLyBmaWxlRGF0YS5ieXRlTGVuZ3RoKSAqIDEwMCl9JSBkb25lYDsKICAgIH0KICB9CgogIC8vIEFsbCBkb25lLgogIHlpZWxkIHsKICAgIHJlc3BvbnNlOiB7CiAgICAgIGFjdGlvbjogJ2NvbXBsZXRlJywKICAgIH0KICB9Owp9CgpzY29wZS5nb29nbGUgPSBzY29wZS5nb29nbGUgfHwge307CnNjb3BlLmdvb2dsZS5jb2xhYiA9IHNjb3BlLmdvb2dsZS5jb2xhYiB8fCB7fTsKc2NvcGUuZ29vZ2xlLmNvbGFiLl9maWxlcyA9IHsKICBfdXBsb2FkRmlsZXMsCiAgX3VwbG9hZEZpbGVzQ29udGludWUsCn07Cn0pKHNlbGYpOwo=",
              "ok": true,
              "headers": [
                [
                  "content-type",
                  "application/javascript"
                ]
              ],
              "status": 200,
              "status_text": ""
            }
          },
          "base_uri": "https://localhost:8080/",
          "height": 107
        },
        "outputId": "f5c16a70-e67a-4117-c76e-d7c495d70943",
        "executionInfo": {
          "status": "ok",
          "timestamp": 1532244921972,
          "user_tz": -330,
          "elapsed": 30889,
          "user": {
            "displayName": "ankur raja",
            "photoUrl": "//lh3.googleusercontent.com/-P3hjYlx442I/AAAAAAAAAAI/AAAAAAAAAJ8/_AwxqjC6DhE/s50-c-k-no/photo.jpg",
            "userId": "111833698361307138454"
          }
        }
      },
      "cell_type": "code",
      "source": [
        "from google.colab import files\n",
        "files.upload()"
      ],
      "execution_count": 1,
      "outputs": [
        {
          "output_type": "display_data",
          "data": {
            "text/html": [
              "\n",
              "     <input type=\"file\" id=\"files-a0a4a280-0f36-45eb-9cbf-edd5be306c30\" name=\"files[]\" multiple disabled />\n",
              "     <output id=\"result-a0a4a280-0f36-45eb-9cbf-edd5be306c30\">\n",
              "      Upload widget is only available when the cell has been executed in the\n",
              "      current browser session. Please rerun this cell to enable.\n",
              "      </output>\n",
              "      <script src=\"/nbextensions/google.colab/files.js\"></script> "
            ],
            "text/plain": [
              "<IPython.core.display.HTML object>"
            ]
          },
          "metadata": {
            "tags": []
          }
        },
        {
          "output_type": "stream",
          "text": [
            "Saving College_Data to College_Data\n"
          ],
          "name": "stdout"
        },
        {
          "output_type": "execute_result",
          "data": {
            "text/plain": [
              "{'College_Data': b'\"\",\"Private\",\"Apps\",\"Accept\",\"Enroll\",\"Top10perc\",\"Top25perc\",\"F.Undergrad\",\"P.Undergrad\",\"Outstate\",\"Room.Board\",\"Books\",\"Personal\",\"PhD\",\"Terminal\",\"S.F.Ratio\",\"perc.alumni\",\"Expend\",\"Grad.Rate\"\\n\"Abilene Christian University\",\"Yes\",1660,1232,721,23,52,2885,537,7440,3300,450,2200,70,78,18.1,12,7041,60\\n\"Adelphi University\",\"Yes\",2186,1924,512,16,29,2683,1227,12280,6450,750,1500,29,30,12.2,16,10527,56\\n\"Adrian College\",\"Yes\",1428,1097,336,22,50,1036,99,11250,3750,400,1165,53,66,12.9,30,8735,54\\n\"Agnes Scott College\",\"Yes\",417,349,137,60,89,510,63,12960,5450,450,875,92,97,7.7,37,19016,59\\n\"Alaska Pacific University\",\"Yes\",193,146,55,16,44,249,869,7560,4120,800,1500,76,72,11.9,2,10922,15\\n\"Albertson College\",\"Yes\",587,479,158,38,62,678,41,13500,3335,500,675,67,73,9.4,11,9727,55\\n\"Albertus Magnus College\",\"Yes\",353,340,103,17,45,416,230,13290,5720,500,1500,90,93,11.5,26,8861,63\\n\"Albion College\",\"Yes\",1899,1720,489,37,68,1594,32,13868,4826,450,850,89,100,13.7,37,11487,73\\n\"Albright College\",\"Yes\",1038,839,227,30,63,973,306,15595,4400,300,500,79,84,11.3,23,11644,80\\n\"Alderson-Broaddus College\",\"Yes\",582,498,172,21,44,799,78,10468,3380,660,1800,40,41,11.5,15,8991,52\\n\"Alfred University\",\"Yes\",1732,1425,472,37,75,1830,110,16548,5406,500,600,82,88,11.3,31,10932,73\\n\"Allegheny College\",\"Yes\",2652,1900,484,44,77,1707,44,17080,4440,400,600,73,91,9.9,41,11711,76\\n\"Allentown Coll. of St. Francis de Sales\",\"Yes\",1179,780,290,38,64,1130,638,9690,4785,600,1000,60,84,13.3,21,7940,74\\n\"Alma College\",\"Yes\",1267,1080,385,44,73,1306,28,12572,4552,400,400,79,87,15.3,32,9305,68\\n\"Alverno College\",\"Yes\",494,313,157,23,46,1317,1235,8352,3640,650,2449,36,69,11.1,26,8127,55\\n\"American International College\",\"Yes\",1420,1093,220,9,22,1018,287,8700,4780,450,1400,78,84,14.7,19,7355,69\\n\"Amherst College\",\"Yes\",4302,992,418,83,96,1593,5,19760,5300,660,1598,93,98,8.4,63,21424,100\\n\"Anderson University\",\"Yes\",1216,908,423,19,40,1819,281,10100,3520,550,1100,48,61,12.1,14,7994,59\\n\"Andrews University\",\"Yes\",1130,704,322,14,23,1586,326,9996,3090,900,1320,62,66,11.5,18,10908,46\\n\"Angelo State University\",\"No\",3540,2001,1016,24,54,4190,1512,5130,3592,500,2000,60,62,23.1,5,4010,34\\n\"Antioch University\",\"Yes\",713,661,252,25,44,712,23,15476,3336,400,1100,69,82,11.3,35,42926,48\\n\"Appalachian State University\",\"No\",7313,4664,1910,20,63,9940,1035,6806,2540,96,2000,83,96,18.3,14,5854,70\\n\"Aquinas College\",\"Yes\",619,516,219,20,51,1251,767,11208,4124,350,1615,55,65,12.7,25,6584,65\\n\"Arizona State University Main campus\",\"No\",12809,10308,3761,24,49,22593,7585,7434,4850,700,2100,88,93,18.9,5,4602,48\\n\"Arkansas College (Lyon College)\",\"Yes\",708,334,166,46,74,530,182,8644,3922,500,800,79,88,12.6,24,14579,54\\n\"Arkansas Tech University\",\"No\",1734,1729,951,12,52,3602,939,3460,2650,450,1000,57,60,19.6,5,4739,48\\n\"Assumption College\",\"Yes\",2135,1700,491,23,59,1708,689,12000,5920,500,500,93,93,13.8,30,7100,88\\n\"Auburn University-Main Campus\",\"No\",7548,6791,3070,25,57,16262,1716,6300,3933,600,1908,85,91,16.7,18,6642,69\\n\"Augsburg College\",\"Yes\",662,513,257,12,30,2074,726,11902,4372,540,950,65,65,12.8,31,7836,58\\n\"Augustana College IL\",\"Yes\",1879,1658,497,36,69,1950,38,13353,4173,540,821,78,83,12.7,40,9220,71\\n\"Augustana College\",\"Yes\",761,725,306,21,58,1337,300,10990,3244,600,1021,66,70,10.4,30,6871,69\\n\"Austin College\",\"Yes\",948,798,295,42,74,1120,15,11280,4342,400,1150,81,95,13,33,11361,71\\n\"Averett College\",\"Yes\",627,556,172,16,40,777,538,9925,4135,750,1350,59,67,22.4,11,6523,48\\n\"Baker University\",\"Yes\",602,483,206,21,47,958,466,8620,4100,400,2250,58,68,11,21,6136,65\\n\"Baldwin-Wallace College\",\"Yes\",1690,1366,662,30,61,2718,1460,10995,4410,1000,1000,68,74,17.6,20,8086,85\\n\"Barat College\",\"Yes\",261,192,111,15,36,453,266,9690,4300,500,500,57,77,9.7,35,9337,71\\n\"Bard College\",\"Yes\",1910,838,285,50,85,1004,15,19264,6206,750,750,98,98,10.4,30,13894,79\\n\"Barnard College\",\"Yes\",2496,1402,531,53,95,2121,69,17926,8124,600,850,83,93,10.3,33,12580,91\\n\"Barry University\",\"Yes\",990,784,279,18,45,1811,3144,11290,5360,600,1800,76,78,12.6,11,9084,72\\n\"Baylor University\",\"Yes\",6075,5349,2367,34,66,9919,484,6450,3920,600,1346,71,76,18.5,38,7503,72\\n\"Beaver College\",\"Yes\",1163,850,348,23,56,878,519,12850,5400,400,800,78,89,12.2,30,8954,73\\n\"Bellarmine College\",\"Yes\",807,707,308,39,63,1198,605,8840,2950,750,1290,74,82,13.1,31,6668,84\\n\"Belmont Abbey College\",\"Yes\",632,494,129,17,36,709,131,9000,4850,300,2480,78,85,13.2,10,7550,52\\n\"Belmont University\",\"Yes\",1220,974,481,28,67,1964,623,7800,3664,650,900,61,61,11.1,19,7614,49\\n\"Beloit College\",\"Yes\",1320,923,284,26,54,1085,81,16304,3616,355,715,87,95,11.1,26,12957,69\\n\"Bemidji State University\",\"No\",1208,877,546,12,36,3796,824,4425,2700,660,1800,57,62,19.6,16,3752,46\\n\"Benedictine College\",\"Yes\",632,620,222,14,24,702,501,9550,3850,350,250,64,84,14.1,18,5922,58\\n\"Bennington College\",\"Yes\",519,327,114,25,53,457,2,21700,4100,600,500,35,59,10.1,33,16364,55\\n\"Bentley College\",\"Yes\",3466,2330,640,20,60,3095,1533,13800,5510,630,850,87,87,17.5,20,10941,82\\n\"Berry College\",\"Yes\",1858,1221,480,37,68,1620,49,8050,3940,350,2375,80,80,16.3,17,10511,63\\n\"Bethany College\",\"Yes\",878,816,200,16,41,706,62,8740,3363,550,1700,62,68,11.6,29,7718,48\\n\"Bethel College KS\",\"Yes\",202,184,122,19,42,537,101,8540,3580,500,1400,61,80,8.8,32,8324,56\\n\"Bethel College\",\"Yes\",502,384,104,11,28,347,74,6200,2900,600,800,63,63,11.7,13,7623,35\\n\"Bethune Cookman College\",\"Yes\",1646,1150,542,12,30,2128,82,5188,3396,650,2500,48,48,13.8,9,6817,58\\n\"Birmingham-Southern College\",\"Yes\",805,588,287,67,88,1376,207,11660,4325,400,900,74,79,14,34,8649,72\\n\"Blackburn College\",\"Yes\",500,336,156,25,55,421,27,6500,2700,500,1000,76,76,14.3,53,8377,51\\n\"Bloomsburg Univ. of Pennsylvania\",\"No\",6773,3028,1025,15,55,5847,946,7844,2948,500,1680,66,68,18,19,7041,75\\n\"Bluefield College\",\"Yes\",377,358,181,15,30,653,129,7150,4350,450,1500,61,67,17.8,3,6259,53\\n\"Bluffton College\",\"Yes\",692,514,209,20,50,760,81,9900,3990,400,900,76,71,13.3,19,9073,58\\n\"Boston University\",\"Yes\",20192,13007,3810,45,80,14971,3113,18420,6810,475,1025,80,81,11.9,16,16836,72\\n\"Bowdoin College\",\"Yes\",3356,1019,418,76,100,1490,8,19030,5885,1495,875,93,96,11.2,52,20447,96\\n\"Bowling Green State University\",\"No\",9251,7333,3076,14,45,13699,1213,7452,3352,600,1700,81,89,21.1,14,6918,67\\n\"Bradford College\",\"Yes\",443,330,151,5,36,453,42,14080,6270,500,900,57,80,10.2,21,15387,46\\n\"Bradley University\",\"Yes\",3767,3414,1061,30,58,4531,643,10870,4440,2000,1522,75,81,14.4,21,7671,85\\n\"Brandeis University\",\"Yes\",4186,2743,740,48,77,2819,62,19380,6750,410,1000,90,97,9.8,24,17150,84\\n\"Brenau University\",\"Yes\",367,274,158,12,41,917,479,9592,5879,500,700,71,80,13.7,12,5935,49\\n\"Brewton-Parker College\",\"Yes\",1436,1228,1202,10,26,1320,822,4371,2370,500,2000,62,62,12.6,10,4900,18\\n\"Briar Cliff College\",\"Yes\",392,351,155,16,44,738,430,10260,3597,600,1500,39,66,13.1,26,8355,58\\n\"Bridgewater College\",\"Yes\",838,673,292,22,53,881,55,10265,4725,560,875,68,73,13.2,24,8655,82\\n\"Brigham Young University at Provo\",\"Yes\",7365,5402,4615,48,82,27378,1253,2340,3580,860,1220,76,76,20.5,40,7916,33\\n\"Brown University\",\"Yes\",12586,3239,1462,87,95,5643,349,19528,5926,720,1100,99,100,7.6,39,20440,97\\n\"Bryn Mawr College\",\"Yes\",1465,810,313,71,95,1088,16,18165,6750,500,1200,100,100,12.3,49,17449,89\\n\"Bucknell University\",\"Yes\",6548,3813,862,49,85,3316,31,18550,4750,800,1200,95,97,14.2,36,13675,93\\n\"Buena Vista College\",\"Yes\",860,688,285,32,70,1928,442,13306,3797,450,950,62,69,8.8,10,6333,78\\n\"Butler University\",\"Yes\",2362,2037,700,40,68,2607,148,13130,4650,500,1600,77,81,10.9,29,9511,83\\n\"Cabrini College\",\"Yes\",599,494,224,8,28,1035,446,10518,6250,300,300,59,76,16.5,36,7117,71\\n\"Caldwell College\",\"Yes\",1011,604,213,17,42,693,868,8900,4600,425,1000,87,96,13.9,25,7922,55\\n\"California Lutheran University\",\"Yes\",563,247,247,23,52,1427,432,12950,5300,612,576,72,74,12.4,17,8985,60\\n\"California Polytechnic-San Luis\",\"No\",7811,3817,1650,47,73,12911,1404,7380,4877,612,2091,72,81,19.8,13,8453,59\\n\"California State University at Fresno\",\"No\",4540,3294,1483,5,60,13494,1254,7706,4368,600,1926,90,90,21.2,8,7268,61\\n\"Calvin College\",\"Yes\",1784,1512,913,29,56,3401,136,10230,3710,400,1210,75,81,14.8,41,7786,81\\n\"Campbell University\",\"Yes\",2087,1339,657,20,54,3191,1204,7550,2790,600,500,77,77,21.8,34,3739,63\\n\"Campbellsville College\",\"Yes\",848,587,298,25,55,935,184,6060,3070,600,1300,62,66,17.7,13,5391,49\\n\"Canisius College\",\"Yes\",2853,2193,753,16,34,2978,434,10750,5340,400,1130,90,92,14.6,26,7972,64\\n\"Capital University\",\"Yes\",1747,1382,449,34,66,1662,960,13050,4000,500,800,64,69,12.1,27,9557,83\\n\"Capitol College\",\"Yes\",100,90,35,10,52,282,331,8400,2812,300,2134,10,50,12.1,24,7976,52\\n\"Carleton College\",\"Yes\",2694,1579,489,75,93,1870,12,19292,3957,550,550,81,93,10.4,60,17960,91\\n\"Carnegie Mellon University\",\"Yes\",8728,5201,1191,60,89,4265,291,17900,5690,450,1250,86,93,9.2,31,24386,74\\n\"Carroll College\",\"Yes\",1160,991,352,19,55,1357,737,12200,3880,480,930,74,81,17.8,25,7666,79\\n\"Carson-Newman College\",\"Yes\",1096,951,464,27,62,1776,239,8150,3150,400,500,61,62,13.6,16,6716,67\\n\"Carthage College\",\"Yes\",1616,1427,434,20,43,1405,580,13125,3775,500,1300,74,89,15.9,22,7364,62\\n\"Case Western Reserve University\",\"Yes\",3877,3156,713,71,93,3051,513,15700,4730,525,1460,95,95,2.9,29,19733,67\\n\"Castleton State College\",\"No\",1257,940,363,9,22,1547,294,7656,4690,400,700,89,91,14.7,8,6318,79\\n\"Catawba College\",\"Yes\",1083,880,291,13,34,915,80,9270,4100,600,1860,75,82,13.5,27,8425,55\\n\"Catholic University of America\",\"Yes\",1754,1465,505,24,49,2159,211,13712,6408,526,1100,90,96,9.3,18,12751,75\\n\"Cazenovia College\",\"Yes\",3847,3433,527,9,35,1010,12,9384,4840,600,500,22,47,14.3,20,7697,118\\n\"Cedar Crest College\",\"Yes\",776,607,198,25,58,791,764,14340,5285,500,1000,58,83,11.7,39,10961,74\\n\"Cedarville College\",\"Yes\",1307,1090,616,25,55,2196,82,7344,4410,570,1000,50,52,15.3,34,6897,64\\n\"Centenary College\",\"Yes\",369,312,90,12,46,396,526,11400,5400,500,760,41,85,9.5,20,9583,24\\n\"Centenary College of Louisiana\",\"Yes\",495,434,210,35,55,775,44,8950,3490,600,1900,86,92,11.3,25,9685,66\\n\"Center for Creative Studies\",\"Yes\",601,396,203,1,20,525,323,11230,6643,2340,620,8,58,6.8,4,13025,47\\n\"Central College\",\"Yes\",1283,1113,401,31,65,1355,40,10938,3660,650,600,76,90,13.5,29,8444,67\\n\"Central Connecticut State University\",\"No\",4158,2532,902,6,24,6394,3881,5962,4444,500,985,69,73,16.7,4,4900,49\\n\"Central Missouri State University\",\"No\",4681,4101,1436,10,35,8094,1596,4620,3288,300,2250,69,80,19.7,4,5501,50\\n\"Central Washington University\",\"No\",2785,2011,1007,8,65,6507,898,7242,3603,654,1416,67,89,18.1,0,6413,51\\n\"Central Wesleyan College\",\"Yes\",174,146,88,8,29,1047,33,8300,3080,600,600,62,62,15.2,18,3365,58\\n\"Centre College\",\"Yes\",1013,888,288,55,82,943,7,11850,4270,600,900,95,99,11.4,60,13118,74\\n\"Chapman University\",\"Yes\",959,771,351,23,48,1662,209,16624,5895,600,1100,72,80,12.8,6,12692,47\\n\"Chatham College\",\"Yes\",212,197,91,28,56,471,148,13500,5230,400,850,95,98,9.3,37,16095,52\\n\"Chestnut Hill College\",\"Yes\",342,254,126,25,64,518,232,10335,5015,700,850,71,71,8.3,29,7729,73\\n\"Christendom College\",\"Yes\",81,72,51,33,71,139,3,8730,3600,400,800,92,92,9.3,17,10922,58\\n\"Christian Brothers University\",\"Yes\",880,520,224,16,42,1068,364,9300,3260,600,900,81,81,11.1,24,8129,63\\n\"Christopher Newport University\",\"No\",883,766,428,3,37,2910,1749,7860,4750,525,1889,80,82,21.2,16,4639,48\\n\"Claflin College\",\"Yes\",1196,697,499,21,47,959,13,4412,2460,500,1000,69,69,16.9,31,7083,21\\n\"Claremont McKenna College\",\"Yes\",1860,767,227,71,93,887,1,17000,6010,500,850,99,99,9.6,52,18443,87\\n\"Clark University\",\"Yes\",2887,2059,457,30,61,1928,296,17500,4200,500,950,94,95,10.5,35,11951,79\\n\"Clarke College\",\"Yes\",460,340,167,14,45,604,350,10740,3676,350,900,67,71,11,27,7963,74\\n\"Clarkson University\",\"Yes\",2174,1953,557,35,68,2332,53,15960,5580,700,1300,95,95,15.8,32,11659,77\\n\"Clemson University\",\"No\",8065,5257,2301,37,65,11755,770,8116,3610,800,1618,82,88,18,17,7597,73\\n\"Clinch Valley Coll. of  the Univ. of Virginia\",\"No\",689,561,250,15,30,1125,422,7168,3689,600,1900,67,67,18.1,9,4417,46\\n\"Coe College\",\"Yes\",1006,742,275,29,60,1127,205,13925,4390,500,2200,73,86,12.7,32,10141,67\\n\"Coker College\",\"Yes\",604,452,295,15,47,690,222,9888,4502,400,1000,64,77,12.1,39,8741,75\\n\"Colby College\",\"Yes\",2848,1319,456,58,84,1720,35,18930,5590,500,1000,83,94,10.2,41,15954,91\\n\"Colgate University\",\"Yes\",4856,2492,727,46,75,2649,25,19510,5565,500,750,95,98,10.5,45,15494,93\\n\"College Misericordia\",\"Yes\",1432,888,317,29,58,1121,493,10860,5760,550,900,56,62,12.9,23,8604,96\\n\"College of Charleston\",\"No\",4772,3140,1265,22,55,6851,1200,6120,3460,666,2316,73,78,17.2,18,4776,51\\n\"College of Mount St. Joseph\",\"Yes\",798,620,238,14,41,1165,1232,9800,4430,400,1150,46,46,11.1,35,6889,100\\n\"College of Mount St. Vincent\",\"Yes\",946,648,177,23,46,707,432,11790,5770,500,1000,75,77,11.9,35,10015,83\\n\"College of Notre Dame\",\"Yes\",344,264,97,11,42,500,331,12600,5520,630,2250,77,80,10.4,7,9773,43\\n\"College of Notre Dame of Maryland\",\"Yes\",457,356,177,35,61,667,1983,11180,5620,600,700,64,64,11.5,32,7477,75\\n\"College of Saint Benedict\",\"Yes\",938,864,511,29,62,1715,103,12247,4221,500,600,70,88,13.1,26,8847,72\\n\"College of Saint Catherine\",\"Yes\",511,411,186,23,51,1692,562,12224,4440,450,1000,63,87,11.5,32,7315,77\\n\"College of Saint Elizabeth\",\"Yes\",444,359,122,34,53,493,968,10900,5250,380,1000,68,70,11.4,23,9447,78\\n\"College of Saint Rose\",\"Yes\",983,664,249,23,57,1698,894,9990,5666,800,1500,66,71,14.3,28,6084,64\\n\"College of Santa Fe\",\"Yes\",546,447,189,16,42,873,683,11138,4138,600,1200,40,74,14,7,8820,80\\n\"College of St. Joseph\",\"Yes\",141,118,55,12,21,201,173,8300,4850,450,1300,53,53,9.5,19,6936,76\\n\"College of St. Scholastica\",\"Yes\",672,596,278,29,60,1350,275,11844,3696,450,1146,54,76,11.6,33,8996,72\\n\"College of the Holy Cross\",\"Yes\",2994,1691,659,70,95,2675,22,18000,6300,400,900,92,96,11.3,55,12138,95\\n\"College of William and Mary\",\"No\",7117,3106,1217,68,88,5186,134,11720,4298,600,800,89,92,12.1,31,9534,93\\n\"College of Wooster\",\"Yes\",2100,1883,553,29,65,1704,1,16240,4690,500,500,84,96,11.1,43,14140,69\\n\"Colorado College\",\"Yes\",3207,1577,490,56,87,1892,7,17142,4190,450,1200,85,97,11.3,51,14664,84\\n\"Colorado State University\",\"No\",9478,6312,2194,29,65,15646,1829,8412,4180,470,1800,87,89,19.2,10,7850,59\\n\"Columbia College MO\",\"Yes\",314,158,132,10,28,690,5346,8294,3700,400,900,87,87,15.3,2,5015,37\\n\"Columbia College\",\"Yes\",737,614,242,21,67,968,237,10425,3975,500,1500,61,77,14.7,34,8693,76\\n\"Columbia University\",\"Yes\",6756,1930,871,78,96,3376,55,18624,6664,550,300,97,98,5.9,21,30639,99\\n\"Concordia College at St. Paul\",\"Yes\",281,266,139,13,29,1049,181,10500,3750,450,950,69,75,12.8,18,6955,45\\n\"Concordia Lutheran College\",\"Yes\",232,216,106,16,34,534,172,6900,3800,450,1825,67,76,12.1,9,6875,42\\n\"Concordia University CA\",\"Yes\",688,497,144,30,75,641,101,10800,4440,570,1515,55,60,13.1,13,8415,55\\n\"Concordia University\",\"Yes\",528,403,186,22,56,1168,145,9216,4191,400,1000,56,64,12.1,13,7309,75\\n\"Connecticut College\",\"Yes\",3035,1546,438,42,93,1630,232,18740,6300,600,500,86,95,10.7,40,14773,91\\n\"Converse College\",\"Yes\",440,407,149,35,70,643,80,12050,3700,500,900,63,76,10.2,31,10965,75\\n\"Cornell College\",\"Yes\",1538,1329,383,33,68,1140,10,15248,4323,550,800,71,76,12.2,31,10340,64\\n\"Creighton University\",\"Yes\",2967,2836,876,30,60,3450,644,10628,4372,650,2055,85,90,6.5,32,22906,85\\n\"Culver-Stockton College\",\"Yes\",1576,1110,274,24,55,992,112,8000,3700,400,500,51,52,14.1,28,5807,51\\n\"Cumberland College\",\"Yes\",995,789,398,26,47,1306,122,6230,3526,400,600,42,44,13,4,8189,63\\n\"D\\'Youville College\",\"Yes\",866,619,157,18,47,1074,336,8920,4310,680,1320,68,68,14.6,42,6898,46\\n\"Dana College\",\"Yes\",504,482,185,10,36,550,84,9130,3322,450,1450,46,51,12.6,25,8686,54\\n\"Daniel Webster College\",\"Yes\",585,508,153,12,30,460,536,12292,4934,500,500,61,61,22.2,10,8643,72\\n\"Dartmouth College\",\"Yes\",8587,2273,1087,87,99,3918,32,19545,6070,550,1100,95,99,4.7,49,29619,98\\n\"Davidson College\",\"Yes\",2373,956,452,77,96,1601,6,17295,5070,600,1011,95,97,12,46,17581,94\\n\"Defiance College\",\"Yes\",571,461,174,10,26,645,283,10850,3670,400,1159,58,60,12.8,19,7505,56\\n\"Delta State University\",\"No\",967,945,459,15,48,2806,538,4528,1880,500,1200,49,63,17.1,16,5113,58\\n\"Denison University\",\"Yes\",2762,2279,533,32,60,1835,14,16900,4720,500,600,88,97,11.6,45,12423,81\\n\"DePauw University\",\"Yes\",1994,1656,495,50,80,1983,36,14300,5020,550,950,78,94,11.1,31,11525,82\\n\"Dickinson College\",\"Yes\",3014,2539,487,31,68,1889,62,18700,5000,595,1250,87,94,11.2,39,13861,87\\n\"Dickinson State University\",\"No\",434,412,319,10,30,1376,237,4486,2146,600,2000,50,64,16.5,28,4525,46\\n\"Dillard University\",\"Yes\",1998,1376,651,41,88,1539,45,6700,3650,500,2307,52,52,14.1,12,7566,61\\n\"Doane College\",\"Yes\",793,709,244,20,47,1022,411,9570,3000,400,1000,67,72,15.1,42,6852,60\\n\"Dominican College of Blauvelt\",\"Yes\",360,329,108,4,19,756,863,8310,5500,600,1800,43,43,12.7,5,5480,54\\n\"Dordt College\",\"Yes\",604,562,328,25,50,1048,56,9800,2650,450,2800,61,60,12.5,17,7325,87\\n\"Dowling College\",\"Yes\",1011,829,410,9,33,1059,2458,9000,3100,450,1413,77,78,12.4,7,11178,42\\n\"Drake University\",\"Yes\",2799,2573,839,34,65,3322,726,13420,4770,560,1675,88,93,15,24,9473,77\\n\"Drew University\",\"Yes\",2153,1580,321,56,84,1192,87,18432,5616,520,660,93,97,10.2,28,14907,83\\n\"Drury College\",\"Yes\",700,650,314,33,66,1065,48,8730,3523,500,750,82,92,13.2,35,9303,67\\n\"Duke University\",\"Yes\",13789,3893,1583,90,98,6188,53,18590,5950,625,1162,95,96,5,44,27206,97\\n\"Earlham College\",\"Yes\",1358,1006,274,35,63,1028,13,15036,4056,600,600,90,94,10.6,46,14634,78\\n\"East Carolina University\",\"No\",9274,6362,2435,14,44,13171,1687,7248,3240,500,1700,74,78,13.2,18,9002,58\\n\"East Tennessee State University\",\"No\",3330,2730,1303,15,36,6706,2640,5800,3000,600,2200,73,75,14,9,9825,42\\n\"East Texas Baptist University\",\"Yes\",379,341,265,10,36,1050,151,4950,2780,530,1500,62,62,15.7,7,5619,38\\n\"Eastern College\",\"Yes\",458,369,165,16,42,1057,355,11190,4800,450,1230,60,60,13.6,22,8135,54\\n\"Eastern Connecticut State University\",\"No\",2172,1493,564,14,50,2766,1531,5962,4316,650,500,71,76,16.9,14,5719,50\\n\"Eastern Illinois University\",\"No\",5597,4253,1565,12,38,9161,845,5710,3066,120,1730,62,71,16.2,5,5682,76\\n\"Eastern Mennonite College\",\"Yes\",486,440,227,19,48,903,59,9650,3800,600,1300,46,65,11.4,29,10188,82\\n\"Eastern Nazarene College\",\"Yes\",516,409,200,17,40,1238,30,8770,3500,450,700,58,58,17.3,17,6430,70\\n\"Eckerd College\",\"Yes\",1422,1109,366,33,65,1363,23,15360,4080,600,1000,82,89,12.8,26,15003,59\\n\"Elizabethtown College\",\"Yes\",2417,1843,426,36,70,1476,299,14190,4400,500,750,65,68,12.8,25,9815,81\\n\"Elmira College\",\"Yes\",1457,1045,345,27,50,1109,502,14990,4980,450,550,77,98,21.5,21,7502,64\\n\"Elms College\",\"Yes\",245,208,125,23,46,544,436,11800,4765,450,1700,71,71,11.3,21,8952,86\\n\"Elon College\",\"Yes\",3624,2786,858,11,39,2933,334,9100,3883,490,1777,70,74,18.9,34,6329,63\\n\"Embry Riddle Aeronautical University\",\"Yes\",3151,2584,958,14,40,4772,856,7800,3750,570,3020,37,43,16.5,4,12878,44\\n\"Emory & Henry College\",\"Yes\",765,646,226,30,60,809,32,8578,4408,700,1600,79,88,13.9,51,8061,82\\n\"Emory University\",\"Yes\",8506,4168,1236,76,97,5544,192,17600,6000,600,870,97,98,5,28,28457,96\\n\"Emporia State University\",\"No\",1256,1256,853,43,79,3957,588,5401,3144,450,1888,72,75,19.3,4,5527,50\\n\"Erskine College\",\"Yes\",659,557,167,47,74,532,35,10485,3840,475,1246,76,80,13.5,47,7527,67\\n\"Eureka College\",\"Yes\",560,454,113,36,56,484,16,10955,3450,330,670,62,87,10.6,31,9552,53\\n\"Evergreen State College\",\"No\",1801,1101,438,14,50,3065,363,6297,4600,600,1323,75,78,18.1,14,8355,68\\n\"Fairfield University\",\"Yes\",4784,3346,781,30,66,2984,1037,15000,6200,700,1100,86,90,15.1,30,11220,94\\n\"Fayetteville State University\",\"No\",1455,1064,452,1,16,2632,617,6806,2550,350,766,75,75,15.1,10,6972,24\\n\"Ferrum College\",\"Yes\",1339,1107,336,12,36,1051,82,9400,4200,500,1600,53,58,12.5,9,7967,22\\n\"Flagler College\",\"Yes\",1415,714,338,18,52,1345,44,5120,3200,500,2140,52,60,18.1,9,3930,69\\n\"Florida Institute of Technology\",\"Yes\",1947,1580,523,39,74,1863,233,13900,4140,750,1500,90,90,10.6,7,8923,57\\n\"Florida International University\",\"No\",3306,2079,1071,42,89,10208,9310,6597,2494,800,3028,81,96,13.9,20,6722,66\\n\"Florida Southern College\",\"Yes\",1381,1040,374,20,44,1506,970,8025,4865,400,650,65,74,17.4,10,6339,68\\n\"Florida State University\",\"No\",11651,8683,3023,50,90,18906,3242,6680,4060,600,1020,80,89,23.1,15,7250,58\\n\"Fontbonne College\",\"Yes\",291,245,126,16,49,981,337,8390,4100,350,1500,45,55,21.5,24,4607,62\\n\"Fordham University\",\"Yes\",4200,2874,942,30,55,4740,1646,14235,6965,600,1735,86,97,14.4,14,10864,80\\n\"Fort Lewis College\",\"No\",3440,2823,1123,16,35,3793,486,6198,3320,500,2500,89,97,19.1,6,4362,46\\n\"Francis Marion University\",\"No\",1801,1655,819,13,38,3224,436,5840,3138,400,2430,76,76,19.1,8,5039,43\\n\"Franciscan University of Steubenville\",\"Yes\",553,452,228,22,49,1301,242,9650,4400,600,1000,57,69,14.9,8,6336,83\\n\"Franklin College\",\"Yes\",804,632,281,29,72,840,68,10390,4040,525,1345,54,78,12.5,37,11751,60\\n\"Franklin Pierce College\",\"Yes\",5187,4471,446,3,14,1818,1197,13320,4630,500,800,50,56,17.6,16,6418,51\\n\"Freed-Hardeman University\",\"Yes\",895,548,314,20,54,1174,50,5500,3340,600,1600,68,76,16.1,13,6078,62\\n\"Fresno Pacific College\",\"Yes\",346,274,146,51,87,704,63,9900,3670,630,1818,59,59,10.5,14,8095,54\\n\"Furman University\",\"Yes\",2161,1951,685,56,82,2371,175,13440,4048,600,1250,92,95,13.5,28,12940,82\\n\"Gannon University\",\"Yes\",2464,1908,678,24,57,2693,691,10970,4280,500,1380,47,51,13.3,18,7711,65\\n\"Gardner Webb University\",\"Yes\",1110,930,332,18,36,1603,374,8180,4270,500,500,65,58,15.2,12,5664,29\\n\"Geneva College\",\"Yes\",668,534,237,19,39,1306,258,9476,4820,500,1100,67,67,20.1,26,6786,74\\n\"George Fox College\",\"Yes\",809,726,294,27,52,1271,43,12500,4130,400,1050,53,53,13.5,22,7136,52\\n\"George Mason University\",\"No\",5653,4326,1727,17,29,9528,3822,10800,4840,580,1050,93,96,19.3,7,6751,46\\n\"George Washington University\",\"Yes\",7875,5062,1492,38,71,5471,1470,17450,6328,700,950,92,93,7.6,15,14745,72\\n\"Georgetown College\",\"Yes\",727,693,286,30,55,1063,48,8100,3950,550,550,73,76,13.3,28,7508,55\\n\"Georgetown University\",\"Yes\",11115,2881,1390,71,93,5881,406,18300,7131,670,1700,91,92,7.2,27,19635,95\\n\"Georgia Institute of Technology\",\"No\",7837,4527,2276,89,99,8528,654,6489,4438,795,1164,92,92,19.3,33,11271,70\\n\"Georgia State University\",\"No\",3793,2341,1238,9,24,7732,9054,6744,2655,720,3450,87,89,19,10,7762,34\\n\"Georgian Court College\",\"Yes\",348,281,127,12,52,1095,785,9150,3950,500,800,56,59,12.2,27,7348,76\\n\"Gettysburg College\",\"Yes\",3596,2466,575,42,78,1944,46,19964,4328,500,500,94,95,12.1,32,14720,83\\n\"Goldey Beacom College\",\"Yes\",633,468,284,10,27,823,963,6120,2985,531,1830,25,25,27.6,4,6081,36\\n\"Gonzaga University\",\"Yes\",1886,1524,526,31,67,2523,296,13000,4450,600,2400,78,90,14.7,32,9553,69\\n\"Gordon College\",\"Yes\",674,565,282,25,54,1151,39,12200,4070,400,1200,73,82,14.2,32,9226,66\\n\"Goshen College\",\"Yes\",440,396,221,26,51,910,166,9420,3730,600,1230,51,56,9.9,46,10270,72\\n\"Goucher College\",\"Yes\",1151,813,248,40,64,850,80,15588,6174,500,1200,78,90,9.2,34,16623,77\\n\"Grace College and Seminary\",\"Yes\",548,428,167,18,46,618,113,8958,3670,300,1000,53,59,15.3,26,9798,64\\n\"Graceland College\",\"Yes\",555,414,242,14,41,996,2281,9100,3100,550,880,51,61,23.6,24,5609,47\\n\"Grand Valley State University\",\"No\",5165,3887,1561,20,60,8234,2619,6108,3800,500,1000,64,66,20.6,9,5063,57\\n\"Green Mountain College\",\"Yes\",780,628,198,7,20,545,42,11750,2700,400,850,77,83,14,24,6475,76\\n\"Greensboro College\",\"Yes\",608,494,176,10,31,649,314,8330,3770,550,1300,64,80,13,31,7949,39\\n\"Greenville College\",\"Yes\",510,387,194,20,46,771,53,10310,4530,400,800,57,61,14.3,16,8222,60\\n\"Grinnell College\",\"Yes\",2039,1389,432,56,91,1333,30,15688,4618,400,400,88,92,9.5,54,18979,83\\n\"Grove City College\",\"Yes\",2491,1110,573,57,88,2213,35,5224,3048,525,350,65,65,18.4,18,4957,100\\n\"Guilford College\",\"Yes\",1202,1054,326,18,44,1410,299,13404,5160,450,1050,78,86,15.6,30,9114,65\\n\"Gustavus Adolphus College\",\"Yes\",1709,1385,634,36,72,2281,50,14125,3600,400,700,79,89,12.5,58,9907,80\\n\"Gwynedd Mercy College\",\"Yes\",380,237,104,30,56,716,1108,11000,5550,500,500,36,41,7.8,22,7483,96\\n\"Hamilton College\",\"Yes\",3140,1783,454,40,82,1646,24,19700,5050,300,800,91,96,9.6,60,17761,91\\n\"Hamline University\",\"Yes\",1006,825,328,34,73,1362,102,13252,4194,450,550,89,93,13,33,10296,65\\n\"Hampden - Sydney College\",\"Yes\",817,644,307,20,40,945,1,13218,4773,660,600,95,97,13.3,53,12263,69\\n\"Hampton University\",\"Yes\",7178,3755,1433,25,63,4623,740,7161,3518,600,2000,60,64,14,9,6791,70\\n\"Hanover College\",\"Yes\",1006,837,317,33,65,1024,15,8200,3485,500,1200,84,84,10.6,26,9248,64\\n\"Hardin-Simmons University\",\"Yes\",467,424,350,16,40,1365,334,6300,2980,700,2140,75,79,13.7,10,7054,38\\n\"Harding University\",\"Yes\",1721,1068,806,35,75,3128,213,5504,3528,700,910,71,77,17.7,37,6466,73\\n\"Hartwick College\",\"Yes\",2083,1725,430,22,49,1464,67,17480,4780,500,700,75,87,12.3,32,11625,73\\n\"Harvard University\",\"Yes\",13865,2165,1606,90,100,6862,320,18485,6410,500,1920,97,97,9.9,52,37219,100\\n\"Harvey Mudd College\",\"Yes\",1377,572,178,95,100,654,5,17230,6690,700,900,100,100,8.2,46,21569,100\\n\"Hastings College\",\"Yes\",817,708,262,22,52,935,37,9376,3272,500,1902,57,63,13,17,7335,52\\n\"Hendrix College\",\"Yes\",823,721,274,52,87,954,6,8800,3195,500,1200,82,99,13.1,26,8588,63\\n\"Hillsdale College\",\"Yes\",920,745,347,35,66,1133,42,11090,4700,400,750,80,80,12,31,12639,79\\n\"Hiram College\",\"Yes\",922,729,244,37,66,1000,275,14067,4560,400,1000,75,95,10.6,34,12165,79\\n\"Hobart and William Smith Colleges\",\"Yes\",2688,2081,500,25,53,1792,5,19029,5841,600,600,99,99,12.1,37,13040,79\\n\"Hofstra University\",\"Yes\",7428,5860,1349,25,63,6534,1350,11600,5920,1000,1000,81,90,13.9,10,10093,60\\n\"Hollins College\",\"Yes\",602,498,215,26,58,795,74,13470,5515,500,850,78,91,11.1,48,13957,72\\n\"Hood College\",\"Yes\",699,565,176,36,64,710,399,13960,6040,450,690,82,88,14.4,34,12434,72\\n\"Hope College\",\"Yes\",1712,1483,624,37,69,2505,208,12275,4341,465,1100,72,81,12.5,40,9284,72\\n\"Houghton College\",\"Yes\",949,786,302,30,70,1210,26,9990,3550,500,1500,85,90,15,24,8187,67\\n\"Huntingdon College\",\"Yes\",608,520,127,26,47,538,126,8080,3920,500,1100,63,72,11.4,9,7703,44\\n\"Huntington College\",\"Yes\",450,430,125,20,46,488,43,9950,3920,300,1300,76,76,11.8,25,9466,47\\n\"Huron University\",\"Yes\",600,197,124,3,9,392,69,7260,3090,600,1840,31,35,12.9,4,9249,21\\n\"Husson College\",\"Yes\",723,652,361,10,30,951,706,7800,4000,350,1500,36,44,22,4,4923,84\\n\"Illinois Benedictine College\",\"Yes\",607,558,269,22,47,1222,519,10500,4348,650,1500,81,91,11.6,29,8324,75\\n\"Illinois College\",\"Yes\",894,787,262,28,63,909,28,8050,3850,600,1000,75,75,15.6,30,7348,52\\n\"Illinois Institute of Technology\",\"Yes\",1756,1360,478,42,77,1911,626,14550,4620,500,700,80,88,12.3,26,12851,56\\n\"Illinois State University\",\"No\",8681,6695,2408,10,35,15701,1823,7799,3403,537,2605,77,84,21,16,5569,54\\n\"Illinois Wesleyan University\",\"Yes\",3050,1342,471,55,86,1818,23,14360,4090,400,650,77,92,12.9,34,9605,83\\n\"Immaculata College\",\"Yes\",268,253,103,16,44,494,1305,10000,5364,500,1000,56,64,11.2,33,7305,69\\n\"Incarnate Word College\",\"Yes\",1163,927,386,16,49,1685,556,8840,4689,750,2775,67,69,11.4,21,6095,95\\n\"Indiana State University\",\"No\",5659,4761,3147,10,31,8596,1949,6892,3706,600,2500,72,76,16.6,8,6996,40\\n\"Indiana University at Bloomington\",\"No\",16587,13243,5873,25,72,24763,2717,9766,3990,600,2000,77,88,21.3,24,8686,68\\n\"Indiana Wesleyan University\",\"Yes\",735,423,366,20,48,2448,707,9210,3782,700,1000,49,51,39.8,15,6562,34\\n\"Iona College\",\"Yes\",4892,3530,913,13,33,3906,1446,10690,6790,570,1150,66,83,16,14,8107,66\\n\"Iowa State University\",\"No\",8427,7424,3441,26,59,18676,1715,7550,3224,640,2055,81,88,19.2,22,8420,65\\n\"Ithaca College\",\"Yes\",7259,5526,1368,23,52,5612,166,14424,6192,634,1000,58,79,11.5,25,9812,75\\n\"James Madison University\",\"No\",11223,5285,2082,32,72,9652,742,7994,4544,500,732,77,81,17.9,29,5212,98\\n\"Jamestown College\",\"Yes\",472,410,262,14,41,9950,71,7620,3050,400,400,51,53,17,21,3186,54\\n\"Jersey City State College\",\"No\",2957,1423,691,10,30,3817,1394,3946,4800,400,1500,63,67,14.9,10,8367,26\\n\"John Brown University\",\"Yes\",605,405,284,24,53,961,99,6398,3672,400,1350,68,68,13.3,19,8118,75\\n\"John Carroll University\",\"Yes\",2421,2109,820,27,57,3168,392,11700,5550,600,450,89,90,14.5,28,7738,89\\n\"Johns Hopkins University\",\"Yes\",8474,3446,911,75,94,3566,1569,18800,6740,500,1040,96,97,3.3,38,56233,90\\n\"Johnson State College\",\"No\",833,669,279,3,13,1224,345,7656,4690,500,624,80,91,14.4,15,6564,36\\n\"Judson College\",\"Yes\",313,228,137,10,30,552,67,9414,4554,500,1700,34,55,10.6,30,7840,56\\n\"Juniata College\",\"Yes\",1005,859,298,36,55,1075,43,14850,4460,450,420,97,97,12.7,37,12067,80\\n\"Kansas State University\",\"No\",5880,4075,2833,25,55,14914,2246,6995,3120,600,2000,76,86,18.5,22,6122,54\\n\"Kansas Wesleyan University\",\"Yes\",589,575,148,16,40,474,258,8400,3250,500,1400,63,55,12.4,14,6535,68\\n\"Keene State College\",\"No\",3121,2446,822,5,19,3480,776,7870,4157,500,1150,73,73,16.1,13,6195,61\\n\"Kentucky Wesleyan College\",\"Yes\",584,497,175,20,49,662,121,8000,4150,500,1300,57,65,11.3,32,7058,62\\n\"Kenyon College\",\"Yes\",2212,1538,408,44,75,1445,1,19240,3690,750,480,95,95,11.1,46,14067,88\\n\"Keuka College\",\"Yes\",461,381,174,10,43,738,55,9600,4550,600,750,55,94,13.3,43,7863,51\\n\"King\\'s College\",\"Yes\",1456,1053,381,20,45,500,541,10910,5160,400,1795,66,72,15.6,37,7649,87\\n\"King College\",\"Yes\",355,300,142,34,65,509,44,8664,3350,600,3000,65,68,10.7,25,8954,65\\n\"Knox College\",\"Yes\",1040,845,286,48,77,967,24,15747,4062,400,800,88,95,12.7,33,13224,79\\n\"La Roche College\",\"Yes\",361,321,185,10,41,650,819,8842,4782,600,1100,57,73,14.2,14,7022,52\\n\"La Salle University\",\"Yes\",2929,1834,622,20,56,2738,1662,12600,5610,450,3160,90,90,15.1,9,9084,84\\n\"Lafayette College\",\"Yes\",4010,2402,572,36,59,2018,226,18730,5740,600,1000,93,96,10.5,38,15365,92\\n\"LaGrange College\",\"Yes\",544,399,177,15,35,600,363,6987,3585,750,1500,77,83,12.5,12,9067,75\\n\"Lake Forest College\",\"Yes\",979,638,271,31,70,968,20,16880,3970,920,1320,91,94,10.7,19,15687,77\\n\"Lakeland College\",\"Yes\",497,452,231,24,47,887,1957,9400,4005,500,1000,49,65,17.2,25,4054,57\\n\"Lamar University\",\"No\",2336,1725,1043,10,27,5438,4058,4752,3040,508,1463,48,82,18.4,12,5879,26\\n\"Lambuth University\",\"Yes\",831,538,224,15,35,840,325,5170,3430,600,1590,61,61,16.1,10,5531,60\\n\"Lander University\",\"No\",1166,1009,510,9,33,2074,341,4938,2987,528,1702,67,77,17,11,6119,51\\n\"Lawrence University\",\"Yes\",1243,947,324,50,77,1129,74,17163,3891,525,975,76,92,10.1,57,13965,77\\n\"Le Moyne College\",\"Yes\",1470,1199,425,21,76,1820,558,11040,4840,400,900,89,92,13.3,28,8118,94\\n\"Lebanon Valley College\",\"Yes\",1386,1060,320,28,56,965,502,13850,4755,400,1125,84,84,12.3,30,8196,85\\n\"Lehigh University\",\"Yes\",6397,4304,1092,40,84,4298,132,18700,5580,750,1130,96,99,12.5,43,14665,91\\n\"Lenoir-Rhyne College\",\"Yes\",979,743,259,25,46,1188,166,10100,4000,400,1000,88,92,12,20,8539,66\\n\"Lesley College\",\"Yes\",244,198,82,12,33,1134,336,11700,5300,550,805,71,88,27.8,18,8694,58\\n\"LeTourneau University\",\"Yes\",477,417,204,29,54,1532,77,8840,4240,600,1400,58,70,20.8,23,6863,56\\n\"Lewis and Clark College\",\"Yes\",2774,2092,482,35,64,1763,59,15800,4790,450,950,97,98,12.3,21,12999,69\\n\"Lewis University\",\"Yes\",1154,1050,395,12,31,2192,1423,10560,4520,500,1200,36,48,14.3,10,7701,61\\n\"Lincoln Memorial University\",\"Yes\",787,562,363,21,55,925,605,5950,2890,600,1300,67,72,14.6,35,5177,53\\n\"Lincoln University\",\"No\",1660,1091,326,15,41,1196,33,4818,3400,350,1400,71,72,12.6,8,10912,45\\n\"Lindenwood College\",\"Yes\",810,484,356,6,33,2155,191,9200,4800,1000,4200,65,85,24.1,9,3480,100\\n\"Linfield College\",\"Yes\",1561,1188,458,48,72,1548,840,13380,4210,500,900,89,91,17.8,34,8747,81\\n\"Livingstone College\",\"Yes\",900,473,217,22,47,621,11,4400,3400,800,900,53,93,10.4,16,9268,92\\n\"Lock Haven University of Pennsylvania\",\"No\",3570,2215,651,17,41,3390,325,7352,3620,225,500,47,55,16.1,14,6374,63\\n\"Longwood College\",\"No\",2747,1870,724,12,47,2874,118,7920,3962,550,2200,74,80,18.4,23,5553,62\\n\"Loras College\",\"Yes\",1641,1283,527,20,39,1663,170,11200,4000,500,1200,61,62,14.2,24,7578,70\\n\"Louisiana College\",\"Yes\",2013,1053,212,33,61,912,158,5150,3036,500,1655,64,74,10.5,11,7547,59\\n\"Louisiana State University at Baton Rouge\",\"No\",5996,4993,3079,29,57,16269,3757,5925,2980,600,2242,83,87,15.9,11,6741,37\\n\"Louisiana Tech University\",\"No\",2397,2144,1525,22,45,6720,1822,3957,2325,618,1656,66,77,20,13,4546,45\\n\"Loyola College\",\"Yes\",4076,3137,738,25,54,3010,184,12990,6300,600,900,86,88,14.7,27,9448,80\\n\"Loyola Marymount University\",\"Yes\",3768,2662,753,42,64,3558,436,13592,5916,545,1328,84,88,14.2,10,11677,84\\n\"Loyola University\",\"Yes\",1891,1698,719,24,80,2740,761,11100,5870,600,750,77,88,11.7,14,9456,53\\n\"Loyola University Chicago\",\"Yes\",3579,2959,868,25,55,5244,3417,11500,5330,700,2000,94,95,6.2,15,13009,65\\n\"Luther College\",\"Yes\",1549,1392,587,38,72,2269,85,13240,3560,600,400,73,85,13.8,38,8949,77\\n\"Lycoming College\",\"Yes\",1286,1005,363,16,37,1363,74,13900,4300,500,900,75,81,14,32,8024,72\\n\"Lynchburg College\",\"Yes\",1756,1500,366,3,21,1524,280,12450,5400,450,870,62,66,12.4,24,8832,70\\n\"Lyndon State College\",\"No\",535,502,223,6,20,959,150,7320,4640,500,600,48,65,12.6,15,7114,51\\n\"Macalester College\",\"Yes\",2939,1496,452,56,86,1723,113,15909,4772,500,700,85,91,11.9,37,14213,77\\n\"MacMurray College\",\"Yes\",740,558,177,12,29,628,63,9620,3750,550,950,49,55,10.8,33,10642,59\\n\"Malone College\",\"Yes\",874,758,428,21,46,1605,246,9858,3700,450,1200,42,45,17.6,16,4796,55\\n\"Manchester College\",\"Yes\",1004,802,239,23,63,909,51,10440,3850,525,1450,63,72,11.8,20,7940,64\\n\"Manhattan College\",\"Yes\",2432,1730,563,20,63,2578,254,12370,6800,500,1800,92,92,13.6,25,10062,79\\n\"Manhattanville College\",\"Yes\",962,750,212,21,54,830,150,14700,6550,450,400,97,97,11.3,24,11291,70\\n\"Mankato State University\",\"No\",3073,2672,1547,9,29,9649,1792,4300,2643,450,1660,57,68,19,11,5801,68\\n\"Marian College of Fond du Lac\",\"Yes\",824,670,337,15,41,1160,653,9400,3400,500,1100,37,37,8.4,21,5352,59\\n\"Marietta College\",\"Yes\",1611,960,342,27,60,1089,210,13850,3920,470,810,80,97,13.2,30,10223,96\\n\"Marist College\",\"Yes\",4731,3171,830,12,31,3557,658,10700,5925,550,1200,74,81,17.6,34,8408,69\\n\"Marquette University\",\"Yes\",5152,4600,1685,36,71,7016,804,11610,4760,600,1950,86,94,13.5,25,9982,77\\n\"Marshall University\",\"Yes\",4226,3666,2007,14,60,7703,2339,5094,4010,700,1560,77,86,16.6,10,6203,50\\n\"Mary Baldwin College\",\"Yes\",499,441,199,26,52,846,377,11200,7400,600,1300,66,79,6.8,50,10819,90\\n\"Mary Washington College\",\"No\",4350,2178,756,39,78,2997,736,6490,4942,650,2102,75,80,17.6,30,5358,84\\n\"Marymount College Tarrytown\",\"Yes\",478,327,117,9,34,731,370,11510,6450,575,1075,71,93,10.3,30,10502,77\\n\"Marymount Manhattan College\",\"Yes\",695,535,239,21,30,988,785,10200,7000,350,1100,63,76,11.7,20,10622,68\\n\"Marymount University\",\"Yes\",941,772,214,10,30,1247,776,11390,5280,500,750,77,82,10.6,17,8575,55\\n\"Maryville College\",\"Yes\",1464,888,176,26,52,624,128,11200,4208,500,1642,80,90,11.1,43,8317,51\\n\"Maryville University\",\"Yes\",549,397,169,26,51,1343,1751,9250,4550,425,1350,52,58,13.1,13,5925,61\\n\"Marywood College\",\"Yes\",1107,859,323,13,51,1452,402,11040,4500,600,700,65,76,11.8,30,9034,66\\n\"Massachusetts Institute of Technology\",\"Yes\",6411,2140,1078,96,99,4481,28,20100,5975,725,1600,99,99,10.1,35,33541,94\\n\"Mayville State University\",\"No\",233,233,153,5,12,658,58,4486,2516,600,1900,68,68,15.7,11,6971,51\\n\"McKendree College\",\"Yes\",1002,555,119,16,43,836,684,7680,3740,500,800,70,74,17.7,21,6652,52\\n\"McMurry University\",\"Yes\",578,411,187,25,50,880,477,6930,3452,400,1525,57,64,11,11,6383,32\\n\"McPherson College\",\"Yes\",420,293,93,11,32,336,80,7950,3750,600,2740,54,54,9.8,45,9754,48\\n\"Mercer University\",\"Yes\",2286,1668,564,37,70,2943,1260,11985,4081,400,1500,93,95,9.2,15,8995,91\\n\"Mercyhurst College\",\"Yes\",1557,1074,397,15,40,1805,433,9813,4050,425,1000,45,63,16.7,29,7307,78\\n\"Meredith College\",\"Yes\",857,772,376,25,58,1721,470,6720,3250,450,1520,77,82,13.9,33,6881,82\\n\"Merrimack College\",\"Yes\",1981,1541,514,18,36,1927,1084,12500,6200,375,1000,73,75,16.8,22,8707,80\\n\"Mesa State College\",\"No\",1584,1456,891,6,18,3471,911,5016,3798,540,2256,48,48,28.8,12,3871,59\\n\"Messiah College\",\"Yes\",1742,1382,607,30,64,2258,53,10300,5080,475,1200,68,75,14.1,30,7762,89\\n\"Miami University at Oxford\",\"No\",9239,7788,3290,35,39,13606,807,8856,3960,500,1382,81,89,17.6,20,7846,85\\n\"Michigan State University\",\"No\",18114,15096,6180,23,57,26640,4120,10658,3734,504,600,93,95,14,9,10520,71\\n\"Michigan Technological University\",\"No\",2618,2288,1032,42,77,5524,414,8127,3978,900,1200,82,82,17,25,7473,65\\n\"MidAmerica Nazarene College\",\"Yes\",331,331,225,15,36,1100,166,6840,3720,1100,4913,33,33,15.4,20,5524,49\\n\"Millersville University of Penn.\",\"No\",6011,3075,960,22,60,5146,1532,7844,3830,450,1258,72,74,16.8,20,7832,71\\n\"Milligan College\",\"Yes\",610,461,189,26,52,685,49,8200,3300,550,1000,63,69,12,16,8128,64\\n\"Millikin University\",\"Yes\",1444,1261,456,29,62,1788,95,11910,4378,450,965,60,77,11.4,25,8149,75\\n\"Millsaps College\",\"Yes\",905,834,319,32,61,1073,179,11320,4402,550,1350,82,89,12.7,38,11218,58\\n\"Milwaukee School of Engineering\",\"Yes\",1217,1088,496,36,69,1773,884,11505,3255,1000,2075,35,46,16.7,23,7140,67\\n\"Mississippi College\",\"Yes\",594,385,307,36,57,1695,721,5580,2830,600,700,77,79,16.5,18,6170,61\\n\"Mississippi State University\",\"No\",4255,3277,1609,18,57,10094,1621,9866,3084,480,1479,77,77,15.9,20,6223,53\\n\"Mississippi University for Women\",\"No\",480,405,380,19,46,1673,1014,4386,2217,600,1500,49,54,15.8,8,5704,63\\n\"Missouri Southern State College\",\"No\",1576,1326,913,13,50,3689,2200,3840,2852,200,400,52,54,20.3,9,4172,100\\n\"Missouri Valley College\",\"Yes\",1310,983,316,5,35,1057,175,8550,5050,400,900,35,67,17.4,16,4333,27\\n\"Monmouth College IL\",\"Yes\",601,503,204,28,57,671,11,13000,4100,400,460,91,91,11.6,43,11087,56\\n\"Monmouth College\",\"Yes\",2707,1881,478,14,34,1893,847,12480,5290,530,1740,70,85,14.2,15,9492,54\\n\"Montana College of Mineral Sci. & Tech.\",\"No\",572,544,320,45,72,1470,416,6073,3400,550,1400,71,71,16.4,31,6112,74\\n\"Montana State University\",\"No\",3500,2836,1779,15,42,8730,993,5552,3710,550,2300,75,83,17.6,8,6324,37\\n\"Montclair State University\",\"No\",5220,2128,865,19,53,6411,3186,3648,4834,700,950,82,87,21.5,9,6717,58\\n\"Montreat-Anderson College\",\"Yes\",263,223,103,10,24,316,20,8438,3372,500,2958,42,50,11.1,4,11989,15\\n\"Moorhead State University\",\"No\",2442,2164,1189,12,37,5983,1075,4426,2664,600,1000,76,81,18.1,19,4795,60\\n\"Moravian College\",\"Yes\",1232,955,303,23,58,1241,485,14990,4730,550,1250,86,92,15.2,28,9566,74\\n\"Morehouse College\",\"Yes\",3708,1678,722,41,66,2852,153,7050,5490,250,600,71,74,17.8,10,8122,83\\n\"Morningside College\",\"Yes\",586,533,239,16,36,950,228,10520,3678,500,1000,48,68,13,32,8111,56\\n\"Morris College\",\"Yes\",882,730,330,2,13,926,12,4515,2550,850,2100,53,60,18.6,34,6990,60\\n\"Mount Holyoke College\",\"Yes\",1800,1314,526,47,79,1891,40,19300,5700,750,750,79,91,9,51,18359,84\\n\"Mount Marty College\",\"Yes\",279,276,126,17,37,600,435,6844,2980,500,500,45,55,11.7,38,5073,44\\n\"Mount Mary College\",\"Yes\",235,217,121,12,32,931,487,8950,3119,550,1125,51,51,10.7,26,7016,78\\n\"Mount Mercy College\",\"Yes\",368,317,159,20,49,806,542,10500,3555,500,2285,44,50,11.3,30,6695,64\\n\"Mount Saint Clare College\",\"Yes\",325,284,95,16,33,364,88,9900,3650,500,1200,32,37,13.6,43,6525,21\\n\"Mount Saint Mary\\'s College\",\"Yes\",1321,1159,328,15,36,1243,79,12850,6200,550,900,77,82,12.8,36,8536,80\\n\"Mount Saint Mary College\",\"Yes\",1170,695,238,14,48,1170,429,7470,4600,250,1400,74,75,15.3,23,6898,88\\n\"Mount St. Mary\\'s College\",\"Yes\",657,537,113,37,90,1039,466,12474,5678,630,1278,53,71,11.9,19,10613,72\\n\"Mount Union College\",\"Yes\",1310,1086,458,26,61,1365,144,12250,3530,400,1150,85,87,16.7,35,7215,81\\n\"Mount Vernon Nazarene College\",\"Yes\",510,485,334,18,36,1114,94,7400,3346,600,600,57,57,19.8,7,6869,58\\n\"Muhlenberg College\",\"Yes\",2519,1836,462,30,61,1656,352,16975,4565,600,850,76,86,12.8,39,10888,83\\n\"Murray State University\",\"No\",2225,1910,1190,29,55,5968,955,4738,3110,700,940,72,76,20.2,27,5972,52\\n\"Muskingum College\",\"Yes\",1109,922,375,24,46,1115,70,13240,3914,600,800,73,85,13.4,27,9333,73\\n\"National-Louis University\",\"Yes\",513,347,279,23,48,2508,505,9090,4500,650,500,62,65,18.3,2,7905,71\\n\"Nazareth College of Rochester\",\"Yes\",947,798,266,36,68,1274,471,10850,5150,550,800,77,93,13.6,24,8797,61\\n\"New Jersey Institute of Technology\",\"No\",1879,1216,483,27,62,3311,1646,8832,5376,700,1850,92,98,13.5,19,12529,72\\n\"New Mexico Institute of Mining and Tech.\",\"No\",787,601,233,40,73,1017,411,5376,3214,600,1100,99,100,13.7,11,9241,34\\n\"New York University\",\"Yes\",13594,7244,2505,70,86,12408,2814,17748,7262,450,1000,87,98,7.8,16,21227,71\\n\"Newberry College\",\"Yes\",872,722,154,14,36,601,36,10194,2600,500,1500,57,63,11.4,32,5788,83\\n\"Niagara University\",\"Yes\",2220,1796,467,65,99,1919,334,10320,4762,450,650,68,100,14.2,20,7788,65\\n\"North Adams State College\",\"No\",1563,1005,240,1,19,1380,136,5542,4330,500,1000,65,71,14.2,17,6562,57\\n\"North Carolina A. & T. State University\",\"No\",4809,3089,1429,12,33,6162,871,6806,1780,600,1651,72,72,16.7,9,7090,44\\n\"North Carolina State University at Raleigh\",\"No\",10634,7064,3176,39,78,16505,5481,8400,6540,600,1300,92,98,17.5,21,9670,62\\n\"North Carolina Wesleyan College\",\"Yes\",812,689,195,7,24,646,84,8242,4230,600,1295,77,77,12.7,11,10090,52\\n\"North Central College\",\"Yes\",1127,884,308,30,64,1310,766,11718,7398,450,1800,73,87,16.4,33,8871,76\\n\"North Dakota State University\",\"No\",2968,2297,1610,13,47,7368,1128,5834,2744,600,2000,79,83,17,24,6310,42\\n\"North Park College\",\"Yes\",465,361,176,19,39,879,156,12580,4345,400,970,76,79,13.1,24,10889,74\\n\"Northeast Missouri State University\",\"No\",6040,4577,1620,36,72,5640,266,4856,3416,400,1100,69,72,15.7,13,6601,76\\n\"Northeastern University\",\"Yes\",11901,8492,2517,16,42,11160,10221,13380,7425,600,1750,73,82,12.9,17,9563,46\\n\"Northern Arizona University\",\"No\",5891,4931,1973,23,48,11249,2682,6746,3728,620,2342,78,83,21.7,7,6157,41\\n\"Northern Illinois University\",\"No\",10706,7219,2397,12,37,14826,1979,7799,3296,470,1750,73,78,17.3,11,6086,56\\n\"Northwest Missouri State University\",\"No\",2729,2535,1257,8,29,4787,472,3735,3136,250,1630,62,65,21.7,23,5284,54\\n\"Northwest Nazarene College\",\"Yes\",616,514,385,29,52,1115,60,9840,2820,450,822,59,59,14.8,20,6261,58\\n\"Northwestern College\",\"Yes\",860,811,366,22,56,1040,52,9900,3075,300,1800,68,68,14.9,34,6357,68\\n\"Northwestern University\",\"Yes\",12289,5200,1902,85,98,7450,45,16404,5520,759,1585,96,100,6.8,25,26385,92\\n\"Norwich University\",\"Yes\",1743,1625,626,8,29,1862,382,14134,5270,500,800,71,74,13.1,22,9209,63\\n\"Notre Dame College\",\"Yes\",379,324,107,15,37,500,311,9990,4900,400,600,44,47,12.1,26,4948,33\\n\"Oakland University\",\"No\",3041,2581,1173,16,56,6441,3982,9114,4030,400,650,88,90,19.7,13,6637,53\\n\"Oberlin College\",\"Yes\",4778,2767,678,50,89,2587,120,19670,5820,575,1119,77,96,10.1,47,16593,83\\n\"Occidental College\",\"Yes\",2324,1319,370,52,81,1686,35,16560,5140,558,1152,91,93,10.5,30,16196,79\\n\"Oglethorpe University\",\"Yes\",792,649,186,56,87,769,377,12900,4340,600,4110,91,95,13.1,27,8568,67\\n\"Ohio Northern University\",\"Yes\",2936,2342,669,35,62,2502,66,15990,4080,600,825,73,78,14.5,31,9979,83\\n\"Ohio University\",\"No\",11023,8298,3183,21,54,14861,1310,7629,4095,550,2300,79,87,20.4,13,8811,64\\n\"Ohio Wesleyan University\",\"Yes\",2190,1700,458,36,65,1780,48,16732,5650,550,550,93,93,12.1,32,12011,75\\n\"Oklahoma Baptist University\",\"Yes\",758,681,484,35,59,1707,705,5390,3140,515,1290,63,71,15.1,18,5511,50\\n\"Oklahoma Christian University\",\"Yes\",776,765,351,22,44,1419,228,6400,3150,500,1900,58,64,16.2,8,6578,45\\n\"Oklahoma State University\",\"No\",4522,3913,2181,29,57,12830,1658,5336,3344,800,3100,84,92,15.3,14,6433,48\\n\"Otterbein College\",\"Yes\",1496,1205,428,26,57,1648,936,12888,4440,420,840,62,68,13.9,30,8802,87\\n\"Ouachita Baptist University\",\"Yes\",910,773,450,31,73,1310,61,6530,2800,500,1500,63,67,13.3,10,6413,65\\n\"Our Lady of the Lake University\",\"Yes\",2308,1336,295,22,46,1202,942,8530,3644,616,1576,56,64,14.9,25,7114,37\\n\"Pace University\",\"Yes\",8256,3750,1522,37,70,5809,4379,11000,5160,660,1115,90,95,13.8,10,10059,62\\n\"Pacific Lutheran University\",\"Yes\",1603,1392,504,31,68,2580,302,13312,4488,600,1516,78,78,11,23,9431,83\\n\"Pacific Union College\",\"Yes\",940,668,385,20,48,1316,139,11925,3825,630,1926,48,87,12.3,12,9157,69\\n\"Pacific University\",\"Yes\",943,849,288,41,71,1041,35,14210,3994,450,1100,76,76,10.9,22,11216,42\\n\"Pembroke State University\",\"No\",944,774,440,14,34,2174,529,6360,2760,550,1498,77,77,15,5,6443,48\\n\"Pennsylvania State Univ. Main Campus\",\"No\",19315,10344,3450,48,93,28938,2025,10645,4060,512,2394,77,96,18.1,19,8992,63\\n\"Pepperdine University\",\"Yes\",3821,2037,680,86,96,2488,625,18200,6770,500,700,95,98,11.6,13,16185,66\\n\"Peru State College\",\"No\",701,501,458,10,40,959,457,2580,2624,500,900,48,100,20.1,24,4870,44\\n\"Pfeiffer College\",\"Yes\",838,651,159,11,25,654,162,8640,3700,400,1915,62,62,12.2,13,7634,48\\n\"Philadelphia Coll. of Textiles and Sci.\",\"Yes\",1538,1259,468,19,42,1664,1042,11690,5062,600,1664,48,80,12.9,15,8028,68\\n\"Phillips University\",\"Yes\",692,576,174,19,50,597,83,10500,3860,600,940,58,64,11.6,19,8990,39\\n\"Piedmont College\",\"Yes\",663,562,127,20,40,641,63,5640,3620,600,750,89,89,13.2,17,7309,31\\n\"Pikeville College\",\"Yes\",404,400,169,28,48,797,100,6000,3000,500,500,48,57,13.4,14,5557,61\\n\"Pitzer College\",\"Yes\",1133,630,220,37,73,750,30,17688,5900,650,850,100,100,10.4,11,14820,73\\n\"Point Loma Nazarene College\",\"Yes\",809,687,428,20,43,1889,217,10178,4190,800,750,71,71,16.1,19,7895,54\\n\"Point Park College\",\"Yes\",875,744,207,7,38,1173,1402,9700,4830,400,1200,45,90,14.5,10,7652,66\\n\"Polytechnic University\",\"Yes\",1132,847,302,58,89,1379,214,16200,4200,436,2486,90,90,10.4,14,14329,62\\n\"Prairie View A. and M. University\",\"No\",2405,2234,1061,10,22,4564,448,4290,3500,598,1582,55,93,19.4,1,5967,35\\n\"Presbyterian College\",\"Yes\",1082,832,302,34,63,1133,30,11859,3635,554,1429,80,85,13.4,42,8354,85\\n\"Princeton University\",\"Yes\",13218,2042,1153,90,98,4540,146,19900,5910,675,1575,91,96,8.4,54,28320,99\\n\"Providence College\",\"Yes\",5139,3346,973,20,55,3717,1358,14400,6200,450,1100,66,74,18.4,35,8135,96\\n\"Purdue University at West Lafayette\",\"No\",21804,18744,5874,29,60,26213,4065,9556,3990,570,1060,86,86,18.2,15,8604,67\\n\"Queens College\",\"Yes\",516,392,154,32,62,630,549,11020,4970,610,1900,73,75,14,36,9315,58\\n\"Quincy University\",\"Yes\",1025,707,297,22,66,1070,72,10100,4140,450,1080,69,71,16.3,32,6880,80\\n\"Quinnipiac College\",\"Yes\",3712,2153,806,17,45,2677,714,12030,6140,1000,500,63,73,12,33,8847,86\\n\"Radford University\",\"No\",5702,4894,1742,15,37,8077,472,6684,4110,500,900,73,83,19.6,9,4519,62\\n\"Ramapo College of New Jersey\",\"No\",2088,957,362,6,29,2745,1938,4449,4860,600,1655,74,95,17.8,8,7333,47\\n\"Randolph-Macon College\",\"Yes\",1771,1325,306,21,46,1071,27,13840,3735,400,900,77,80,10.7,38,11080,74\\n\"Randolph-Macon Woman\\'s College\",\"Yes\",696,616,169,35,66,653,56,13970,6110,370,920,88,97,9.2,24,16358,68\\n\"Reed College\",\"Yes\",1966,1436,327,47,80,1199,61,19960,5490,500,450,90,90,11.8,37,15886,68\\n\"Regis College\",\"Yes\",427,385,143,18,38,581,533,12700,5800,450,700,81,85,10.3,37,11758,84\\n\"Rensselaer Polytechnic Institute\",\"Yes\",4996,4165,936,53,82,4291,16,17475,5976,1230,1100,94,98,15.4,21,15605,70\\n\"Rhodes College\",\"Yes\",2302,1831,391,58,82,1345,59,15200,4768,550,1500,90,96,10.8,47,13388,77\\n\"Rider University\",\"Yes\",3586,2424,730,16,31,2748,1309,13250,5420,700,3100,84,92,12.3,23,11299,70\\n\"Ripon College\",\"Yes\",587,501,211,28,52,735,28,15200,4100,350,650,87,90,9.4,49,12472,64\\n\"Rivier College\",\"Yes\",484,386,141,6,28,590,1196,9870,4860,600,1100,59,59,12.2,19,6744,81\\n\"Roanoke College\",\"Yes\",2227,1790,437,27,54,1460,239,13425,4425,450,1200,85,89,13,26,9405,72\\n\"Rockhurst College\",\"Yes\",935,858,345,22,50,1127,754,9490,4100,500,1500,60,79,10.7,21,7519,79\\n\"Rocky Mountain College\",\"Yes\",560,392,270,11,31,743,118,8734,3362,600,625,56,78,11.3,27,6422,68\\n\"Roger Williams University\",\"Yes\",3304,2804,679,10,20,2111,1489,12520,6050,500,730,44,54,16.4,8,7957,61\\n\"Rollins College\",\"Yes\",1777,1151,382,31,55,1668,1052,16425,5220,955,750,81,85,13.3,23,11561,90\\n\"Rosary College\",\"Yes\",434,321,141,28,53,624,269,10950,4600,550,950,79,82,12.9,30,9264,81\\n\"Rowan College of New Jersey\",\"No\",3820,1431,695,21,70,5303,3942,4356,4830,800,800,76,81,22.1,6,7252,51\\n\"Rutgers at New Brunswick\",\"No\",48094,26330,4520,36,79,21401,3712,7410,4748,690,2009,90,95,19.5,19,10474,77\\n\"Rutgers State University at Camden\",\"No\",3366,1752,232,27,79,2585,1300,7411,4748,690,2009,90,95,18.6,12,10134,57\\n\"Rutgers State University at Newark\",\"No\",5785,2690,499,26,62,4005,1886,7410,4748,690,2009,90,95,17.4,16,11878,58\\n\"Sacred Heart University\",\"Yes\",2307,1896,509,19,51,1707,1889,11070,5780,400,600,71,73,14.8,16,7120,82\\n\"Saint Ambrose University\",\"Yes\",897,718,276,12,48,1345,390,10450,4020,500,1500,56,56,14.1,16,7444,70\\n\"Saint Anselm College\",\"Yes\",2095,1553,514,15,40,1873,94,12950,5400,450,1120,70,82,14.5,29,6719,97\\n\"Saint Cloud State University\",\"No\",3971,3306,1921,10,34,11493,2206,4259,2625,350,1884,70,75,18.9,10,4629,58\\n\"Saint Francis College IN\",\"Yes\",213,166,85,13,36,513,247,8670,3820,450,1000,43,78,12.5,4,7440,48\\n\"Saint Francis College\",\"Yes\",1046,824,284,21,45,1223,451,10880,5050,400,1235,64,64,19.3,24,7344,69\\n\"Saint John\\'s University\",\"Yes\",933,800,444,18,45,1691,72,12247,4081,500,600,76,85,12,38,9853,70\\n\"Saint Joseph\\'s College IN\",\"Yes\",920,684,225,24,42,815,222,11200,4250,600,950,55,60,14.8,19,7360,67\\n\"Saint Joseph\\'s College\",\"Yes\",833,682,217,12,33,716,2196,9985,5180,500,800,53,89,27.2,8,4322,85\\n\"Saint Joseph\\'s University\",\"Yes\",2519,2003,776,39,71,2473,1314,12750,6350,350,1690,84,90,17.4,13,8243,83\\n\"Saint Joseph College\",\"Yes\",292,241,96,20,52,543,712,12200,4600,650,950,87,90,11.2,32,8680,76\\n\"Saint Louis University\",\"Yes\",3294,2855,956,44,67,4576,1140,11690,4730,800,6800,84,94,4.6,19,18367,67\\n\"Saint Mary\\'s College\",\"Yes\",888,734,393,26,60,1433,27,12730,4514,500,1525,74,95,9.9,31,11165,98\\n\"Saint Mary\\'s College of Minnesota\",\"Yes\",876,802,367,14,35,1263,118,10800,3600,400,820,68,74,18.8,19,5081,78\\n\"Saint Mary-of-the-Woods College\",\"Yes\",150,130,88,23,50,341,768,10300,4130,500,1700,44,58,10.2,37,9678,75\\n\"Saint Michael\\'s College\",\"Yes\",1910,1380,463,16,64,1715,106,13030,5860,500,750,79,88,14.5,34,10190,84\\n\"Saint Olaf College\",\"Yes\",2248,1673,745,38,73,2888,105,14350,3750,550,550,82,88,10,31,12502,83\\n\"Saint Peter\\'s College\",\"Yes\",1606,1413,530,23,38,1921,1154,9408,5520,500,450,78,78,12.1,22,7669,53\\n\"Saint Vincent College\",\"Yes\",700,595,278,19,35,1035,182,10850,3936,500,900,62,64,12.3,31,8534,88\\n\"Saint Xavier University\",\"Yes\",785,647,295,15,65,1670,726,10860,4624,600,794,87,100,13.7,15,8953,55\\n\"Salem-Teikyo University\",\"Yes\",489,384,120,23,52,700,45,10575,3952,400,620,46,24,13,9,8946,98\\n\"Salem College\",\"Yes\",335,284,132,28,69,534,216,10475,6300,500,2000,68,68,11.2,46,9599,60\\n\"Salisbury State University\",\"No\",4216,2290,736,20,52,4296,1027,5130,4690,600,1450,73,75,17.9,18,5125,56\\n\"Samford University\",\"Yes\",1680,1395,691,34,76,2959,402,8236,3700,569,1650,74,75,14.7,17,9533,61\\n\"San Diego State University\",\"No\",9402,7020,2151,20,70,16407,5550,8384,5110,612,2400,87,93,19.5,7,7930,41\\n\"Santa Clara University\",\"Yes\",4019,2779,888,40,73,3891,128,13584,5928,630,1278,88,92,13.9,19,10872,100\\n\"Sarah Lawrence College\",\"Yes\",1380,768,263,57,82,1000,105,19300,6694,600,700,89,93,6.1,18,14779,83\\n\"Savannah Coll. of Art and Design\",\"Yes\",1109,688,386,20,65,1897,208,8325,5000,1200,1600,14,98,16.1,26,6874,55\\n\"Schreiner College\",\"Yes\",584,413,131,19,51,521,99,8955,5900,500,1488,51,56,11.8,23,8545,52\\n\"Scripps College\",\"Yes\",855,632,139,60,83,569,7,17238,7350,600,800,95,100,8.2,41,18372,73\\n\"Seattle Pacific University\",\"Yes\",1183,1016,411,42,82,1922,704,12669,4875,600,1250,83,85,16.8,20,10368,66\\n\"Seattle University\",\"Yes\",2115,1540,494,28,72,2993,347,12825,4375,500,1500,85,85,12.2,16,10175,89\\n\"Seton Hall University\",\"Yes\",4576,3565,1000,16,36,4384,1530,12000,6484,650,1000,81,84,14.4,15,10080,64\\n\"Seton Hill College\",\"Yes\",936,794,197,24,56,752,210,11240,4180,350,2000,71,71,11.2,37,10065,71\\n\"Shippensburg University of Penn.\",\"No\",5818,3281,1116,14,53,5268,300,7844,3504,450,1700,80,83,18.8,13,6719,72\\n\"Shorter College\",\"Yes\",540,445,165,23,70,1115,111,7210,3600,500,2000,62,65,13.2,18,7356,58\\n\"Siena College\",\"Yes\",2961,1932,628,24,68,2669,616,10800,5100,575,1090,71,82,14.1,42,8189,100\\n\"Siena Heights College\",\"Yes\",464,419,183,10,31,686,287,9240,3880,475,1090,29,49,7.2,17,9431,47\\n\"Simmons College\",\"Yes\",1003,782,295,23,53,1144,160,16160,6950,500,1200,74,81,8.9,33,14086,79\\n\"Simpson College\",\"Yes\",1016,872,300,27,57,1116,602,11250,4980,550,1400,66,73,15.8,36,7411,70\\n\"Sioux Falls College\",\"Yes\",437,400,211,13,35,614,271,8990,3064,500,1700,73,73,14.8,7,7881,48\\n\"Skidmore College\",\"Yes\",4293,2728,591,25,62,2322,263,18710,5970,500,700,87,92,12.7,29,14837,81\\n\"Smith College\",\"Yes\",2925,1598,632,51,88,2479,95,18820,6390,500,1050,85,97,10.3,44,21199,90\\n\"South Dakota State University\",\"No\",2807,2589,1701,13,37,7000,1103,3811,2190,500,1970,62,65,15,29,5084,67\\n\"Southeast Missouri State University\",\"No\",2281,1870,1408,18,43,6553,1246,4680,3540,200,2150,75,76,17.1,8,5916,45\\n\"Southeastern Oklahoma State Univ.\",\"No\",818,700,447,20,50,2962,651,3738,2619,450,1022,55,59,19.6,9,4444,53\\n\"Southern California College\",\"Yes\",385,340,193,18,38,784,127,9520,4124,630,1818,63,65,18.6,11,8219,43\\n\"Southern Illinois University at Edwardsville\",\"No\",2540,2195,994,13,40,6063,2550,5472,3598,221,2216,76,81,16.5,8,7498,43\\n\"Southern Methodist University\",\"Yes\",4301,3455,1166,41,69,4892,387,12772,5078,576,1802,74,88,13.5,17,12726,72\\n\"Southwest Baptist University\",\"Yes\",1093,1093,642,12,32,1770,967,7070,2500,400,1000,52,54,15.9,13,4718,71\\n\"Southwest Missouri State University\",\"No\",6118,5254,3204,15,37,13131,3374,4740,2590,500,1360,70,75,19.9,11,4632,56\\n\"Southwest State University\",\"No\",1047,938,511,13,33,2091,546,4285,2750,600,1800,58,75,16.5,31,6591,51\\n\"Southwestern Adventist College\",\"Yes\",321,318,172,11,27,620,280,7536,3736,430,1651,44,77,13,12,5309,36\\n\"Southwestern College\",\"Yes\",213,155,75,28,66,504,147,7200,3532,550,1500,56,56,11.8,12,7818,52\\n\"Southwestern University\",\"Yes\",1244,912,352,44,77,1177,43,11850,4675,600,1050,83,89,11.3,35,12995,67\\n\"Spalding University\",\"Yes\",283,201,97,10,45,589,263,8400,2800,600,900,50,56,10.6,40,6860,89\\n\"Spelman College\",\"Yes\",3713,1237,443,47,83,1971,107,7000,5565,660,2400,73,80,12.5,18,9988,65\\n\"Spring Arbor College\",\"Yes\",372,362,181,15,32,1501,353,8600,3550,385,665,48,48,15.4,9,10938,49\\n\"St. Bonaventure University\",\"Yes\",1489,1313,375,13,45,1688,131,10456,4927,500,1050,91,91,17.7,32,9828,78\\n\"St. John\\'s College\",\"Yes\",323,278,122,31,51,393,4,16150,5450,275,800,63,72,7.2,26,15622,64\\n\"St. John Fisher College\",\"Yes\",1368,1064,354,19,51,1687,677,10570,5600,400,800,86,81,14.5,29,7908,66\\n\"St. Lawrence University\",\"Yes\",2753,1820,505,31,56,1801,45,18720,5730,650,825,90,94,11.5,38,14980,85\\n\"St. Martin\\'s College\",\"Yes\",191,165,63,5,25,494,574,11550,4270,300,500,43,77,14.5,8,9209,40\\n\"St. Mary\\'s College of California\",\"Yes\",2643,1611,465,36,80,2615,248,13332,6354,630,1584,88,89,16.1,17,9619,78\\n\"St. Mary\\'s College of Maryland\",\"No\",1340,695,285,42,73,1315,209,6800,4730,675,1250,84,89,11.6,23,10357,63\\n\"St. Mary\\'s University of San Antonio\",\"Yes\",1243,1020,414,33,60,2149,418,8678,3858,700,1736,82,83,16.2,7,7651,72\\n\"St. Norbert College\",\"Yes\",1334,1243,568,30,56,1946,95,12140,4450,425,1100,74,78,15.1,36,8595,88\\n\"St. Paul\\'s College\",\"Yes\",651,581,243,8,17,617,34,5000,3650,600,600,45,45,14,8,8426,45\\n\"St. Thomas Aquinas College\",\"Yes\",861,609,215,10,27,1117,815,8650,5700,500,1750,69,73,16.1,13,6534,67\\n\"Stephens College\",\"Yes\",450,405,194,17,34,614,388,13900,5200,450,2150,46,63,10.9,17,9995,59\\n\"Stetson University\",\"Yes\",1557,1227,489,37,69,1964,81,12315,4565,600,1365,85,90,12.5,24,10307,73\\n\"Stevens Institute of Technology\",\"Yes\",1768,1249,380,51,93,1263,11,16900,5680,450,750,89,89,19,33,12837,79\\n\"Stockton College of New Jersey\",\"No\",4019,1579,710,23,65,4365,765,3040,4351,711,1125,78,92,19.5,7,5599,64\\n\"Stonehill College\",\"Yes\",3646,2300,585,25,69,2022,926,12170,6172,480,800,79,79,13,30,7495,97\\n\"SUNY at Albany\",\"No\",13528,9198,1843,16,61,10168,1231,6550,4355,700,1560,93,96,17.4,16,9075,74\\n\"SUNY at Binghamton\",\"No\",14463,6166,1757,60,94,8544,671,6550,4598,700,1000,83,100,18,15,8055,80\\n\"SUNY at Buffalo\",\"No\",15039,9649,3087,36,100,13963,3124,6550,4731,708,957,90,97,13.6,15,11177,56\\n\"SUNY at Stony Brook\",\"No\",12512,6969,1724,27,66,9744,1351,6550,4712,600,1200,91,96,10.5,7,13705,57\\n\"SUNY College  at Brockport\",\"No\",7294,3564,904,7,34,5758,1363,6550,4460,500,705,79,83,19,14,6632,49\\n\"SUNY College  at Oswego\",\"No\",8000,4556,1464,17,70,6943,869,6550,4810,500,1500,69,85,22,21,5280,63\\n\"SUNY College at Buffalo\",\"No\",5318,3515,1025,8,29,7626,2091,6550,4040,550,1230,71,78,18.7,12,7511,42\\n\"SUNY College at Cortland\",\"No\",7888,3519,1036,6,40,5011,346,6550,4680,630,1274,82,85,17.8,17,5563,53\\n\"SUNY College at Fredonia\",\"No\",4877,2798,814,13,48,4123,298,6550,4420,620,1481,82,90,16.3,10,6442,66\\n\"SUNY College at Geneseo\",\"No\",8598,4562,1143,56,93,5060,146,6550,4170,600,650,79,84,19.1,25,5716,76\\n\"SUNY College at New Paltz\",\"No\",8399,3609,656,19,53,4658,1478,6550,4240,550,1500,85,93,15.3,8,6608,53\\n\"SUNY College at Plattsburgh\",\"No\",5549,3583,853,9,40,5004,475,6550,4176,600,1380,80,90,17.9,16,6174,65\\n\"SUNY College at Potsdam\",\"No\",3150,2289,650,16,51,3598,234,6840,4660,500,1000,71,75,15.1,17,6436,59\\n\"SUNY College at Purchase\",\"No\",2119,1264,390,5,33,2478,1441,6550,4760,1125,1362,80,100,14.9,8,8170,46\\n\"Susquehanna University\",\"Yes\",2096,1512,465,27,59,1442,166,16130,4710,400,800,83,86,13.9,37,10554,90\\n\"Sweet Briar College\",\"Yes\",462,402,146,36,68,527,41,14500,6000,500,600,91,99,6.5,48,18953,61\\n\"Syracuse University\",\"Yes\",10477,7260,2442,28,67,10142,117,15150,6870,635,960,73,84,11.3,13,14231,67\\n\"Tabor College\",\"Yes\",257,183,109,19,41,396,38,7850,3410,400,1500,55,70,10,15,7233,53\\n\"Talladega College\",\"Yes\",4414,1500,335,30,60,908,119,5666,2964,1000,1400,56,58,15.5,7,5970,46\\n\"Taylor University\",\"Yes\",1769,1092,437,41,80,1757,81,10965,4000,450,1250,60,61,14.2,32,8294,98\\n\"Tennessee Wesleyan College\",\"Yes\",232,182,99,7,29,402,237,7070,3640,400,3158,59,65,8.9,16,6286,36\\n\"Texas A&M Univ. at College Station\",\"No\",14474,10519,6392,49,85,31643,2798,5130,3412,600,2144,89,91,23.1,29,8471,69\\n\"Texas A&M University at Galveston\",\"No\",529,481,243,22,47,1206,134,4860,3122,600,650,103,88,17.4,16,6415,43\\n\"Texas Christian University\",\"Yes\",4095,3079,1195,33,64,5064,660,8490,3320,650,2400,81,93,14.8,23,9158,64\\n\"Texas Lutheran College\",\"Yes\",497,423,215,27,57,895,429,7850,3410,490,1700,54,58,13.8,24,7002,50\\n\"Texas Southern University\",\"No\",4345,3245,2604,15,85,5584,3101,7860,3360,600,1700,65,75,18.2,21,3605,10\\n\"Texas Wesleyan University\",\"Yes\",592,501,279,19,44,1204,392,6400,3484,600,1800,80,83,14.5,10,7936,43\\n\"The Citadel\",\"No\",1500,1242,611,12,36,2024,292,7070,2439,400,779,95,94,17.1,17,7744,84\\n\"Thiel College\",\"Yes\",1154,951,253,15,31,791,140,11172,4958,700,1350,68,76,11.6,16,9186,60\\n\"Tiffin University\",\"Yes\",845,734,254,5,21,662,351,7600,3800,600,1200,59,74,19,40,5096,39\\n\"Transylvania University\",\"Yes\",759,729,244,57,81,867,51,10900,4450,500,1000,81,91,12.1,41,10219,70\\n\"Trenton State College\",\"No\",5042,2312,944,55,94,5167,902,5391,5411,700,1000,81,87,14.4,6,8504,81\\n\"Tri-State University\",\"Yes\",1262,1102,276,14,40,978,98,9456,4350,468,1323,53,53,12.8,24,7603,65\\n\"Trinity College CT\",\"Yes\",3058,1798,478,46,84,1737,244,18810,5690,500,680,91,96,10.4,48,18034,91\\n\"Trinity College DC\",\"Yes\",247,189,100,19,49,309,639,11412,6430,500,900,89,93,8.3,37,11806,96\\n\"Trinity College VT\",\"Yes\",222,185,91,16,41,484,541,11010,5208,550,500,58,78,10.4,26,9586,78\\n\"Trinity University\",\"Yes\",2425,1818,601,62,93,2110,95,12240,5150,500,490,94,96,9.6,20,14703,93\\n\"Tulane University\",\"Yes\",7033,5125,1223,47,75,4941,1534,19040,5950,350,800,98,98,9.1,21,16920,74\\n\"Tusculum College\",\"Yes\",626,372,145,12,34,983,40,7700,3400,450,800,70,70,21.9,28,4933,52\\n\"Tuskegee University\",\"Yes\",2267,1827,611,20,59,2825,144,6735,3395,600,1425,70,74,12.2,7,10872,65\\n\"Union College KY\",\"Yes\",484,384,177,9,45,634,78,7800,2950,500,600,60,88,14.1,9,6864,64\\n\"Union College NY\",\"Yes\",3495,1712,528,49,84,1915,123,18732,6204,450,1024,94,96,11.5,49,15411,88\\n\"Univ. of Wisconsin at OshKosh\",\"No\",4800,2900,1515,14,48,7764,1472,6874,2394,518,1890,73,78,19.2,14,5901,56\\n\"University of Alabama at Birmingham\",\"No\",1797,1260,938,24,35,6960,4698,4440,5175,750,2200,96,96,6.7,16,16352,33\\n\"University of Arkansas at Fayetteville\",\"No\",3235,3108,2133,25,65,9978,1530,5028,3300,500,2000,73,89,14.8,10,6820,39\\n\"University of California at Berkeley\",\"No\",19873,8252,3215,95,100,19532,2061,11648,6246,636,1933,93,97,15.8,10,13919,78\\n\"University of California at Irvine\",\"No\",15698,10775,2478,85,100,12677,864,12024,5302,790,1818,96,96,16.1,11,15934,66\\n\"University of Central Florida\",\"No\",6986,2959,1918,25,60,12330,7152,6618,4234,700,1600,80,98,22.2,9,6742,46\\n\"University of Charleston\",\"Yes\",682,535,204,22,43,771,611,9500,3540,400,750,26,58,2.5,10,7683,57\\n\"University of Chicago\",\"Yes\",6348,2999,922,68,94,3340,39,18930,6380,500,1254,99,99,5.3,36,36854,90\\n\"University of Cincinnati\",\"No\",6855,5553,2408,26,57,11036,2011,8907,4697,556,1851,89,95,10.8,6,13889,54\\n\"University of Connecticut at Storrs\",\"No\",9735,7187,2064,23,63,12478,1660,11656,5072,700,2300,89,95,16,16,10178,71\\n\"University of Dallas\",\"Yes\",681,588,246,44,74,1058,73,10760,6230,500,1200,85,93,13.4,26,8731,63\\n\"University of Dayton\",\"Yes\",6361,5293,1507,26,51,5889,665,11380,4220,500,900,81,85,14.8,25,8894,93\\n\"University of Delaware\",\"Yes\",14446,10516,3252,22,57,14130,4522,10220,4230,530,1300,82,87,18.3,15,10650,75\\n\"University of Denver\",\"Yes\",2974,2001,580,29,60,2666,554,15192,4695,400,1350,84,91,15.9,21,11762,67\\n\"University of Detroit Mercy\",\"Yes\",927,731,415,24,50,2149,2217,11130,3996,600,2166,72,79,13.5,14,10891,51\\n\"University of Dubuque\",\"Yes\",576,558,137,11,39,662,131,10430,3620,400,1500,85,98,16.5,18,8767,45\\n\"University of Evansville\",\"Yes\",2096,1626,694,35,67,2551,407,11800,4340,700,960,60,81,15.8,26,7780,77\\n\"University of Florida\",\"No\",12445,8836,3623,54,85,24470,3286,7090,4180,630,1530,88,97,13.4,20,14737,66\\n\"University of Georgia\",\"No\",11220,7871,3320,43,79,19553,2748,5697,3600,525,1755,88,95,14.7,22,7881,63\\n\"University of Hartford\",\"Yes\",5081,4040,1194,11,26,3768,1415,14220,6000,500,1440,61,76,10.7,9,10625,66\\n\"University of Hawaii at Manoa\",\"No\",3580,2603,1627,36,69,11028,2411,4460,3038,687,1281,85,87,11.8,6,12833,54\\n\"University of Illinois - Urbana\",\"No\",14939,11652,5705,52,88,25422,911,7560,4574,500,1982,87,90,17.4,13,8559,81\\n\"University of Illinois at Chicago\",\"No\",8384,5727,2710,22,50,13518,2916,7230,5088,630,3228,82,84,10,6,13883,34\\n\"University of Indianapolis\",\"Yes\",1487,1276,388,26,51,1417,1646,11120,4080,525,1405,55,56,11.1,23,6735,69\\n\"University of Kansas\",\"No\",8579,5561,3681,25,50,17880,1673,6994,3384,700,2681,88,94,13.7,17,9657,57\\n\"University of La Verne\",\"Yes\",1597,969,226,16,38,1431,1522,13540,5050,630,2298,66,68,14.1,23,10139,47\\n\"University of Louisville\",\"No\",4777,3057,1823,16,33,9844,6198,6540,3600,530,2440,84,92,11.1,24,10207,31\\n\"University of Maine at Farmington\",\"No\",1208,803,438,20,48,1906,344,6810,3970,450,1647,67,75,15.9,26,5712,59\\n\"University of Maine at Machias\",\"No\",441,369,172,17,45,633,317,6600,3680,600,400,46,46,15.1,4,5935,64\\n\"University of Maine at Presque Isle\",\"No\",461,381,235,10,40,974,503,6600,3630,400,1675,67,67,15.2,11,6408,35\\n\"University of Maryland at Baltimore County\",\"No\",4269,2594,985,27,57,6476,2592,8594,4408,494,2768,82,88,18.4,6,7618,55\\n\"University of Maryland at College Park\",\"No\",14292,10315,3409,22,53,19340,3991,8723,5146,550,1550,89,92,18.1,12,9021,63\\n\"University of Massachusetts at Amherst\",\"No\",14438,12414,3816,12,39,16282,1940,8566,3897,500,1400,88,92,16.7,15,10276,68\\n\"University of Massachusetts at Dartmouth\",\"No\",3347,2597,1006,10,37,4664,1630,6919,4500,500,1250,74,90,15,20,7462,56\\n\"University of Miami\",\"Yes\",7122,5386,1643,42,69,7760,876,16500,6526,630,1985,82,94,5.9,17,17500,59\\n\"University of Michigan at Ann Arbor\",\"No\",19152,12940,4893,66,92,22045,1339,15732,4659,476,1600,90,98,11.5,26,14847,87\\n\"University of Minnesota at Duluth\",\"No\",4192,3126,1656,15,45,5887,1254,8828,3474,753,2610,79,91,19,11,6393,53\\n\"University of Minnesota at Morris\",\"No\",1458,874,588,56,86,1846,154,9843,3180,600,1500,74,78,14.6,16,6716,51\\n\"University of Minnesota Twin Cities\",\"No\",11054,6397,3524,26,55,16502,21836,8949,3744,714,2910,88,90,12.2,37,16122,45\\n\"University of Mississippi\",\"No\",3844,3383,1669,26,47,7524,804,4916,3810,600,550,81,86,20.3,14,6971,53\\n\"University of Missouri at Columbia\",\"No\",6574,4637,2940,32,62,14782,1583,9057,3485,600,1983,87,87,12.7,15,10145,58\\n\"University of Missouri at Rolla\",\"No\",1877,1826,823,49,77,3926,561,9057,3600,700,1435,88,88,14.4,23,9699,49\\n\"University of Missouri at Saint Louis\",\"No\",1618,1141,479,18,54,4793,4552,7246,3964,500,4288,71,73,13.4,15,6433,48\\n\"University of Mobile\",\"Yes\",452,331,269,17,54,1417,301,6150,3680,550,1200,59,63,16.6,4,5412,52\\n\"University of Montevallo\",\"No\",1351,892,570,18,78,2385,331,4440,3030,300,600,72,72,18.9,8,5883,51\\n\"University of Nebraska at Lincoln\",\"No\",6277,6003,3526,33,63,16454,3171,5595,3145,500,2070,86,92,15.1,48,6813,53\\n\"University of New England\",\"Yes\",1209,750,265,19,54,820,159,11450,5045,900,2500,72,75,11.4,13,9718,64\\n\"University of New Hampshire\",\"No\",9750,7640,2529,24,62,10358,1338,11180,3862,650,2450,89,87,17.5,16,7855,75\\n\"University of North Carolina at Asheville\",\"No\",1757,979,394,32,74,2033,1078,5972,3420,600,750,77,83,13,11,7011,37\\n\"University of North Carolina at Chapel Hill\",\"No\",14596,5985,3331,75,92,14609,1100,8400,4200,550,1200,88,93,8.9,23,15893,83\\n\"University of North Carolina at Charlotte\",\"No\",5803,4441,1730,19,62,10099,3255,7248,3109,600,1900,79,91,16.8,7,6227,62\\n\"University of North Carolina at Greensboro\",\"No\",5191,4134,1500,15,44,7532,1847,8677,3505,600,1300,75,94,15.5,17,7392,53\\n\"University of North Carolina at Wilmington\",\"No\",6071,3856,1449,15,67,6635,1145,7558,3680,500,1500,82,85,19.1,15,6005,55\\n\"University of North Dakota\",\"No\",2777,2249,1652,20,54,8334,1435,5634,2703,450,1200,97,97,15.9,16,9424,49\\n\"University of North Florida\",\"No\",1800,1253,560,44,85,3876,3588,6634,4360,600,2604,82,85,17.8,14,6104,47\\n\"University of North Texas\",\"No\",4418,2737,2049,23,51,14047,5134,4104,3579,450,1700,86,94,22.6,6,5657,35\\n\"University of Northern Colorado\",\"No\",5530,4007,1697,12,37,8463,1498,7731,4128,540,2286,75,75,21.5,8,6309,40\\n\"University of Northern Iowa\",\"No\",4144,3379,1853,18,52,10135,1448,6197,2930,595,2380,78,82,16.3,26,6333,77\\n\"University of Notre Dame\",\"Yes\",7700,3700,1906,79,96,7671,30,16850,4400,600,1350,96,92,13.1,46,13936,97\\n\"University of Oklahoma\",\"No\",4743,3970,2233,32,63,13436,2582,5173,3526,765,3176,86,90,11.5,11,10244,44\\n\"University of Oregon\",\"No\",8631,6732,2546,25,61,11669,1605,10602,3660,570,1530,79,87,19.7,13,8020,54\\n\"University of Pennsylvania\",\"Yes\",12394,5232,2464,85,100,9205,531,17020,7270,500,1544,95,96,6.3,38,25765,93\\n\"University of Pittsburgh-Main Campus\",\"No\",8586,6383,2503,25,59,13138,4289,10786,4560,400,900,93,93,7.8,10,13789,66\\n\"University of Portland\",\"Yes\",1758,1485,419,27,58,2041,174,12040,4100,600,1100,92,96,13.2,17,9060,72\\n\"University of Puget Sound\",\"Yes\",4044,2826,688,51,83,2738,138,16230,4500,630,1800,79,86,15,17,11217,63\\n\"University of Rhode Island\",\"No\",9643,7751,1968,12,40,8894,2456,10330,5558,500,1250,84,89,16.6,7,9158,63\\n\"University of Richmond\",\"Yes\",5892,2718,756,46,72,2854,594,14500,3285,700,1125,75,89,11.7,32,11984,100\\n\"University of Rochester\",\"Yes\",8766,5498,1243,56,75,5071,438,17840,6582,500,882,93,99,5.9,23,26037,80\\n\"University of San Diego\",\"Yes\",3934,2735,886,40,70,3698,217,13600,5940,630,1820,93,96,15.6,13,10813,66\\n\"University of San Francisco\",\"Yes\",2306,1721,538,23,48,4309,549,13226,6452,750,2450,86,86,13.6,8,10074,62\\n\"University of Sci. and Arts of Oklahoma\",\"No\",285,280,208,21,43,1140,473,3687,1920,600,1800,67,77,23.6,3,3864,43\\n\"University of Scranton\",\"Yes\",4471,2942,910,29,60,3674,493,11584,5986,650,800,83,83,14.1,41,9131,92\\n\"University of South Carolina at Aiken\",\"No\",848,560,377,14,24,1855,1412,5800,3066,500,1500,62,62,14.8,3,5035,48\\n\"University of South Carolina at Columbia\",\"No\",7693,5815,2328,30,66,12594,3661,8074,3522,495,2941,84,88,16.9,18,8246,63\\n\"University of South Florida\",\"No\",7589,4676,1876,29,63,14770,10962,6760,3776,500,2180,84,89,17,7,11020,47\\n\"University of Southern California\",\"Yes\",12229,8498,2477,45,71,13259,1429,17230,6482,600,2210,90,94,11.4,10,17007,68\\n\"University of Southern Colorado\",\"No\",1401,1239,605,10,34,3716,675,7100,4380,540,2948,63,88,19.4,0,5389,36\\n\"University of Southern Indiana\",\"No\",2379,2133,1292,8,25,4283,2973,4973,3192,500,1425,56,65,22,21,4078,38\\n\"University of Southern Mississippi\",\"No\",2850,2044,1046,20,50,9260,1387,4652,2470,500,500,78,99,18.7,23,5917,45\\n\"University of St. Thomas MN\",\"Yes\",2057,1807,828,26,53,4106,982,11712,4037,500,800,80,80,13.8,13,8546,89\\n\"University of St. Thomas TX\",\"Yes\",374,280,185,45,77,995,408,8550,4050,500,1344,75,75,12.6,17,7237,62\\n\"University of Tennessee at Knoxville\",\"No\",7473,5372,3013,27,53,15749,3237,5764,3262,750,3300,86,92,16.5,22,8612,53\\n\"University of Texas at Arlington\",\"No\",3281,2559,1448,19,43,10975,8431,4422,2780,500,2850,73,73,21,4,4696,29\\n\"University of Texas at Austin\",\"No\",14752,9572,5329,48,85,30017,5189,5130,3309,650,3140,91,99,19.7,11,7837,65\\n\"University of Texas at San Antonio\",\"No\",4217,3100,1686,17,46,9375,5457,4104,5376,452,1200,94,100,25.3,3,4329,50\\n\"University of the Arts\",\"Yes\",974,704,290,5,22,1145,39,12520,3860,1300,700,16,59,7.5,9,11641,57\\n\"University of the Pacific\",\"Yes\",2459,1997,582,36,66,2664,299,16320,5326,646,1171,87,94,11.2,14,13706,65\\n\"University of the South\",\"Yes\",1445,966,326,46,83,1129,24,15350,4080,450,810,89,93,10.3,52,18784,82\\n\"University of Tulsa\",\"Yes\",1712,1557,696,41,68,2936,433,11750,4160,1200,2350,94,96,11.5,10,11743,47\\n\"University of Utah\",\"No\",5095,4491,2400,27,53,13894,8374,6857,3975,858,3093,89,93,12.8,9,9275,37\\n\"University of Vermont\",\"No\",7663,6008,1735,18,51,7353,1674,15516,4928,500,990,87,90,9.9,10,12646,79\\n\"University of Virginia\",\"No\",15849,5384,2678,74,95,11278,114,12212,3792,500,1000,90,92,9.5,22,13597,95\\n\"University of Washington\",\"No\",12749,7025,3343,40,81,20356,4582,8199,4218,708,2172,96,94,9,10,16527,65\\n\"University of West Florida\",\"No\",1558,1254,472,20,57,3754,2477,6172,3994,541,1387,83,87,23.4,12,8488,53\\n\"University of Wisconsin-Stout\",\"No\",2593,1966,1030,9,32,6038,579,6704,2592,376,1750,78,78,21,17,6254,65\\n\"University of Wisconsin-Superior\",\"No\",910,910,342,14,53,1434,417,7032,2780,550,1960,75,81,15.2,15,6490,36\\n\"University of Wisconsin-Whitewater\",\"No\",4400,3719,1472,12,38,7804,1552,6950,2500,300,1200,90,95,23.1,16,5559,67\\n\"University of Wisconsin at Green Bay\",\"No\",2409,1939,759,17,50,3819,1347,6900,2800,475,1200,81,89,22.2,1,5968,46\\n\"University of Wisconsin at Madison\",\"No\",14901,10932,4631,36,80,23945,2200,9096,4290,535,1545,93,96,11.5,20,11006,72\\n\"University of Wisconsin at Milwaukee\",\"No\",5244,3782,1930,12,37,11561,7443,8786,2964,570,1980,79,87,15.9,8,8094,38\\n\"University of Wyoming\",\"No\",2029,1516,1073,23,46,7535,1488,5988,3422,600,1500,91,94,15.1,13,8745,45\\n\"Upper Iowa University\",\"Yes\",663,452,192,10,35,1481,1160,8840,3060,500,1000,69,75,17.4,19,3733,78\\n\"Ursinus College\",\"Yes\",1399,1026,308,44,77,1131,17,14900,5160,500,800,82,85,11.6,40,12082,79\\n\"Ursuline College\",\"Yes\",325,260,86,21,47,699,717,9600,4202,450,750,39,69,10.5,15,7164,68\\n\"Valley City State University\",\"No\",368,344,212,5,27,863,189,4286,2570,600,2000,39,41,14.9,25,4958,40\\n\"Valparaiso University\",\"Yes\",2075,1727,520,49,81,2501,198,11800,3260,500,800,87,89,14.2,23,9681,95\\n\"Vanderbilt University\",\"Yes\",7791,4690,1499,71,92,5500,90,17865,6525,630,952,93,98,5.8,26,23850,83\\n\"Vassar College\",\"Yes\",3550,1877,653,53,87,2164,77,18920,5950,600,800,90,98,9.7,39,17089,90\\n\"Villanova University\",\"Yes\",7759,5588,1477,30,68,6362,1292,15925,6507,400,300,89,90,13.4,24,10458,96\\n\"Virginia Commonwealth University\",\"No\",4963,3497,1567,18,45,10262,5065,10217,4182,500,3630,81,87,8.7,11,11183,45\\n\"Virginia State University\",\"No\",2996,2440,704,2,30,3006,338,5587,4845,500,600,61,63,16,11,5733,31\\n\"Virginia Tech\",\"No\",15712,11719,4277,29,53,18511,604,10260,3176,740,2200,85,89,13.8,20,8944,73\\n\"Virginia Union University\",\"Yes\",1847,1610,453,19,59,1298,67,7384,3494,500,1763,51,67,13.7,8,6757,30\\n\"Virginia Wesleyan College\",\"Yes\",1470,900,287,20,49,1130,417,10900,5100,500,550,70,81,15.7,14,7804,68\\n\"Viterbo College\",\"Yes\",647,518,271,17,43,1014,387,9140,3365,500,2245,51,65,10.7,31,8050,73\\n\"Voorhees College\",\"Yes\",1465,1006,188,10,30,703,20,4450,2522,500,1200,43,43,22.9,3,5861,58\\n\"Wabash College\",\"Yes\",800,623,256,41,76,801,5,12925,4195,500,635,78,85,9.9,55,14904,72\\n\"Wagner College\",\"Yes\",1416,1015,417,10,44,1324,117,13500,5800,585,1700,67,78,13.2,23,9006,75\\n\"Wake Forest University\",\"Yes\",5661,2392,903,75,88,3499,172,13850,4360,500,1250,95,97,4.3,37,41766,89\\n\"Walsh University\",\"Yes\",1092,890,477,27,92,847,497,8670,4180,500,1450,42,58,11.3,33,5738,68\\n\"Warren Wilson College\",\"Yes\",440,311,112,25,49,466,7,10000,3052,400,1100,65,75,11.4,20,9430,63\\n\"Wartburg College\",\"Yes\",1231,1074,345,34,66,1295,105,11600,3610,400,850,66,91,12.4,37,7735,67\\n\"Washington and Jefferson College\",\"Yes\",1305,1100,334,42,64,1098,151,16260,4005,300,500,91,91,12.1,40,10162,86\\n\"Washington and Lee University\",\"Yes\",3315,1096,425,68,93,1584,3,13750,4619,680,1115,81,96,9.6,45,15736,90\\n\"Washington College\",\"Yes\",1209,942,214,31,60,822,46,15276,5318,500,300,79,86,11.2,37,10830,65\\n\"Washington State University\",\"No\",6540,5839,2440,31,70,14445,1344,8200,4210,800,2719,84,87,16.9,30,10912,56\\n\"Washington University\",\"Yes\",7654,5259,1254,62,93,4879,1274,18350,5775,768,1512,91,98,3.9,31,45702,90\\n\"Wayne State College\",\"No\",1373,1373,724,6,21,2754,474,2700,2660,540,1660,60,68,20.3,29,4550,52\\n\"Waynesburg College\",\"Yes\",1190,978,324,12,30,1280,61,8840,3620,500,1200,57,58,16.2,26,6563,63\\n\"Webber College\",\"Yes\",280,143,79,5,27,327,110,5590,2900,650,1952,53,63,15.1,4,4839,90\\n\"Webster University\",\"Yes\",665,462,226,17,44,1739,1550,9160,4340,500,500,68,68,20.6,14,6951,48\\n\"Wellesley College\",\"Yes\",2895,1249,579,80,96,2195,156,18345,5995,500,700,94,98,10.6,51,21409,91\\n\"Wells College\",\"Yes\",318,240,130,40,85,416,19,14900,5550,600,500,93,98,8.3,42,13935,69\\n\"Wentworth Institute of Technology\",\"Yes\",1480,1257,452,6,25,2961,572,9850,6050,850,920,10,68,15.4,8,17858,64\\n\"Wesley College\",\"Yes\",980,807,350,10,25,872,448,9890,4674,500,1350,52,57,14.4,15,6243,84\\n\"Wesleyan University\",\"Yes\",4772,1973,712,60,86,2714,27,19130,5600,1400,1400,90,94,12.1,39,16262,92\\n\"West Chester University of Penn.\",\"No\",6502,3539,1372,11,51,7484,1904,7844,4108,400,2000,76,79,15.3,16,6773,52\\n\"West Liberty State College\",\"No\",1164,1062,478,12,25,2138,227,4470,2890,600,1210,33,33,16.3,10,4249,60\\n\"West Virginia Wesleyan College\",\"Yes\",1566,1400,483,28,55,1509,170,14200,3775,450,1100,58,81,16.4,42,8080,67\\n\"Western Carolina University\",\"No\",3224,2519,1057,11,31,5000,706,6390,2380,110,1622,67,78,14.6,9,6554,55\\n\"Western Maryland College\",\"Yes\",1205,984,278,31,50,1071,98,14510,5340,500,1400,84,91,12.5,39,10026,60\\n\"Western Michigan University\",\"No\",9167,7191,2738,24,53,15739,4278,6940,4100,500,1700,80,84,24.7,11,5983,55\\n\"Western New England College\",\"Yes\",1650,1471,409,7,21,1803,1116,8994,5500,498,2065,74,97,15.4,15,8409,59\\n\"Western State College of Colorado\",\"No\",2702,1623,604,7,24,2315,146,5918,3755,500,2050,76,79,19.4,4,4599,52\\n\"Western Washington University\",\"No\",5548,3563,1549,30,71,8909,506,8124,4144,639,2385,83,89,22.7,10,7203,61\\n\"Westfield State College\",\"No\",3100,2150,825,3,20,3234,941,5542,3788,500,1300,75,79,15.7,20,4222,65\\n\"Westminster College MO\",\"Yes\",662,553,184,20,43,665,37,10720,4050,600,1650,66,70,12.5,20,7925,62\\n\"Westminster College\",\"Yes\",996,866,377,29,58,1411,72,12065,3615,430,685,62,78,12.5,41,8596,80\\n\"Westminster College of Salt Lake City\",\"Yes\",917,720,213,21,60,979,743,8820,4050,600,2025,68,83,10.5,34,7170,50\\n\"Westmont College\",\"No\",950,713,351,42,72,1276,9,14320,5304,490,1410,77,77,14.9,17,8837,87\\n\"Wheaton College IL\",\"Yes\",1432,920,548,56,84,2200,56,11480,4200,530,1400,81,83,12.7,40,11916,85\\n\"Westminster College PA\",\"Yes\",1738,1373,417,21,55,1335,30,18460,5970,700,850,92,96,13.2,41,22704,71\\n\"Wheeling Jesuit College\",\"Yes\",903,755,213,15,49,971,305,10500,4545,600,600,66,71,14.1,27,7494,72\\n\"Whitman College\",\"Yes\",1861,998,359,45,77,1220,46,16670,4900,750,800,80,83,10.5,51,13198,72\\n\"Whittier College\",\"Yes\",1681,1069,344,35,63,1235,30,16249,5699,500,1998,84,92,13.6,29,11778,52\\n\"Whitworth College\",\"Yes\",1121,926,372,43,70,1270,160,12660,4500,678,2424,80,80,16.9,20,8328,80\\n\"Widener University\",\"Yes\",2139,1492,502,24,64,2186,2171,12350,5370,500,1350,88,86,12.6,19,9603,63\\n\"Wilkes University\",\"Yes\",1631,1431,434,15,36,1803,603,11150,5130,550,1260,78,92,13.3,24,8543,67\\n\"Willamette University\",\"Yes\",1658,1327,395,49,80,1595,159,14800,4620,400,790,91,94,13.3,37,10779,68\\n\"William Jewell College\",\"Yes\",663,547,315,32,67,1279,75,10060,2970,500,2600,74,80,11.2,19,7885,59\\n\"William Woods University\",\"Yes\",469,435,227,17,39,851,120,10535,4365,550,3700,39,66,12.9,16,7438,52\\n\"Williams College\",\"Yes\",4186,1245,526,81,96,1988,29,19629,5790,500,1200,94,99,9,64,22014,99\\n\"Wilson College\",\"Yes\",167,130,46,16,50,199,676,11428,5084,450,475,67,76,8.3,43,10291,67\\n\"Wingate College\",\"Yes\",1239,1017,383,10,34,1207,157,7820,3400,550,1550,69,81,13.9,8,7264,91\\n\"Winona State University\",\"No\",3325,2047,1301,20,45,5800,872,4200,2700,300,1200,53,60,20.2,18,5318,58\\n\"Winthrop University\",\"No\",2320,1805,769,24,61,3395,670,6400,3392,580,2150,71,80,12.8,26,6729,59\\n\"Wisconsin Lutheran College\",\"Yes\",152,128,75,17,41,282,22,9100,3700,500,1400,48,48,8.5,26,8960,50\\n\"Wittenberg University\",\"Yes\",1979,1739,575,42,68,1980,144,15948,4404,400,800,82,95,12.8,29,10414,78\\n\"Wofford College\",\"Yes\",1501,935,273,51,83,1059,34,12680,4150,605,1440,91,92,15.3,42,7875,75\\n\"Worcester Polytechnic Institute\",\"Yes\",2768,2314,682,49,86,2802,86,15884,5370,530,730,92,94,15.2,34,10774,82\\n\"Worcester State College\",\"No\",2197,1515,543,4,26,3089,2029,6797,3900,500,1200,60,60,21,14,4469,40\\n\"Xavier University\",\"Yes\",1959,1805,695,24,47,2849,1107,11520,4960,600,1250,73,75,13.3,31,9189,83\\n\"Xavier University of Louisiana\",\"Yes\",2097,1915,695,34,61,2793,166,6900,4200,617,781,67,75,14.4,20,8323,49\\n\"Yale University\",\"Yes\",10705,2453,1317,95,99,5217,83,19840,6510,630,2115,96,96,5.8,49,40386,99\\n\"York College of Pennsylvania\",\"Yes\",2989,1855,691,28,63,2988,1726,4990,3560,500,1250,75,75,18.1,28,4509,99\\n'}"
            ]
          },
          "metadata": {
            "tags": []
          },
          "execution_count": 1
        }
      ]
    },
    {
      "metadata": {
        "id": "g_WA-CO16M_2",
        "colab_type": "text"
      },
      "cell_type": "markdown",
      "source": [
        "## Get the Data"
      ]
    },
    {
      "metadata": {
        "id": "VfIxmAuv6M_5",
        "colab_type": "text"
      },
      "cell_type": "markdown",
      "source": [
        "** Read in the College_Data file using read_csv. Figure out how to set the first column as the index.**"
      ]
    },
    {
      "metadata": {
        "id": "yA5TYg5x6M_7",
        "colab_type": "code",
        "colab": {
          "autoexec": {
            "startup": false,
            "wait_interval": 0
          }
        }
      },
      "cell_type": "code",
      "source": [
        "import pandas as pd\n",
        "import matplotlib.pyplot as plt\n",
        "import seaborn as sns\n",
        "\n",
        "college_data = pd.read_csv('College_Data',index_col=0)"
      ],
      "execution_count": 0,
      "outputs": []
    },
    {
      "metadata": {
        "id": "x0gCNuUj6M__",
        "colab_type": "text"
      },
      "cell_type": "markdown",
      "source": [
        "**Check the head of the data**"
      ]
    },
    {
      "metadata": {
        "id": "B3EdnKXv8Drb",
        "colab_type": "code",
        "colab": {
          "autoexec": {
            "startup": false,
            "wait_interval": 0
          },
          "base_uri": "https://localhost:8080/",
          "height": 356
        },
        "outputId": "73445e76-7b65-49ca-c4b8-271b71fe310e",
        "executionInfo": {
          "status": "ok",
          "timestamp": 1532247966546,
          "user_tz": -330,
          "elapsed": 1077,
          "user": {
            "displayName": "ankur raja",
            "photoUrl": "//lh3.googleusercontent.com/-P3hjYlx442I/AAAAAAAAAAI/AAAAAAAAAJ8/_AwxqjC6DhE/s50-c-k-no/photo.jpg",
            "userId": "111833698361307138454"
          }
        }
      },
      "cell_type": "code",
      "source": [
        "college_data.head()"
      ],
      "execution_count": 79,
      "outputs": [
        {
          "output_type": "execute_result",
          "data": {
            "text/html": [
              "<div>\n",
              "<style scoped>\n",
              "    .dataframe tbody tr th:only-of-type {\n",
              "        vertical-align: middle;\n",
              "    }\n",
              "\n",
              "    .dataframe tbody tr th {\n",
              "        vertical-align: top;\n",
              "    }\n",
              "\n",
              "    .dataframe thead th {\n",
              "        text-align: right;\n",
              "    }\n",
              "</style>\n",
              "<table border=\"1\" class=\"dataframe\">\n",
              "  <thead>\n",
              "    <tr style=\"text-align: right;\">\n",
              "      <th></th>\n",
              "      <th>Private</th>\n",
              "      <th>Apps</th>\n",
              "      <th>Accept</th>\n",
              "      <th>Enroll</th>\n",
              "      <th>Top10perc</th>\n",
              "      <th>Top25perc</th>\n",
              "      <th>F.Undergrad</th>\n",
              "      <th>P.Undergrad</th>\n",
              "      <th>Outstate</th>\n",
              "      <th>Room.Board</th>\n",
              "      <th>Books</th>\n",
              "      <th>Personal</th>\n",
              "      <th>PhD</th>\n",
              "      <th>Terminal</th>\n",
              "      <th>S.F.Ratio</th>\n",
              "      <th>perc.alumni</th>\n",
              "      <th>Expend</th>\n",
              "      <th>Grad.Rate</th>\n",
              "    </tr>\n",
              "  </thead>\n",
              "  <tbody>\n",
              "    <tr>\n",
              "      <th>Abilene Christian University</th>\n",
              "      <td>Yes</td>\n",
              "      <td>1660</td>\n",
              "      <td>1232</td>\n",
              "      <td>721</td>\n",
              "      <td>23</td>\n",
              "      <td>52</td>\n",
              "      <td>2885</td>\n",
              "      <td>537</td>\n",
              "      <td>7440</td>\n",
              "      <td>3300</td>\n",
              "      <td>450</td>\n",
              "      <td>2200</td>\n",
              "      <td>70</td>\n",
              "      <td>78</td>\n",
              "      <td>18.1</td>\n",
              "      <td>12</td>\n",
              "      <td>7041</td>\n",
              "      <td>60</td>\n",
              "    </tr>\n",
              "    <tr>\n",
              "      <th>Adelphi University</th>\n",
              "      <td>Yes</td>\n",
              "      <td>2186</td>\n",
              "      <td>1924</td>\n",
              "      <td>512</td>\n",
              "      <td>16</td>\n",
              "      <td>29</td>\n",
              "      <td>2683</td>\n",
              "      <td>1227</td>\n",
              "      <td>12280</td>\n",
              "      <td>6450</td>\n",
              "      <td>750</td>\n",
              "      <td>1500</td>\n",
              "      <td>29</td>\n",
              "      <td>30</td>\n",
              "      <td>12.2</td>\n",
              "      <td>16</td>\n",
              "      <td>10527</td>\n",
              "      <td>56</td>\n",
              "    </tr>\n",
              "    <tr>\n",
              "      <th>Adrian College</th>\n",
              "      <td>Yes</td>\n",
              "      <td>1428</td>\n",
              "      <td>1097</td>\n",
              "      <td>336</td>\n",
              "      <td>22</td>\n",
              "      <td>50</td>\n",
              "      <td>1036</td>\n",
              "      <td>99</td>\n",
              "      <td>11250</td>\n",
              "      <td>3750</td>\n",
              "      <td>400</td>\n",
              "      <td>1165</td>\n",
              "      <td>53</td>\n",
              "      <td>66</td>\n",
              "      <td>12.9</td>\n",
              "      <td>30</td>\n",
              "      <td>8735</td>\n",
              "      <td>54</td>\n",
              "    </tr>\n",
              "    <tr>\n",
              "      <th>Agnes Scott College</th>\n",
              "      <td>Yes</td>\n",
              "      <td>417</td>\n",
              "      <td>349</td>\n",
              "      <td>137</td>\n",
              "      <td>60</td>\n",
              "      <td>89</td>\n",
              "      <td>510</td>\n",
              "      <td>63</td>\n",
              "      <td>12960</td>\n",
              "      <td>5450</td>\n",
              "      <td>450</td>\n",
              "      <td>875</td>\n",
              "      <td>92</td>\n",
              "      <td>97</td>\n",
              "      <td>7.7</td>\n",
              "      <td>37</td>\n",
              "      <td>19016</td>\n",
              "      <td>59</td>\n",
              "    </tr>\n",
              "    <tr>\n",
              "      <th>Alaska Pacific University</th>\n",
              "      <td>Yes</td>\n",
              "      <td>193</td>\n",
              "      <td>146</td>\n",
              "      <td>55</td>\n",
              "      <td>16</td>\n",
              "      <td>44</td>\n",
              "      <td>249</td>\n",
              "      <td>869</td>\n",
              "      <td>7560</td>\n",
              "      <td>4120</td>\n",
              "      <td>800</td>\n",
              "      <td>1500</td>\n",
              "      <td>76</td>\n",
              "      <td>72</td>\n",
              "      <td>11.9</td>\n",
              "      <td>2</td>\n",
              "      <td>10922</td>\n",
              "      <td>15</td>\n",
              "    </tr>\n",
              "  </tbody>\n",
              "</table>\n",
              "</div>"
            ],
            "text/plain": [
              "                             Private  Apps  Accept  Enroll  Top10perc  \\\n",
              "Abilene Christian University     Yes  1660    1232     721         23   \n",
              "Adelphi University               Yes  2186    1924     512         16   \n",
              "Adrian College                   Yes  1428    1097     336         22   \n",
              "Agnes Scott College              Yes   417     349     137         60   \n",
              "Alaska Pacific University        Yes   193     146      55         16   \n",
              "\n",
              "                              Top25perc  F.Undergrad  P.Undergrad  Outstate  \\\n",
              "Abilene Christian University         52         2885          537      7440   \n",
              "Adelphi University                   29         2683         1227     12280   \n",
              "Adrian College                       50         1036           99     11250   \n",
              "Agnes Scott College                  89          510           63     12960   \n",
              "Alaska Pacific University            44          249          869      7560   \n",
              "\n",
              "                              Room.Board  Books  Personal  PhD  Terminal  \\\n",
              "Abilene Christian University        3300    450      2200   70        78   \n",
              "Adelphi University                  6450    750      1500   29        30   \n",
              "Adrian College                      3750    400      1165   53        66   \n",
              "Agnes Scott College                 5450    450       875   92        97   \n",
              "Alaska Pacific University           4120    800      1500   76        72   \n",
              "\n",
              "                              S.F.Ratio  perc.alumni  Expend  Grad.Rate  \n",
              "Abilene Christian University       18.1           12    7041         60  \n",
              "Adelphi University                 12.2           16   10527         56  \n",
              "Adrian College                     12.9           30    8735         54  \n",
              "Agnes Scott College                 7.7           37   19016         59  \n",
              "Alaska Pacific University          11.9            2   10922         15  "
            ]
          },
          "metadata": {
            "tags": []
          },
          "execution_count": 79
        }
      ]
    },
    {
      "metadata": {
        "id": "zCFLrJpF6NAB",
        "colab_type": "code",
        "colab": {
          "autoexec": {
            "startup": false,
            "wait_interval": 0
          }
        },
        "outputId": "b91e670e-b016-4497-ed0f-132bf07fbdf8"
      },
      "cell_type": "code",
      "source": [
        ""
      ],
      "execution_count": 0,
      "outputs": [
        {
          "output_type": "execute_result",
          "data": {
            "text/html": [
              "<div>\n",
              "<table border=\"1\" class=\"dataframe\">\n",
              "  <thead>\n",
              "    <tr style=\"text-align: right;\">\n",
              "      <th></th>\n",
              "      <th>Private</th>\n",
              "      <th>Apps</th>\n",
              "      <th>Accept</th>\n",
              "      <th>Enroll</th>\n",
              "      <th>Top10perc</th>\n",
              "      <th>Top25perc</th>\n",
              "      <th>F.Undergrad</th>\n",
              "      <th>P.Undergrad</th>\n",
              "      <th>Outstate</th>\n",
              "      <th>Room.Board</th>\n",
              "      <th>Books</th>\n",
              "      <th>Personal</th>\n",
              "      <th>PhD</th>\n",
              "      <th>Terminal</th>\n",
              "      <th>S.F.Ratio</th>\n",
              "      <th>perc.alumni</th>\n",
              "      <th>Expend</th>\n",
              "      <th>Grad.Rate</th>\n",
              "    </tr>\n",
              "  </thead>\n",
              "  <tbody>\n",
              "    <tr>\n",
              "      <th>Abilene Christian University</th>\n",
              "      <td>Yes</td>\n",
              "      <td>1660</td>\n",
              "      <td>1232</td>\n",
              "      <td>721</td>\n",
              "      <td>23</td>\n",
              "      <td>52</td>\n",
              "      <td>2885</td>\n",
              "      <td>537</td>\n",
              "      <td>7440</td>\n",
              "      <td>3300</td>\n",
              "      <td>450</td>\n",
              "      <td>2200</td>\n",
              "      <td>70</td>\n",
              "      <td>78</td>\n",
              "      <td>18.1</td>\n",
              "      <td>12</td>\n",
              "      <td>7041</td>\n",
              "      <td>60</td>\n",
              "    </tr>\n",
              "    <tr>\n",
              "      <th>Adelphi University</th>\n",
              "      <td>Yes</td>\n",
              "      <td>2186</td>\n",
              "      <td>1924</td>\n",
              "      <td>512</td>\n",
              "      <td>16</td>\n",
              "      <td>29</td>\n",
              "      <td>2683</td>\n",
              "      <td>1227</td>\n",
              "      <td>12280</td>\n",
              "      <td>6450</td>\n",
              "      <td>750</td>\n",
              "      <td>1500</td>\n",
              "      <td>29</td>\n",
              "      <td>30</td>\n",
              "      <td>12.2</td>\n",
              "      <td>16</td>\n",
              "      <td>10527</td>\n",
              "      <td>56</td>\n",
              "    </tr>\n",
              "    <tr>\n",
              "      <th>Adrian College</th>\n",
              "      <td>Yes</td>\n",
              "      <td>1428</td>\n",
              "      <td>1097</td>\n",
              "      <td>336</td>\n",
              "      <td>22</td>\n",
              "      <td>50</td>\n",
              "      <td>1036</td>\n",
              "      <td>99</td>\n",
              "      <td>11250</td>\n",
              "      <td>3750</td>\n",
              "      <td>400</td>\n",
              "      <td>1165</td>\n",
              "      <td>53</td>\n",
              "      <td>66</td>\n",
              "      <td>12.9</td>\n",
              "      <td>30</td>\n",
              "      <td>8735</td>\n",
              "      <td>54</td>\n",
              "    </tr>\n",
              "    <tr>\n",
              "      <th>Agnes Scott College</th>\n",
              "      <td>Yes</td>\n",
              "      <td>417</td>\n",
              "      <td>349</td>\n",
              "      <td>137</td>\n",
              "      <td>60</td>\n",
              "      <td>89</td>\n",
              "      <td>510</td>\n",
              "      <td>63</td>\n",
              "      <td>12960</td>\n",
              "      <td>5450</td>\n",
              "      <td>450</td>\n",
              "      <td>875</td>\n",
              "      <td>92</td>\n",
              "      <td>97</td>\n",
              "      <td>7.7</td>\n",
              "      <td>37</td>\n",
              "      <td>19016</td>\n",
              "      <td>59</td>\n",
              "    </tr>\n",
              "    <tr>\n",
              "      <th>Alaska Pacific University</th>\n",
              "      <td>Yes</td>\n",
              "      <td>193</td>\n",
              "      <td>146</td>\n",
              "      <td>55</td>\n",
              "      <td>16</td>\n",
              "      <td>44</td>\n",
              "      <td>249</td>\n",
              "      <td>869</td>\n",
              "      <td>7560</td>\n",
              "      <td>4120</td>\n",
              "      <td>800</td>\n",
              "      <td>1500</td>\n",
              "      <td>76</td>\n",
              "      <td>72</td>\n",
              "      <td>11.9</td>\n",
              "      <td>2</td>\n",
              "      <td>10922</td>\n",
              "      <td>15</td>\n",
              "    </tr>\n",
              "  </tbody>\n",
              "</table>\n",
              "</div>"
            ],
            "text/plain": [
              "                             Private  Apps  Accept  Enroll  Top10perc  \\\n",
              "Abilene Christian University     Yes  1660    1232     721         23   \n",
              "Adelphi University               Yes  2186    1924     512         16   \n",
              "Adrian College                   Yes  1428    1097     336         22   \n",
              "Agnes Scott College              Yes   417     349     137         60   \n",
              "Alaska Pacific University        Yes   193     146      55         16   \n",
              "\n",
              "                              Top25perc  F.Undergrad  P.Undergrad  Outstate  \\\n",
              "Abilene Christian University         52         2885          537      7440   \n",
              "Adelphi University                   29         2683         1227     12280   \n",
              "Adrian College                       50         1036           99     11250   \n",
              "Agnes Scott College                  89          510           63     12960   \n",
              "Alaska Pacific University            44          249          869      7560   \n",
              "\n",
              "                              Room.Board  Books  Personal  PhD  Terminal  \\\n",
              "Abilene Christian University        3300    450      2200   70        78   \n",
              "Adelphi University                  6450    750      1500   29        30   \n",
              "Adrian College                      3750    400      1165   53        66   \n",
              "Agnes Scott College                 5450    450       875   92        97   \n",
              "Alaska Pacific University           4120    800      1500   76        72   \n",
              "\n",
              "                              S.F.Ratio  perc.alumni  Expend  Grad.Rate  \n",
              "Abilene Christian University       18.1           12    7041         60  \n",
              "Adelphi University                 12.2           16   10527         56  \n",
              "Adrian College                     12.9           30    8735         54  \n",
              "Agnes Scott College                 7.7           37   19016         59  \n",
              "Alaska Pacific University          11.9            2   10922         15  "
            ]
          },
          "metadata": {
            "tags": []
          },
          "execution_count": 105
        }
      ]
    },
    {
      "metadata": {
        "id": "AR8mXGvb6NAL",
        "colab_type": "text"
      },
      "cell_type": "markdown",
      "source": [
        "** Check the info() and describe() methods on the data.**"
      ]
    },
    {
      "metadata": {
        "id": "JjOXtcCH8LXi",
        "colab_type": "code",
        "colab": {
          "autoexec": {
            "startup": false,
            "wait_interval": 0
          },
          "base_uri": "https://localhost:8080/",
          "height": 415
        },
        "outputId": "5872a40b-b6cf-4415-900b-46ea258d5f19",
        "executionInfo": {
          "status": "ok",
          "timestamp": 1532247970756,
          "user_tz": -330,
          "elapsed": 1225,
          "user": {
            "displayName": "ankur raja",
            "photoUrl": "//lh3.googleusercontent.com/-P3hjYlx442I/AAAAAAAAAAI/AAAAAAAAAJ8/_AwxqjC6DhE/s50-c-k-no/photo.jpg",
            "userId": "111833698361307138454"
          }
        }
      },
      "cell_type": "code",
      "source": [
        "college_data.info()"
      ],
      "execution_count": 80,
      "outputs": [
        {
          "output_type": "stream",
          "text": [
            "<class 'pandas.core.frame.DataFrame'>\n",
            "Index: 777 entries, Abilene Christian University to York College of Pennsylvania\n",
            "Data columns (total 18 columns):\n",
            "Private        777 non-null object\n",
            "Apps           777 non-null int64\n",
            "Accept         777 non-null int64\n",
            "Enroll         777 non-null int64\n",
            "Top10perc      777 non-null int64\n",
            "Top25perc      777 non-null int64\n",
            "F.Undergrad    777 non-null int64\n",
            "P.Undergrad    777 non-null int64\n",
            "Outstate       777 non-null int64\n",
            "Room.Board     777 non-null int64\n",
            "Books          777 non-null int64\n",
            "Personal       777 non-null int64\n",
            "PhD            777 non-null int64\n",
            "Terminal       777 non-null int64\n",
            "S.F.Ratio      777 non-null float64\n",
            "perc.alumni    777 non-null int64\n",
            "Expend         777 non-null int64\n",
            "Grad.Rate      777 non-null int64\n",
            "dtypes: float64(1), int64(16), object(1)\n",
            "memory usage: 115.3+ KB\n"
          ],
          "name": "stdout"
        }
      ]
    },
    {
      "metadata": {
        "id": "kfIESn908RT3",
        "colab_type": "code",
        "colab": {
          "autoexec": {
            "startup": false,
            "wait_interval": 0
          },
          "base_uri": "https://localhost:8080/",
          "height": 308
        },
        "outputId": "687a4187-4b27-4886-a81a-a1e2bfcd172b",
        "executionInfo": {
          "status": "ok",
          "timestamp": 1532247972019,
          "user_tz": -330,
          "elapsed": 756,
          "user": {
            "displayName": "ankur raja",
            "photoUrl": "//lh3.googleusercontent.com/-P3hjYlx442I/AAAAAAAAAAI/AAAAAAAAAJ8/_AwxqjC6DhE/s50-c-k-no/photo.jpg",
            "userId": "111833698361307138454"
          }
        }
      },
      "cell_type": "code",
      "source": [
        "college_data.describe()"
      ],
      "execution_count": 81,
      "outputs": [
        {
          "output_type": "execute_result",
          "data": {
            "text/html": [
              "<div>\n",
              "<style scoped>\n",
              "    .dataframe tbody tr th:only-of-type {\n",
              "        vertical-align: middle;\n",
              "    }\n",
              "\n",
              "    .dataframe tbody tr th {\n",
              "        vertical-align: top;\n",
              "    }\n",
              "\n",
              "    .dataframe thead th {\n",
              "        text-align: right;\n",
              "    }\n",
              "</style>\n",
              "<table border=\"1\" class=\"dataframe\">\n",
              "  <thead>\n",
              "    <tr style=\"text-align: right;\">\n",
              "      <th></th>\n",
              "      <th>Apps</th>\n",
              "      <th>Accept</th>\n",
              "      <th>Enroll</th>\n",
              "      <th>Top10perc</th>\n",
              "      <th>Top25perc</th>\n",
              "      <th>F.Undergrad</th>\n",
              "      <th>P.Undergrad</th>\n",
              "      <th>Outstate</th>\n",
              "      <th>Room.Board</th>\n",
              "      <th>Books</th>\n",
              "      <th>Personal</th>\n",
              "      <th>PhD</th>\n",
              "      <th>Terminal</th>\n",
              "      <th>S.F.Ratio</th>\n",
              "      <th>perc.alumni</th>\n",
              "      <th>Expend</th>\n",
              "      <th>Grad.Rate</th>\n",
              "    </tr>\n",
              "  </thead>\n",
              "  <tbody>\n",
              "    <tr>\n",
              "      <th>count</th>\n",
              "      <td>777.000000</td>\n",
              "      <td>777.000000</td>\n",
              "      <td>777.000000</td>\n",
              "      <td>777.000000</td>\n",
              "      <td>777.000000</td>\n",
              "      <td>777.000000</td>\n",
              "      <td>777.000000</td>\n",
              "      <td>777.000000</td>\n",
              "      <td>777.000000</td>\n",
              "      <td>777.000000</td>\n",
              "      <td>777.000000</td>\n",
              "      <td>777.000000</td>\n",
              "      <td>777.000000</td>\n",
              "      <td>777.000000</td>\n",
              "      <td>777.000000</td>\n",
              "      <td>777.000000</td>\n",
              "      <td>777.00000</td>\n",
              "    </tr>\n",
              "    <tr>\n",
              "      <th>mean</th>\n",
              "      <td>3001.638353</td>\n",
              "      <td>2018.804376</td>\n",
              "      <td>779.972973</td>\n",
              "      <td>27.558559</td>\n",
              "      <td>55.796654</td>\n",
              "      <td>3699.907336</td>\n",
              "      <td>855.298584</td>\n",
              "      <td>10440.669241</td>\n",
              "      <td>4357.526384</td>\n",
              "      <td>549.380952</td>\n",
              "      <td>1340.642214</td>\n",
              "      <td>72.660232</td>\n",
              "      <td>79.702703</td>\n",
              "      <td>14.089704</td>\n",
              "      <td>22.743887</td>\n",
              "      <td>9660.171171</td>\n",
              "      <td>65.46332</td>\n",
              "    </tr>\n",
              "    <tr>\n",
              "      <th>std</th>\n",
              "      <td>3870.201484</td>\n",
              "      <td>2451.113971</td>\n",
              "      <td>929.176190</td>\n",
              "      <td>17.640364</td>\n",
              "      <td>19.804778</td>\n",
              "      <td>4850.420531</td>\n",
              "      <td>1522.431887</td>\n",
              "      <td>4023.016484</td>\n",
              "      <td>1096.696416</td>\n",
              "      <td>165.105360</td>\n",
              "      <td>677.071454</td>\n",
              "      <td>16.328155</td>\n",
              "      <td>14.722359</td>\n",
              "      <td>3.958349</td>\n",
              "      <td>12.391801</td>\n",
              "      <td>5221.768440</td>\n",
              "      <td>17.17771</td>\n",
              "    </tr>\n",
              "    <tr>\n",
              "      <th>min</th>\n",
              "      <td>81.000000</td>\n",
              "      <td>72.000000</td>\n",
              "      <td>35.000000</td>\n",
              "      <td>1.000000</td>\n",
              "      <td>9.000000</td>\n",
              "      <td>139.000000</td>\n",
              "      <td>1.000000</td>\n",
              "      <td>2340.000000</td>\n",
              "      <td>1780.000000</td>\n",
              "      <td>96.000000</td>\n",
              "      <td>250.000000</td>\n",
              "      <td>8.000000</td>\n",
              "      <td>24.000000</td>\n",
              "      <td>2.500000</td>\n",
              "      <td>0.000000</td>\n",
              "      <td>3186.000000</td>\n",
              "      <td>10.00000</td>\n",
              "    </tr>\n",
              "    <tr>\n",
              "      <th>25%</th>\n",
              "      <td>776.000000</td>\n",
              "      <td>604.000000</td>\n",
              "      <td>242.000000</td>\n",
              "      <td>15.000000</td>\n",
              "      <td>41.000000</td>\n",
              "      <td>992.000000</td>\n",
              "      <td>95.000000</td>\n",
              "      <td>7320.000000</td>\n",
              "      <td>3597.000000</td>\n",
              "      <td>470.000000</td>\n",
              "      <td>850.000000</td>\n",
              "      <td>62.000000</td>\n",
              "      <td>71.000000</td>\n",
              "      <td>11.500000</td>\n",
              "      <td>13.000000</td>\n",
              "      <td>6751.000000</td>\n",
              "      <td>53.00000</td>\n",
              "    </tr>\n",
              "    <tr>\n",
              "      <th>50%</th>\n",
              "      <td>1558.000000</td>\n",
              "      <td>1110.000000</td>\n",
              "      <td>434.000000</td>\n",
              "      <td>23.000000</td>\n",
              "      <td>54.000000</td>\n",
              "      <td>1707.000000</td>\n",
              "      <td>353.000000</td>\n",
              "      <td>9990.000000</td>\n",
              "      <td>4200.000000</td>\n",
              "      <td>500.000000</td>\n",
              "      <td>1200.000000</td>\n",
              "      <td>75.000000</td>\n",
              "      <td>82.000000</td>\n",
              "      <td>13.600000</td>\n",
              "      <td>21.000000</td>\n",
              "      <td>8377.000000</td>\n",
              "      <td>65.00000</td>\n",
              "    </tr>\n",
              "    <tr>\n",
              "      <th>75%</th>\n",
              "      <td>3624.000000</td>\n",
              "      <td>2424.000000</td>\n",
              "      <td>902.000000</td>\n",
              "      <td>35.000000</td>\n",
              "      <td>69.000000</td>\n",
              "      <td>4005.000000</td>\n",
              "      <td>967.000000</td>\n",
              "      <td>12925.000000</td>\n",
              "      <td>5050.000000</td>\n",
              "      <td>600.000000</td>\n",
              "      <td>1700.000000</td>\n",
              "      <td>85.000000</td>\n",
              "      <td>92.000000</td>\n",
              "      <td>16.500000</td>\n",
              "      <td>31.000000</td>\n",
              "      <td>10830.000000</td>\n",
              "      <td>78.00000</td>\n",
              "    </tr>\n",
              "    <tr>\n",
              "      <th>max</th>\n",
              "      <td>48094.000000</td>\n",
              "      <td>26330.000000</td>\n",
              "      <td>6392.000000</td>\n",
              "      <td>96.000000</td>\n",
              "      <td>100.000000</td>\n",
              "      <td>31643.000000</td>\n",
              "      <td>21836.000000</td>\n",
              "      <td>21700.000000</td>\n",
              "      <td>8124.000000</td>\n",
              "      <td>2340.000000</td>\n",
              "      <td>6800.000000</td>\n",
              "      <td>103.000000</td>\n",
              "      <td>100.000000</td>\n",
              "      <td>39.800000</td>\n",
              "      <td>64.000000</td>\n",
              "      <td>56233.000000</td>\n",
              "      <td>118.00000</td>\n",
              "    </tr>\n",
              "  </tbody>\n",
              "</table>\n",
              "</div>"
            ],
            "text/plain": [
              "               Apps        Accept       Enroll   Top10perc   Top25perc  \\\n",
              "count    777.000000    777.000000   777.000000  777.000000  777.000000   \n",
              "mean    3001.638353   2018.804376   779.972973   27.558559   55.796654   \n",
              "std     3870.201484   2451.113971   929.176190   17.640364   19.804778   \n",
              "min       81.000000     72.000000    35.000000    1.000000    9.000000   \n",
              "25%      776.000000    604.000000   242.000000   15.000000   41.000000   \n",
              "50%     1558.000000   1110.000000   434.000000   23.000000   54.000000   \n",
              "75%     3624.000000   2424.000000   902.000000   35.000000   69.000000   \n",
              "max    48094.000000  26330.000000  6392.000000   96.000000  100.000000   \n",
              "\n",
              "        F.Undergrad   P.Undergrad      Outstate   Room.Board        Books  \\\n",
              "count    777.000000    777.000000    777.000000   777.000000   777.000000   \n",
              "mean    3699.907336    855.298584  10440.669241  4357.526384   549.380952   \n",
              "std     4850.420531   1522.431887   4023.016484  1096.696416   165.105360   \n",
              "min      139.000000      1.000000   2340.000000  1780.000000    96.000000   \n",
              "25%      992.000000     95.000000   7320.000000  3597.000000   470.000000   \n",
              "50%     1707.000000    353.000000   9990.000000  4200.000000   500.000000   \n",
              "75%     4005.000000    967.000000  12925.000000  5050.000000   600.000000   \n",
              "max    31643.000000  21836.000000  21700.000000  8124.000000  2340.000000   \n",
              "\n",
              "          Personal         PhD    Terminal   S.F.Ratio  perc.alumni  \\\n",
              "count   777.000000  777.000000  777.000000  777.000000   777.000000   \n",
              "mean   1340.642214   72.660232   79.702703   14.089704    22.743887   \n",
              "std     677.071454   16.328155   14.722359    3.958349    12.391801   \n",
              "min     250.000000    8.000000   24.000000    2.500000     0.000000   \n",
              "25%     850.000000   62.000000   71.000000   11.500000    13.000000   \n",
              "50%    1200.000000   75.000000   82.000000   13.600000    21.000000   \n",
              "75%    1700.000000   85.000000   92.000000   16.500000    31.000000   \n",
              "max    6800.000000  103.000000  100.000000   39.800000    64.000000   \n",
              "\n",
              "             Expend  Grad.Rate  \n",
              "count    777.000000  777.00000  \n",
              "mean    9660.171171   65.46332  \n",
              "std     5221.768440   17.17771  \n",
              "min     3186.000000   10.00000  \n",
              "25%     6751.000000   53.00000  \n",
              "50%     8377.000000   65.00000  \n",
              "75%    10830.000000   78.00000  \n",
              "max    56233.000000  118.00000  "
            ]
          },
          "metadata": {
            "tags": []
          },
          "execution_count": 81
        }
      ]
    },
    {
      "metadata": {
        "id": "H20x1EeN6NAN",
        "colab_type": "code",
        "colab": {
          "autoexec": {
            "startup": false,
            "wait_interval": 0
          }
        },
        "outputId": "8285593c-9ba8-448c-c3a4-14a5eea8588d"
      },
      "cell_type": "code",
      "source": [
        ""
      ],
      "execution_count": 0,
      "outputs": [
        {
          "output_type": "stream",
          "text": [
            "<class 'pandas.core.frame.DataFrame'>\n",
            "Index: 777 entries, Abilene Christian University to York College of Pennsylvania\n",
            "Data columns (total 18 columns):\n",
            "Private        777 non-null object\n",
            "Apps           777 non-null int64\n",
            "Accept         777 non-null int64\n",
            "Enroll         777 non-null int64\n",
            "Top10perc      777 non-null int64\n",
            "Top25perc      777 non-null int64\n",
            "F.Undergrad    777 non-null int64\n",
            "P.Undergrad    777 non-null int64\n",
            "Outstate       777 non-null int64\n",
            "Room.Board     777 non-null int64\n",
            "Books          777 non-null int64\n",
            "Personal       777 non-null int64\n",
            "PhD            777 non-null int64\n",
            "Terminal       777 non-null int64\n",
            "S.F.Ratio      777 non-null float64\n",
            "perc.alumni    777 non-null int64\n",
            "Expend         777 non-null int64\n",
            "Grad.Rate      777 non-null int64\n",
            "dtypes: float64(1), int64(16), object(1)\n",
            "memory usage: 115.3+ KB\n"
          ],
          "name": "stdout"
        }
      ]
    },
    {
      "metadata": {
        "id": "UUBzMZrB6NAT",
        "colab_type": "code",
        "colab": {
          "autoexec": {
            "startup": false,
            "wait_interval": 0
          }
        },
        "outputId": "0b56a02a-ac2e-4bc4-9db7-8edd46bcc5b3"
      },
      "cell_type": "code",
      "source": [
        ""
      ],
      "execution_count": 0,
      "outputs": [
        {
          "output_type": "execute_result",
          "data": {
            "text/html": [
              "<div>\n",
              "<table border=\"1\" class=\"dataframe\">\n",
              "  <thead>\n",
              "    <tr style=\"text-align: right;\">\n",
              "      <th></th>\n",
              "      <th>Apps</th>\n",
              "      <th>Accept</th>\n",
              "      <th>Enroll</th>\n",
              "      <th>Top10perc</th>\n",
              "      <th>Top25perc</th>\n",
              "      <th>F.Undergrad</th>\n",
              "      <th>P.Undergrad</th>\n",
              "      <th>Outstate</th>\n",
              "      <th>Room.Board</th>\n",
              "      <th>Books</th>\n",
              "      <th>Personal</th>\n",
              "      <th>PhD</th>\n",
              "      <th>Terminal</th>\n",
              "      <th>S.F.Ratio</th>\n",
              "      <th>perc.alumni</th>\n",
              "      <th>Expend</th>\n",
              "      <th>Grad.Rate</th>\n",
              "    </tr>\n",
              "  </thead>\n",
              "  <tbody>\n",
              "    <tr>\n",
              "      <th>count</th>\n",
              "      <td>777.000000</td>\n",
              "      <td>777.000000</td>\n",
              "      <td>777.000000</td>\n",
              "      <td>777.000000</td>\n",
              "      <td>777.000000</td>\n",
              "      <td>777.000000</td>\n",
              "      <td>777.000000</td>\n",
              "      <td>777.000000</td>\n",
              "      <td>777.000000</td>\n",
              "      <td>777.000000</td>\n",
              "      <td>777.000000</td>\n",
              "      <td>777.000000</td>\n",
              "      <td>777.000000</td>\n",
              "      <td>777.000000</td>\n",
              "      <td>777.000000</td>\n",
              "      <td>777.000000</td>\n",
              "      <td>777.00000</td>\n",
              "    </tr>\n",
              "    <tr>\n",
              "      <th>mean</th>\n",
              "      <td>3001.638353</td>\n",
              "      <td>2018.804376</td>\n",
              "      <td>779.972973</td>\n",
              "      <td>27.558559</td>\n",
              "      <td>55.796654</td>\n",
              "      <td>3699.907336</td>\n",
              "      <td>855.298584</td>\n",
              "      <td>10440.669241</td>\n",
              "      <td>4357.526384</td>\n",
              "      <td>549.380952</td>\n",
              "      <td>1340.642214</td>\n",
              "      <td>72.660232</td>\n",
              "      <td>79.702703</td>\n",
              "      <td>14.089704</td>\n",
              "      <td>22.743887</td>\n",
              "      <td>9660.171171</td>\n",
              "      <td>65.46332</td>\n",
              "    </tr>\n",
              "    <tr>\n",
              "      <th>std</th>\n",
              "      <td>3870.201484</td>\n",
              "      <td>2451.113971</td>\n",
              "      <td>929.176190</td>\n",
              "      <td>17.640364</td>\n",
              "      <td>19.804778</td>\n",
              "      <td>4850.420531</td>\n",
              "      <td>1522.431887</td>\n",
              "      <td>4023.016484</td>\n",
              "      <td>1096.696416</td>\n",
              "      <td>165.105360</td>\n",
              "      <td>677.071454</td>\n",
              "      <td>16.328155</td>\n",
              "      <td>14.722359</td>\n",
              "      <td>3.958349</td>\n",
              "      <td>12.391801</td>\n",
              "      <td>5221.768440</td>\n",
              "      <td>17.17771</td>\n",
              "    </tr>\n",
              "    <tr>\n",
              "      <th>min</th>\n",
              "      <td>81.000000</td>\n",
              "      <td>72.000000</td>\n",
              "      <td>35.000000</td>\n",
              "      <td>1.000000</td>\n",
              "      <td>9.000000</td>\n",
              "      <td>139.000000</td>\n",
              "      <td>1.000000</td>\n",
              "      <td>2340.000000</td>\n",
              "      <td>1780.000000</td>\n",
              "      <td>96.000000</td>\n",
              "      <td>250.000000</td>\n",
              "      <td>8.000000</td>\n",
              "      <td>24.000000</td>\n",
              "      <td>2.500000</td>\n",
              "      <td>0.000000</td>\n",
              "      <td>3186.000000</td>\n",
              "      <td>10.00000</td>\n",
              "    </tr>\n",
              "    <tr>\n",
              "      <th>25%</th>\n",
              "      <td>776.000000</td>\n",
              "      <td>604.000000</td>\n",
              "      <td>242.000000</td>\n",
              "      <td>15.000000</td>\n",
              "      <td>41.000000</td>\n",
              "      <td>992.000000</td>\n",
              "      <td>95.000000</td>\n",
              "      <td>7320.000000</td>\n",
              "      <td>3597.000000</td>\n",
              "      <td>470.000000</td>\n",
              "      <td>850.000000</td>\n",
              "      <td>62.000000</td>\n",
              "      <td>71.000000</td>\n",
              "      <td>11.500000</td>\n",
              "      <td>13.000000</td>\n",
              "      <td>6751.000000</td>\n",
              "      <td>53.00000</td>\n",
              "    </tr>\n",
              "    <tr>\n",
              "      <th>50%</th>\n",
              "      <td>1558.000000</td>\n",
              "      <td>1110.000000</td>\n",
              "      <td>434.000000</td>\n",
              "      <td>23.000000</td>\n",
              "      <td>54.000000</td>\n",
              "      <td>1707.000000</td>\n",
              "      <td>353.000000</td>\n",
              "      <td>9990.000000</td>\n",
              "      <td>4200.000000</td>\n",
              "      <td>500.000000</td>\n",
              "      <td>1200.000000</td>\n",
              "      <td>75.000000</td>\n",
              "      <td>82.000000</td>\n",
              "      <td>13.600000</td>\n",
              "      <td>21.000000</td>\n",
              "      <td>8377.000000</td>\n",
              "      <td>65.00000</td>\n",
              "    </tr>\n",
              "    <tr>\n",
              "      <th>75%</th>\n",
              "      <td>3624.000000</td>\n",
              "      <td>2424.000000</td>\n",
              "      <td>902.000000</td>\n",
              "      <td>35.000000</td>\n",
              "      <td>69.000000</td>\n",
              "      <td>4005.000000</td>\n",
              "      <td>967.000000</td>\n",
              "      <td>12925.000000</td>\n",
              "      <td>5050.000000</td>\n",
              "      <td>600.000000</td>\n",
              "      <td>1700.000000</td>\n",
              "      <td>85.000000</td>\n",
              "      <td>92.000000</td>\n",
              "      <td>16.500000</td>\n",
              "      <td>31.000000</td>\n",
              "      <td>10830.000000</td>\n",
              "      <td>78.00000</td>\n",
              "    </tr>\n",
              "    <tr>\n",
              "      <th>max</th>\n",
              "      <td>48094.000000</td>\n",
              "      <td>26330.000000</td>\n",
              "      <td>6392.000000</td>\n",
              "      <td>96.000000</td>\n",
              "      <td>100.000000</td>\n",
              "      <td>31643.000000</td>\n",
              "      <td>21836.000000</td>\n",
              "      <td>21700.000000</td>\n",
              "      <td>8124.000000</td>\n",
              "      <td>2340.000000</td>\n",
              "      <td>6800.000000</td>\n",
              "      <td>103.000000</td>\n",
              "      <td>100.000000</td>\n",
              "      <td>39.800000</td>\n",
              "      <td>64.000000</td>\n",
              "      <td>56233.000000</td>\n",
              "      <td>118.00000</td>\n",
              "    </tr>\n",
              "  </tbody>\n",
              "</table>\n",
              "</div>"
            ],
            "text/plain": [
              "               Apps        Accept       Enroll   Top10perc   Top25perc  \\\n",
              "count    777.000000    777.000000   777.000000  777.000000  777.000000   \n",
              "mean    3001.638353   2018.804376   779.972973   27.558559   55.796654   \n",
              "std     3870.201484   2451.113971   929.176190   17.640364   19.804778   \n",
              "min       81.000000     72.000000    35.000000    1.000000    9.000000   \n",
              "25%      776.000000    604.000000   242.000000   15.000000   41.000000   \n",
              "50%     1558.000000   1110.000000   434.000000   23.000000   54.000000   \n",
              "75%     3624.000000   2424.000000   902.000000   35.000000   69.000000   \n",
              "max    48094.000000  26330.000000  6392.000000   96.000000  100.000000   \n",
              "\n",
              "        F.Undergrad   P.Undergrad      Outstate   Room.Board        Books  \\\n",
              "count    777.000000    777.000000    777.000000   777.000000   777.000000   \n",
              "mean    3699.907336    855.298584  10440.669241  4357.526384   549.380952   \n",
              "std     4850.420531   1522.431887   4023.016484  1096.696416   165.105360   \n",
              "min      139.000000      1.000000   2340.000000  1780.000000    96.000000   \n",
              "25%      992.000000     95.000000   7320.000000  3597.000000   470.000000   \n",
              "50%     1707.000000    353.000000   9990.000000  4200.000000   500.000000   \n",
              "75%     4005.000000    967.000000  12925.000000  5050.000000   600.000000   \n",
              "max    31643.000000  21836.000000  21700.000000  8124.000000  2340.000000   \n",
              "\n",
              "          Personal         PhD    Terminal   S.F.Ratio  perc.alumni  \\\n",
              "count   777.000000  777.000000  777.000000  777.000000   777.000000   \n",
              "mean   1340.642214   72.660232   79.702703   14.089704    22.743887   \n",
              "std     677.071454   16.328155   14.722359    3.958349    12.391801   \n",
              "min     250.000000    8.000000   24.000000    2.500000     0.000000   \n",
              "25%     850.000000   62.000000   71.000000   11.500000    13.000000   \n",
              "50%    1200.000000   75.000000   82.000000   13.600000    21.000000   \n",
              "75%    1700.000000   85.000000   92.000000   16.500000    31.000000   \n",
              "max    6800.000000  103.000000  100.000000   39.800000    64.000000   \n",
              "\n",
              "             Expend  Grad.Rate  \n",
              "count    777.000000  777.00000  \n",
              "mean    9660.171171   65.46332  \n",
              "std     5221.768440   17.17771  \n",
              "min     3186.000000   10.00000  \n",
              "25%     6751.000000   53.00000  \n",
              "50%     8377.000000   65.00000  \n",
              "75%    10830.000000   78.00000  \n",
              "max    56233.000000  118.00000  "
            ]
          },
          "metadata": {
            "tags": []
          },
          "execution_count": 107
        }
      ]
    },
    {
      "metadata": {
        "id": "fhgQoS4b6NAZ",
        "colab_type": "text"
      },
      "cell_type": "markdown",
      "source": [
        "## EDA\n",
        "\n",
        "It's time to create some data visualizations!\n",
        "\n",
        "** Create a scatterplot of Grad.Rate versus Room.Board where the points are colored by the Private column. **"
      ]
    },
    {
      "metadata": {
        "id": "ovQIIN7FGXQa",
        "colab_type": "code",
        "colab": {
          "autoexec": {
            "startup": false,
            "wait_interval": 0
          }
        }
      },
      "cell_type": "code",
      "source": [
        "###Alternate\n",
        "##sns.lmplot(fit_reg=False)"
      ],
      "execution_count": 0,
      "outputs": []
    },
    {
      "metadata": {
        "id": "xKfM0QYH8r3n",
        "colab_type": "code",
        "colab": {
          "autoexec": {
            "startup": false,
            "wait_interval": 0
          },
          "base_uri": "https://localhost:8080/",
          "height": 581
        },
        "outputId": "5dce8339-06d3-4d13-d799-682698859cf0",
        "executionInfo": {
          "status": "ok",
          "timestamp": 1532246076136,
          "user_tz": -330,
          "elapsed": 2634,
          "user": {
            "displayName": "ankur raja",
            "photoUrl": "//lh3.googleusercontent.com/-P3hjYlx442I/AAAAAAAAAAI/AAAAAAAAAJ8/_AwxqjC6DhE/s50-c-k-no/photo.jpg",
            "userId": "111833698361307138454"
          }
        }
      },
      "cell_type": "code",
      "source": [
        "# plt.figure(figsize=(12,12))\n",
        "g = sns.FacetGrid(college_data, hue=\"Private\",size=8, aspect=1)\n",
        "g = (g.map(plt.scatter, \"Room.Board\", \"Grad.Rate\", edgecolor=\"w\").add_legend())"
      ],
      "execution_count": 16,
      "outputs": [
        {
          "output_type": "display_data",
          "data": {
            "image/png": "[encoded data removed]",
            "text/plain": [
              "<matplotlib.figure.Figure at 0x7fb2d84b9ac8>"
            ]
          },
          "metadata": {
            "tags": []
          }
        }
      ]
    },
    {
      "metadata": {
        "id": "oPT5aUlJ6NAa",
        "colab_type": "code",
        "colab": {
          "autoexec": {
            "startup": false,
            "wait_interval": 0
          }
        },
        "outputId": "93506953-36ff-470b-e908-8813fa6bcd96"
      },
      "cell_type": "code",
      "source": [
        ""
      ],
      "execution_count": 0,
      "outputs": [
        {
          "output_type": "execute_result",
          "data": {
            "text/plain": [
              "<seaborn.axisgrid.FacetGrid at 0x11db9da90>"
            ]
          },
          "metadata": {
            "tags": []
          },
          "execution_count": 111
        },
        {
          "output_type": "display_data",
          "data": {
            "image/png": "[encoded data removed]",
            "text/plain": [
              "<matplotlib.figure.Figure at 0x11db91940>"
            ]
          },
          "metadata": {
            "tags": []
          }
        }
      ]
    },
    {
      "metadata": {
        "id": "MDAf7Ucp6NAe",
        "colab_type": "text"
      },
      "cell_type": "markdown",
      "source": [
        "**Create a scatterplot of F.Undergrad versus Outstate where the points are colored by the Private column.**"
      ]
    },
    {
      "metadata": {
        "id": "wGSV9D00_GKW",
        "colab_type": "code",
        "colab": {
          "autoexec": {
            "startup": false,
            "wait_interval": 0
          },
          "base_uri": "https://localhost:8080/",
          "height": 437
        },
        "outputId": "490c3516-76eb-443a-b584-11687bd94be1",
        "executionInfo": {
          "status": "ok",
          "timestamp": 1532246172431,
          "user_tz": -330,
          "elapsed": 2094,
          "user": {
            "displayName": "ankur raja",
            "photoUrl": "//lh3.googleusercontent.com/-P3hjYlx442I/AAAAAAAAAAI/AAAAAAAAAJ8/_AwxqjC6DhE/s50-c-k-no/photo.jpg",
            "userId": "111833698361307138454"
          }
        }
      },
      "cell_type": "code",
      "source": [
        "# plt.figure(figsize=(12,12))\n",
        "g = sns.FacetGrid(college_data, hue=\"Private\",size=6, aspect=1)\n",
        "g = (g.map(plt.scatter, \"Outstate\", \"F.Undergrad\", edgecolor=\"w\").add_legend())"
      ],
      "execution_count": 18,
      "outputs": [
        {
          "output_type": "display_data",
          "data": {
            "image/png": "[encoded data removed]",
            "text/plain": [
              "<matplotlib.figure.Figure at 0x7fb2d8556940>"
            ]
          },
          "metadata": {
            "tags": []
          }
        }
      ]
    },
    {
      "metadata": {
        "id": "RBi1BnQ06NAi",
        "colab_type": "code",
        "colab": {
          "autoexec": {
            "startup": false,
            "wait_interval": 0
          }
        },
        "outputId": "c437f6dd-dac2-43e8-bdcb-24ad530b5e19"
      },
      "cell_type": "code",
      "source": [
        ""
      ],
      "execution_count": 0,
      "outputs": [
        {
          "output_type": "execute_result",
          "data": {
            "text/plain": [
              "<seaborn.axisgrid.FacetGrid at 0x144b90b38>"
            ]
          },
          "metadata": {
            "tags": []
          },
          "execution_count": 112
        },
        {
          "output_type": "display_data",
          "data": {
            "image/png": "[encoded data removed]",
            "text/plain": [
              "<matplotlib.figure.Figure at 0x120839ba8>"
            ]
          },
          "metadata": {
            "tags": []
          }
        }
      ]
    },
    {
      "metadata": {
        "id": "k6tQ_ww66NAp",
        "colab_type": "text"
      },
      "cell_type": "markdown",
      "source": [
        "** Create a stacked histogram showing Out of State Tuition based on the Private column. Try doing this using [sns.FacetGrid](https://stanford.edu/~mwaskom/software/seaborn/generated/seaborn.FacetGrid.html). If that is too tricky, see if you can do it just by using two instances of pandas.plot(kind='hist'). **"
      ]
    },
    {
      "metadata": {
        "id": "E3jm_TtS_YbA",
        "colab_type": "code",
        "colab": {
          "autoexec": {
            "startup": false,
            "wait_interval": 0
          },
          "base_uri": "https://localhost:8080/",
          "height": 337
        },
        "outputId": "07db0728-789b-4135-8f35-3424a491578a",
        "executionInfo": {
          "status": "ok",
          "timestamp": 1532246670308,
          "user_tz": -330,
          "elapsed": 1004,
          "user": {
            "displayName": "ankur raja",
            "photoUrl": "//lh3.googleusercontent.com/-P3hjYlx442I/AAAAAAAAAAI/AAAAAAAAAJ8/_AwxqjC6DhE/s50-c-k-no/photo.jpg",
            "userId": "111833698361307138454"
          }
        }
      },
      "cell_type": "code",
      "source": [
        "plt.figure(figsize=(12,5))\n",
        "college_data[college_data['Private']=='Yes']['Outstate'].plot.hist(alpha=0.5,bins=20)\n",
        "college_data[college_data['Private']=='No']['Outstate'].plot.hist(alpha=0.5,bins=20)\n",
        "# plt.legend([1,2],'Private')"
      ],
      "execution_count": 32,
      "outputs": [
        {
          "output_type": "execute_result",
          "data": {
            "text/plain": [
              "<matplotlib.axes._subplots.AxesSubplot at 0x7fb2d7ba5780>"
            ]
          },
          "metadata": {
            "tags": []
          },
          "execution_count": 32
        },
        {
          "output_type": "display_data",
          "data": {
            "image/png": "[encoded data removed]",
            "text/plain": [
              "<matplotlib.figure.Figure at 0x7fb2d7cf9940>"
            ]
          },
          "metadata": {
            "tags": []
          }
        }
      ]
    },
    {
      "metadata": {
        "id": "e3JfqC7N6NAp",
        "colab_type": "code",
        "colab": {
          "autoexec": {
            "startup": false,
            "wait_interval": 0
          }
        },
        "outputId": "052a8ba6-ff15-42df-eba9-d3fef7259f06"
      },
      "cell_type": "code",
      "source": [
        ""
      ],
      "execution_count": 0,
      "outputs": [
        {
          "output_type": "display_data",
          "data": {
            "image/png": "[encoded data removed]",
            "text/plain": [
              "<matplotlib.figure.Figure at 0x144b315c0>"
            ]
          },
          "metadata": {
            "tags": []
          }
        }
      ]
    },
    {
      "metadata": {
        "id": "OKJCK-g36NAt",
        "colab_type": "text"
      },
      "cell_type": "markdown",
      "source": [
        "**Create a similar histogram for the Grad.Rate column.**"
      ]
    },
    {
      "metadata": {
        "id": "SJ7SvxOLBM9O",
        "colab_type": "code",
        "colab": {
          "autoexec": {
            "startup": false,
            "wait_interval": 0
          },
          "base_uri": "https://localhost:8080/",
          "height": 339
        },
        "outputId": "3e4a199e-fa10-4f0f-bf5e-569aa1f020c5",
        "executionInfo": {
          "status": "ok",
          "timestamp": 1532246700957,
          "user_tz": -330,
          "elapsed": 2251,
          "user": {
            "displayName": "ankur raja",
            "photoUrl": "//lh3.googleusercontent.com/-P3hjYlx442I/AAAAAAAAAAI/AAAAAAAAAJ8/_AwxqjC6DhE/s50-c-k-no/photo.jpg",
            "userId": "111833698361307138454"
          }
        }
      },
      "cell_type": "code",
      "source": [
        "plt.figure(figsize=(12,5))\n",
        "college_data[college_data['Private']=='Yes']['Grad.Rate'].plot.hist(alpha=0.5,bins=20)\n",
        "college_data[college_data['Private']=='No']['Grad.Rate'].plot.hist(alpha=0.5,bins=20)\n",
        "# plt.legend([1,2],'Private')"
      ],
      "execution_count": 33,
      "outputs": [
        {
          "output_type": "execute_result",
          "data": {
            "text/plain": [
              "<matplotlib.axes._subplots.AxesSubplot at 0x7fb2d7998d30>"
            ]
          },
          "metadata": {
            "tags": []
          },
          "execution_count": 33
        },
        {
          "output_type": "display_data",
          "data": {
            "image/png": "[encoded data removed]",
            "text/plain": [
              "<matplotlib.figure.Figure at 0x7fb2d7a3aba8>"
            ]
          },
          "metadata": {
            "tags": []
          }
        }
      ]
    },
    {
      "metadata": {
        "id": "WVtKhsjU6NAv",
        "colab_type": "code",
        "colab": {
          "autoexec": {
            "startup": false,
            "wait_interval": 0
          }
        },
        "outputId": "9183fa05-da5f-403d-b79b-2026b0484d24"
      },
      "cell_type": "code",
      "source": [
        ""
      ],
      "execution_count": 0,
      "outputs": [
        {
          "output_type": "display_data",
          "data": {
            "image/png": "[encoded data removed]",
            "text/plain": [
              "<matplotlib.figure.Figure at 0x11f829780>"
            ]
          },
          "metadata": {
            "tags": []
          }
        }
      ]
    },
    {
      "metadata": {
        "id": "JZ95Pcgk6NA3",
        "colab_type": "text"
      },
      "cell_type": "markdown",
      "source": [
        "** Notice how there seems to be a private school with a graduation rate of higher than 100%.What is the name of that school?**"
      ]
    },
    {
      "metadata": {
        "id": "Te7BIONqBW0A",
        "colab_type": "code",
        "colab": {
          "autoexec": {
            "startup": false,
            "wait_interval": 0
          },
          "base_uri": "https://localhost:8080/",
          "height": 115
        },
        "outputId": "453efed1-3408-4cd0-cb77-fdfae588679e",
        "executionInfo": {
          "status": "ok",
          "timestamp": 1532247983356,
          "user_tz": -330,
          "elapsed": 693,
          "user": {
            "displayName": "ankur raja",
            "photoUrl": "//lh3.googleusercontent.com/-P3hjYlx442I/AAAAAAAAAAI/AAAAAAAAAJ8/_AwxqjC6DhE/s50-c-k-no/photo.jpg",
            "userId": "111833698361307138454"
          }
        }
      },
      "cell_type": "code",
      "source": [
        "college_data[college_data['Grad.Rate']>100]"
      ],
      "execution_count": 82,
      "outputs": [
        {
          "output_type": "execute_result",
          "data": {
            "text/html": [
              "<div>\n",
              "<style scoped>\n",
              "    .dataframe tbody tr th:only-of-type {\n",
              "        vertical-align: middle;\n",
              "    }\n",
              "\n",
              "    .dataframe tbody tr th {\n",
              "        vertical-align: top;\n",
              "    }\n",
              "\n",
              "    .dataframe thead th {\n",
              "        text-align: right;\n",
              "    }\n",
              "</style>\n",
              "<table border=\"1\" class=\"dataframe\">\n",
              "  <thead>\n",
              "    <tr style=\"text-align: right;\">\n",
              "      <th></th>\n",
              "      <th>Private</th>\n",
              "      <th>Apps</th>\n",
              "      <th>Accept</th>\n",
              "      <th>Enroll</th>\n",
              "      <th>Top10perc</th>\n",
              "      <th>Top25perc</th>\n",
              "      <th>F.Undergrad</th>\n",
              "      <th>P.Undergrad</th>\n",
              "      <th>Outstate</th>\n",
              "      <th>Room.Board</th>\n",
              "      <th>Books</th>\n",
              "      <th>Personal</th>\n",
              "      <th>PhD</th>\n",
              "      <th>Terminal</th>\n",
              "      <th>S.F.Ratio</th>\n",
              "      <th>perc.alumni</th>\n",
              "      <th>Expend</th>\n",
              "      <th>Grad.Rate</th>\n",
              "    </tr>\n",
              "  </thead>\n",
              "  <tbody>\n",
              "    <tr>\n",
              "      <th>Cazenovia College</th>\n",
              "      <td>Yes</td>\n",
              "      <td>3847</td>\n",
              "      <td>3433</td>\n",
              "      <td>527</td>\n",
              "      <td>9</td>\n",
              "      <td>35</td>\n",
              "      <td>1010</td>\n",
              "      <td>12</td>\n",
              "      <td>9384</td>\n",
              "      <td>4840</td>\n",
              "      <td>600</td>\n",
              "      <td>500</td>\n",
              "      <td>22</td>\n",
              "      <td>47</td>\n",
              "      <td>14.3</td>\n",
              "      <td>20</td>\n",
              "      <td>7697</td>\n",
              "      <td>118</td>\n",
              "    </tr>\n",
              "  </tbody>\n",
              "</table>\n",
              "</div>"
            ],
            "text/plain": [
              "                  Private  Apps  Accept  Enroll  Top10perc  Top25perc  \\\n",
              "Cazenovia College     Yes  3847    3433     527          9         35   \n",
              "\n",
              "                   F.Undergrad  P.Undergrad  Outstate  Room.Board  Books  \\\n",
              "Cazenovia College         1010           12      9384        4840    600   \n",
              "\n",
              "                   Personal  PhD  Terminal  S.F.Ratio  perc.alumni  Expend  \\\n",
              "Cazenovia College       500   22        47       14.3           20    7697   \n",
              "\n",
              "                   Grad.Rate  \n",
              "Cazenovia College        118  "
            ]
          },
          "metadata": {
            "tags": []
          },
          "execution_count": 82
        }
      ]
    },
    {
      "metadata": {
        "id": "7kDpY22O6NA7",
        "colab_type": "code",
        "colab": {
          "autoexec": {
            "startup": false,
            "wait_interval": 0
          }
        },
        "outputId": "81ee1128-a6b6-4794-b813-eb33b9ae0e44"
      },
      "cell_type": "code",
      "source": [
        ""
      ],
      "execution_count": 0,
      "outputs": [
        {
          "output_type": "execute_result",
          "data": {
            "text/html": [
              "<div>\n",
              "<table border=\"1\" class=\"dataframe\">\n",
              "  <thead>\n",
              "    <tr style=\"text-align: right;\">\n",
              "      <th></th>\n",
              "      <th>Private</th>\n",
              "      <th>Apps</th>\n",
              "      <th>Accept</th>\n",
              "      <th>Enroll</th>\n",
              "      <th>Top10perc</th>\n",
              "      <th>Top25perc</th>\n",
              "      <th>F.Undergrad</th>\n",
              "      <th>P.Undergrad</th>\n",
              "      <th>Outstate</th>\n",
              "      <th>Room.Board</th>\n",
              "      <th>Books</th>\n",
              "      <th>Personal</th>\n",
              "      <th>PhD</th>\n",
              "      <th>Terminal</th>\n",
              "      <th>S.F.Ratio</th>\n",
              "      <th>perc.alumni</th>\n",
              "      <th>Expend</th>\n",
              "      <th>Grad.Rate</th>\n",
              "    </tr>\n",
              "  </thead>\n",
              "  <tbody>\n",
              "    <tr>\n",
              "      <th>Cazenovia College</th>\n",
              "      <td>Yes</td>\n",
              "      <td>3847</td>\n",
              "      <td>3433</td>\n",
              "      <td>527</td>\n",
              "      <td>9</td>\n",
              "      <td>35</td>\n",
              "      <td>1010</td>\n",
              "      <td>12</td>\n",
              "      <td>9384</td>\n",
              "      <td>4840</td>\n",
              "      <td>600</td>\n",
              "      <td>500</td>\n",
              "      <td>22</td>\n",
              "      <td>47</td>\n",
              "      <td>14.3</td>\n",
              "      <td>20</td>\n",
              "      <td>7697</td>\n",
              "      <td>118</td>\n",
              "    </tr>\n",
              "  </tbody>\n",
              "</table>\n",
              "</div>"
            ],
            "text/plain": [
              "                  Private  Apps  Accept  Enroll  Top10perc  Top25perc  \\\n",
              "Cazenovia College     Yes  3847    3433     527          9         35   \n",
              "\n",
              "                   F.Undergrad  P.Undergrad  Outstate  Room.Board  Books  \\\n",
              "Cazenovia College         1010           12      9384        4840    600   \n",
              "\n",
              "                   Personal  PhD  Terminal  S.F.Ratio  perc.alumni  Expend  \\\n",
              "Cazenovia College       500   22        47       14.3           20    7697   \n",
              "\n",
              "                   Grad.Rate  \n",
              "Cazenovia College        118  "
            ]
          },
          "metadata": {
            "tags": []
          },
          "execution_count": 113
        }
      ]
    },
    {
      "metadata": {
        "id": "QH-8IuKO6NBB",
        "colab_type": "text"
      },
      "cell_type": "markdown",
      "source": [
        "** Set that school's graduation rate to 100 so it makes sense. You may get a warning not an error) when doing this operation, so use dataframe operations or just re-do the histogram visualization to make sure it actually went through.**"
      ]
    },
    {
      "metadata": {
        "id": "DDdSR4MXBmEW",
        "colab_type": "code",
        "colab": {
          "autoexec": {
            "startup": false,
            "wait_interval": 0
          },
          "base_uri": "https://localhost:8080/",
          "height": 104
        },
        "outputId": "71e29311-d861-44e4-af36-1e5dac234971",
        "executionInfo": {
          "status": "ok",
          "timestamp": 1532248394754,
          "user_tz": -330,
          "elapsed": 1001,
          "user": {
            "displayName": "ankur raja",
            "photoUrl": "//lh3.googleusercontent.com/-P3hjYlx442I/AAAAAAAAAAI/AAAAAAAAAJ8/_AwxqjC6DhE/s50-c-k-no/photo.jpg",
            "userId": "111833698361307138454"
          }
        }
      },
      "cell_type": "code",
      "source": [
        "college_data['Grad.Rate']['Cazenovia College'] = 100"
      ],
      "execution_count": 86,
      "outputs": [
        {
          "output_type": "stream",
          "text": [
            "/usr/local/lib/python3.6/dist-packages/ipykernel_launcher.py:1: SettingWithCopyWarning: \n",
            "A value is trying to be set on a copy of a slice from a DataFrame\n",
            "\n",
            "See the caveats in the documentation: http://pandas.pydata.org/pandas-docs/stable/indexing.html#indexing-view-versus-copy\n",
            "  \"\"\"Entry point for launching an IPython kernel.\n"
          ],
          "name": "stderr"
        }
      ]
    },
    {
      "metadata": {
        "id": "cg6wYRUA6NBC",
        "colab_type": "code",
        "colab": {
          "autoexec": {
            "startup": false,
            "wait_interval": 0
          }
        },
        "outputId": "a8bfcc6e-184e-47c3-d9ce-90e5e4f1bc21"
      },
      "cell_type": "code",
      "source": [
        ""
      ],
      "execution_count": 0,
      "outputs": [
        {
          "output_type": "stream",
          "text": [
            "/Users/marci/anaconda/lib/python3.5/site-packages/ipykernel/__main__.py:1: SettingWithCopyWarning: \n",
            "A value is trying to be set on a copy of a slice from a DataFrame\n",
            "\n",
            "See the caveats in the documentation: http://pandas.pydata.org/pandas-docs/stable/indexing.html#indexing-view-versus-copy\n",
            "  if __name__ == '__main__':\n"
          ],
          "name": "stderr"
        }
      ]
    },
    {
      "metadata": {
        "id": "6pdw31OuDZih",
        "colab_type": "code",
        "colab": {
          "autoexec": {
            "startup": false,
            "wait_interval": 0
          },
          "base_uri": "https://localhost:8080/",
          "height": 339
        },
        "outputId": "2e40081b-2fde-4284-d8e4-86c75e0553f0",
        "executionInfo": {
          "status": "ok",
          "timestamp": 1532248340144,
          "user_tz": -330,
          "elapsed": 1285,
          "user": {
            "displayName": "ankur raja",
            "photoUrl": "//lh3.googleusercontent.com/-P3hjYlx442I/AAAAAAAAAAI/AAAAAAAAAJ8/_AwxqjC6DhE/s50-c-k-no/photo.jpg",
            "userId": "111833698361307138454"
          }
        }
      },
      "cell_type": "code",
      "source": [
        "plt.figure(figsize=(12,5))\n",
        "college_data[college_data['Private']=='Yes']['Grad.Rate'].plot.hist(alpha=0.5,bins=20)\n",
        "college_data[college_data['Private']=='No']['Grad.Rate'].plot.hist(alpha=0.5,bins=20)\n",
        "# plt.legend([1,2],'Private')"
      ],
      "execution_count": 84,
      "outputs": [
        {
          "output_type": "execute_result",
          "data": {
            "text/plain": [
              "<matplotlib.axes._subplots.AxesSubplot at 0x7fb2d2309518>"
            ]
          },
          "metadata": {
            "tags": []
          },
          "execution_count": 84
        },
        {
          "output_type": "display_data",
          "data": {
            "image/png": "[encoded data removed]",
            "text/plain": [
              "<matplotlib.figure.Figure at 0x7fb2d78dc438>"
            ]
          },
          "metadata": {
            "tags": []
          }
        }
      ]
    },
    {
      "metadata": {
        "id": "IeauYRlh6NBI",
        "colab_type": "code",
        "colab": {
          "autoexec": {
            "startup": false,
            "wait_interval": 0
          }
        },
        "outputId": "3dd77847-e178-4d2b-d410-08dfee1f65f8"
      },
      "cell_type": "code",
      "source": [
        ""
      ],
      "execution_count": 0,
      "outputs": [
        {
          "output_type": "execute_result",
          "data": {
            "text/html": [
              "<div>\n",
              "<table border=\"1\" class=\"dataframe\">\n",
              "  <thead>\n",
              "    <tr style=\"text-align: right;\">\n",
              "      <th></th>\n",
              "      <th>Private</th>\n",
              "      <th>Apps</th>\n",
              "      <th>Accept</th>\n",
              "      <th>Enroll</th>\n",
              "      <th>Top10perc</th>\n",
              "      <th>Top25perc</th>\n",
              "      <th>F.Undergrad</th>\n",
              "      <th>P.Undergrad</th>\n",
              "      <th>Outstate</th>\n",
              "      <th>Room.Board</th>\n",
              "      <th>Books</th>\n",
              "      <th>Personal</th>\n",
              "      <th>PhD</th>\n",
              "      <th>Terminal</th>\n",
              "      <th>S.F.Ratio</th>\n",
              "      <th>perc.alumni</th>\n",
              "      <th>Expend</th>\n",
              "      <th>Grad.Rate</th>\n",
              "    </tr>\n",
              "  </thead>\n",
              "  <tbody>\n",
              "  </tbody>\n",
              "</table>\n",
              "</div>"
            ],
            "text/plain": [
              "Empty DataFrame\n",
              "Columns: [Private, Apps, Accept, Enroll, Top10perc, Top25perc, F.Undergrad, P.Undergrad, Outstate, Room.Board, Books, Personal, PhD, Terminal, S.F.Ratio, perc.alumni, Expend, Grad.Rate]\n",
              "Index: []"
            ]
          },
          "metadata": {
            "tags": []
          },
          "execution_count": 94
        }
      ]
    },
    {
      "metadata": {
        "id": "ncDM84Tm6NBP",
        "colab_type": "code",
        "colab": {
          "autoexec": {
            "startup": false,
            "wait_interval": 0
          }
        },
        "outputId": "c8ecf203-9008-4ef7-b524-5e4bec14dfbf"
      },
      "cell_type": "code",
      "source": [
        ""
      ],
      "execution_count": 0,
      "outputs": [
        {
          "output_type": "display_data",
          "data": {
            "image/png": "[encoded data removed]",
            "text/plain": [
              "<matplotlib.figure.Figure at 0x13687e588>"
            ]
          },
          "metadata": {
            "tags": []
          }
        }
      ]
    },
    {
      "metadata": {
        "id": "GXX7w7Dx6NBV",
        "colab_type": "text"
      },
      "cell_type": "markdown",
      "source": [
        "## K Means Cluster Creation\n",
        "\n",
        "Now it is time to create the Cluster labels!\n",
        "\n",
        "** Import KMeans from SciKit Learn.**"
      ]
    },
    {
      "metadata": {
        "id": "G9S2B5pV6NBX",
        "colab_type": "code",
        "colab": {
          "autoexec": {
            "startup": false,
            "wait_interval": 0
          }
        }
      },
      "cell_type": "code",
      "source": [
        "from sklearn.cluster import KMeans"
      ],
      "execution_count": 0,
      "outputs": []
    },
    {
      "metadata": {
        "id": "r9j2HL7L6NBc",
        "colab_type": "text"
      },
      "cell_type": "markdown",
      "source": [
        "** Create an instance of a K Means model with 2 clusters.**"
      ]
    },
    {
      "metadata": {
        "id": "TzRvY8AE6NBc",
        "colab_type": "code",
        "colab": {
          "autoexec": {
            "startup": false,
            "wait_interval": 0
          }
        }
      },
      "cell_type": "code",
      "source": [
        "kmeans_model = KMeans(n_clusters=2)"
      ],
      "execution_count": 0,
      "outputs": []
    },
    {
      "metadata": {
        "id": "hLeWqz226NBg",
        "colab_type": "text"
      },
      "cell_type": "markdown",
      "source": [
        "**Fit the model to all the data except for the Private label.**"
      ]
    },
    {
      "metadata": {
        "id": "yS3qGOWEERhs",
        "colab_type": "code",
        "colab": {
          "autoexec": {
            "startup": false,
            "wait_interval": 0
          }
        }
      },
      "cell_type": "code",
      "source": [
        "college_data = college_data.loc[:, ~college_data.columns.str.contains('^Unnamed')]"
      ],
      "execution_count": 0,
      "outputs": []
    },
    {
      "metadata": {
        "id": "nUL2dws5Dsq8",
        "colab_type": "code",
        "colab": {
          "autoexec": {
            "startup": false,
            "wait_interval": 0
          },
          "base_uri": "https://localhost:8080/",
          "height": 69
        },
        "outputId": "dc14ede8-a554-440c-9644-c603c5689e9e",
        "executionInfo": {
          "status": "ok",
          "timestamp": 1532247649955,
          "user_tz": -330,
          "elapsed": 1141,
          "user": {
            "displayName": "ankur raja",
            "photoUrl": "//lh3.googleusercontent.com/-P3hjYlx442I/AAAAAAAAAAI/AAAAAAAAAJ8/_AwxqjC6DhE/s50-c-k-no/photo.jpg",
            "userId": "111833698361307138454"
          }
        }
      },
      "cell_type": "code",
      "source": [
        "kmeans_model.fit(college_data.drop(labels=['Private'],axis=1))"
      ],
      "execution_count": 73,
      "outputs": [
        {
          "output_type": "execute_result",
          "data": {
            "text/plain": [
              "KMeans(algorithm='auto', copy_x=True, init='k-means++', max_iter=300,\n",
              "    n_clusters=2, n_init=10, n_jobs=1, precompute_distances='auto',\n",
              "    random_state=None, tol=0.0001, verbose=0)"
            ]
          },
          "metadata": {
            "tags": []
          },
          "execution_count": 73
        }
      ]
    },
    {
      "metadata": {
        "id": "Cmg6WKSk6NBi",
        "colab_type": "code",
        "colab": {
          "autoexec": {
            "startup": false,
            "wait_interval": 0
          }
        },
        "outputId": "64dd0086-2664-48e2-85aa-cc4f6d17ab61"
      },
      "cell_type": "code",
      "source": [
        ""
      ],
      "execution_count": 0,
      "outputs": [
        {
          "output_type": "execute_result",
          "data": {
            "text/plain": [
              "KMeans(copy_x=True, init='k-means++', max_iter=300, n_clusters=2, n_init=10,\n",
              "    n_jobs=1, precompute_distances='auto', random_state=None, tol=0.0001,\n",
              "    verbose=0)"
            ]
          },
          "metadata": {
            "tags": []
          },
          "execution_count": 116
        }
      ]
    },
    {
      "metadata": {
        "id": "aZaCOpz_6NBn",
        "colab_type": "text"
      },
      "cell_type": "markdown",
      "source": [
        "** What are the cluster center vectors?**"
      ]
    },
    {
      "metadata": {
        "id": "EvPAYaP_E9AH",
        "colab_type": "code",
        "colab": {
          "autoexec": {
            "startup": false,
            "wait_interval": 0
          },
          "base_uri": "https://localhost:8080/",
          "height": 190
        },
        "outputId": "7c83d55f-f951-44f9-ca18-19950bcdb06e",
        "executionInfo": {
          "status": "ok",
          "timestamp": 1532247671382,
          "user_tz": -330,
          "elapsed": 1108,
          "user": {
            "displayName": "ankur raja",
            "photoUrl": "//lh3.googleusercontent.com/-P3hjYlx442I/AAAAAAAAAAI/AAAAAAAAAJ8/_AwxqjC6DhE/s50-c-k-no/photo.jpg",
            "userId": "111833698361307138454"
          }
        }
      },
      "cell_type": "code",
      "source": [
        "kmeans_model.cluster_centers_"
      ],
      "execution_count": 74,
      "outputs": [
        {
          "output_type": "execute_result",
          "data": {
            "text/plain": [
              "array([[1.81323468e+03, 1.28716592e+03, 4.91044843e+02, 2.53094170e+01,\n",
              "        5.34708520e+01, 2.18854858e+03, 5.95458894e+02, 1.03957085e+04,\n",
              "        4.31136472e+03, 5.41982063e+02, 1.28033632e+03, 7.04424514e+01,\n",
              "        7.78251121e+01, 1.40997010e+01, 2.31748879e+01, 8.93204634e+03,\n",
              "        6.50926756e+01],\n",
              "       [1.03631389e+04, 6.55089815e+03, 2.56972222e+03, 4.14907407e+01,\n",
              "        7.02037037e+01, 1.30619352e+04, 2.46486111e+03, 1.07191759e+04,\n",
              "        4.64347222e+03, 5.95212963e+02, 1.71420370e+03, 8.63981481e+01,\n",
              "        9.13333333e+01, 1.40277778e+01, 2.00740741e+01, 1.41705000e+04,\n",
              "        6.75925926e+01]])"
            ]
          },
          "metadata": {
            "tags": []
          },
          "execution_count": 74
        }
      ]
    },
    {
      "metadata": {
        "id": "ih1Hr7wn6NBo",
        "colab_type": "code",
        "colab": {
          "autoexec": {
            "startup": false,
            "wait_interval": 0
          }
        },
        "outputId": "a0d0065f-095b-4512-e349-b6315bd1a319"
      },
      "cell_type": "code",
      "source": [
        ""
      ],
      "execution_count": 0,
      "outputs": [
        {
          "output_type": "execute_result",
          "data": {
            "text/plain": [
              "array([[  1.81323468e+03,   1.28716592e+03,   4.91044843e+02,\n",
              "          2.53094170e+01,   5.34708520e+01,   2.18854858e+03,\n",
              "          5.95458894e+02,   1.03957085e+04,   4.31136472e+03,\n",
              "          5.41982063e+02,   1.28033632e+03,   7.04424514e+01,\n",
              "          7.78251121e+01,   1.40997010e+01,   2.31748879e+01,\n",
              "          8.93204634e+03,   6.51195815e+01],\n",
              "       [  1.03631389e+04,   6.55089815e+03,   2.56972222e+03,\n",
              "          4.14907407e+01,   7.02037037e+01,   1.30619352e+04,\n",
              "          2.46486111e+03,   1.07191759e+04,   4.64347222e+03,\n",
              "          5.95212963e+02,   1.71420370e+03,   8.63981481e+01,\n",
              "          9.13333333e+01,   1.40277778e+01,   2.00740741e+01,\n",
              "          1.41705000e+04,   6.75925926e+01]])"
            ]
          },
          "metadata": {
            "tags": []
          },
          "execution_count": 117
        }
      ]
    },
    {
      "metadata": {
        "id": "-gomgjZQ6NBs",
        "colab_type": "text"
      },
      "cell_type": "markdown",
      "source": [
        "## Evaluation\n",
        "\n",
        "There is no perfect way to evaluate clustering if you don't have the labels, however since this is just an exercise, we do have the labels, so we take advantage of this to evaluate our clusters, keep in mind, you usually won't have this luxury in the real world.\n",
        "\n",
        "** Create a new column for df called 'Cluster', which is a 1 for a Private school, and a 0 for a public school.**"
      ]
    },
    {
      "metadata": {
        "id": "w98Xbz9w6NBv",
        "colab_type": "code",
        "colab": {
          "autoexec": {
            "startup": false,
            "wait_interval": 0
          }
        }
      },
      "cell_type": "code",
      "source": [
        "college_data['Cluster'] = college_data['Private'].apply(lambda x: 1 if x=='Yes' else 0)"
      ],
      "execution_count": 0,
      "outputs": []
    },
    {
      "metadata": {
        "id": "mjmo5dt16NBz",
        "colab_type": "code",
        "colab": {
          "autoexec": {
            "startup": false,
            "wait_interval": 0
          },
          "base_uri": "https://localhost:8080/",
          "height": 356
        },
        "outputId": "8cd82a70-a9f0-414e-cdd1-950b2b3168eb",
        "executionInfo": {
          "status": "ok",
          "timestamp": 1532248689452,
          "user_tz": -330,
          "elapsed": 821,
          "user": {
            "displayName": "ankur raja",
            "photoUrl": "//lh3.googleusercontent.com/-P3hjYlx442I/AAAAAAAAAAI/AAAAAAAAAJ8/_AwxqjC6DhE/s50-c-k-no/photo.jpg",
            "userId": "111833698361307138454"
          }
        }
      },
      "cell_type": "code",
      "source": [
        "college_data.head()"
      ],
      "execution_count": 95,
      "outputs": [
        {
          "output_type": "execute_result",
          "data": {
            "text/html": [
              "<div>\n",
              "<style scoped>\n",
              "    .dataframe tbody tr th:only-of-type {\n",
              "        vertical-align: middle;\n",
              "    }\n",
              "\n",
              "    .dataframe tbody tr th {\n",
              "        vertical-align: top;\n",
              "    }\n",
              "\n",
              "    .dataframe thead th {\n",
              "        text-align: right;\n",
              "    }\n",
              "</style>\n",
              "<table border=\"1\" class=\"dataframe\">\n",
              "  <thead>\n",
              "    <tr style=\"text-align: right;\">\n",
              "      <th></th>\n",
              "      <th>Private</th>\n",
              "      <th>Apps</th>\n",
              "      <th>Accept</th>\n",
              "      <th>Enroll</th>\n",
              "      <th>Top10perc</th>\n",
              "      <th>Top25perc</th>\n",
              "      <th>F.Undergrad</th>\n",
              "      <th>P.Undergrad</th>\n",
              "      <th>Outstate</th>\n",
              "      <th>Room.Board</th>\n",
              "      <th>Books</th>\n",
              "      <th>Personal</th>\n",
              "      <th>PhD</th>\n",
              "      <th>Terminal</th>\n",
              "      <th>S.F.Ratio</th>\n",
              "      <th>perc.alumni</th>\n",
              "      <th>Expend</th>\n",
              "      <th>Grad.Rate</th>\n",
              "      <th>Cluster</th>\n",
              "    </tr>\n",
              "  </thead>\n",
              "  <tbody>\n",
              "    <tr>\n",
              "      <th>Abilene Christian University</th>\n",
              "      <td>Yes</td>\n",
              "      <td>1660</td>\n",
              "      <td>1232</td>\n",
              "      <td>721</td>\n",
              "      <td>23</td>\n",
              "      <td>52</td>\n",
              "      <td>2885</td>\n",
              "      <td>537</td>\n",
              "      <td>7440</td>\n",
              "      <td>3300</td>\n",
              "      <td>450</td>\n",
              "      <td>2200</td>\n",
              "      <td>70</td>\n",
              "      <td>78</td>\n",
              "      <td>18.1</td>\n",
              "      <td>12</td>\n",
              "      <td>7041</td>\n",
              "      <td>60</td>\n",
              "      <td>1</td>\n",
              "    </tr>\n",
              "    <tr>\n",
              "      <th>Adelphi University</th>\n",
              "      <td>Yes</td>\n",
              "      <td>2186</td>\n",
              "      <td>1924</td>\n",
              "      <td>512</td>\n",
              "      <td>16</td>\n",
              "      <td>29</td>\n",
              "      <td>2683</td>\n",
              "      <td>1227</td>\n",
              "      <td>12280</td>\n",
              "      <td>6450</td>\n",
              "      <td>750</td>\n",
              "      <td>1500</td>\n",
              "      <td>29</td>\n",
              "      <td>30</td>\n",
              "      <td>12.2</td>\n",
              "      <td>16</td>\n",
              "      <td>10527</td>\n",
              "      <td>56</td>\n",
              "      <td>1</td>\n",
              "    </tr>\n",
              "    <tr>\n",
              "      <th>Adrian College</th>\n",
              "      <td>Yes</td>\n",
              "      <td>1428</td>\n",
              "      <td>1097</td>\n",
              "      <td>336</td>\n",
              "      <td>22</td>\n",
              "      <td>50</td>\n",
              "      <td>1036</td>\n",
              "      <td>99</td>\n",
              "      <td>11250</td>\n",
              "      <td>3750</td>\n",
              "      <td>400</td>\n",
              "      <td>1165</td>\n",
              "      <td>53</td>\n",
              "      <td>66</td>\n",
              "      <td>12.9</td>\n",
              "      <td>30</td>\n",
              "      <td>8735</td>\n",
              "      <td>54</td>\n",
              "      <td>1</td>\n",
              "    </tr>\n",
              "    <tr>\n",
              "      <th>Agnes Scott College</th>\n",
              "      <td>Yes</td>\n",
              "      <td>417</td>\n",
              "      <td>349</td>\n",
              "      <td>137</td>\n",
              "      <td>60</td>\n",
              "      <td>89</td>\n",
              "      <td>510</td>\n",
              "      <td>63</td>\n",
              "      <td>12960</td>\n",
              "      <td>5450</td>\n",
              "      <td>450</td>\n",
              "      <td>875</td>\n",
              "      <td>92</td>\n",
              "      <td>97</td>\n",
              "      <td>7.7</td>\n",
              "      <td>37</td>\n",
              "      <td>19016</td>\n",
              "      <td>59</td>\n",
              "      <td>1</td>\n",
              "    </tr>\n",
              "    <tr>\n",
              "      <th>Alaska Pacific University</th>\n",
              "      <td>Yes</td>\n",
              "      <td>193</td>\n",
              "      <td>146</td>\n",
              "      <td>55</td>\n",
              "      <td>16</td>\n",
              "      <td>44</td>\n",
              "      <td>249</td>\n",
              "      <td>869</td>\n",
              "      <td>7560</td>\n",
              "      <td>4120</td>\n",
              "      <td>800</td>\n",
              "      <td>1500</td>\n",
              "      <td>76</td>\n",
              "      <td>72</td>\n",
              "      <td>11.9</td>\n",
              "      <td>2</td>\n",
              "      <td>10922</td>\n",
              "      <td>15</td>\n",
              "      <td>1</td>\n",
              "    </tr>\n",
              "  </tbody>\n",
              "</table>\n",
              "</div>"
            ],
            "text/plain": [
              "                             Private  Apps  Accept  Enroll  Top10perc  \\\n",
              "Abilene Christian University     Yes  1660    1232     721         23   \n",
              "Adelphi University               Yes  2186    1924     512         16   \n",
              "Adrian College                   Yes  1428    1097     336         22   \n",
              "Agnes Scott College              Yes   417     349     137         60   \n",
              "Alaska Pacific University        Yes   193     146      55         16   \n",
              "\n",
              "                              Top25perc  F.Undergrad  P.Undergrad  Outstate  \\\n",
              "Abilene Christian University         52         2885          537      7440   \n",
              "Adelphi University                   29         2683         1227     12280   \n",
              "Adrian College                       50         1036           99     11250   \n",
              "Agnes Scott College                  89          510           63     12960   \n",
              "Alaska Pacific University            44          249          869      7560   \n",
              "\n",
              "                              Room.Board  Books  Personal  PhD  Terminal  \\\n",
              "Abilene Christian University        3300    450      2200   70        78   \n",
              "Adelphi University                  6450    750      1500   29        30   \n",
              "Adrian College                      3750    400      1165   53        66   \n",
              "Agnes Scott College                 5450    450       875   92        97   \n",
              "Alaska Pacific University           4120    800      1500   76        72   \n",
              "\n",
              "                              S.F.Ratio  perc.alumni  Expend  Grad.Rate  \\\n",
              "Abilene Christian University       18.1           12    7041         60   \n",
              "Adelphi University                 12.2           16   10527         56   \n",
              "Adrian College                     12.9           30    8735         54   \n",
              "Agnes Scott College                 7.7           37   19016         59   \n",
              "Alaska Pacific University          11.9            2   10922         15   \n",
              "\n",
              "                              Cluster  \n",
              "Abilene Christian University        1  \n",
              "Adelphi University                  1  \n",
              "Adrian College                      1  \n",
              "Agnes Scott College                 1  \n",
              "Alaska Pacific University           1  "
            ]
          },
          "metadata": {
            "tags": []
          },
          "execution_count": 95
        }
      ]
    },
    {
      "metadata": {
        "id": "vhzjGZ2A6NB4",
        "colab_type": "code",
        "colab": {
          "autoexec": {
            "startup": false,
            "wait_interval": 0
          }
        },
        "outputId": "1f3be75e-71ea-487a-dbd8-1ee0e66c44b2"
      },
      "cell_type": "code",
      "source": [
        ""
      ],
      "execution_count": 0,
      "outputs": [
        {
          "output_type": "execute_result",
          "data": {
            "text/html": [
              "<div>\n",
              "<table border=\"1\" class=\"dataframe\">\n",
              "  <thead>\n",
              "    <tr style=\"text-align: right;\">\n",
              "      <th></th>\n",
              "      <th>Private</th>\n",
              "      <th>Apps</th>\n",
              "      <th>Accept</th>\n",
              "      <th>Enroll</th>\n",
              "      <th>Top10perc</th>\n",
              "      <th>Top25perc</th>\n",
              "      <th>F.Undergrad</th>\n",
              "      <th>P.Undergrad</th>\n",
              "      <th>Outstate</th>\n",
              "      <th>Room.Board</th>\n",
              "      <th>Books</th>\n",
              "      <th>Personal</th>\n",
              "      <th>PhD</th>\n",
              "      <th>Terminal</th>\n",
              "      <th>S.F.Ratio</th>\n",
              "      <th>perc.alumni</th>\n",
              "      <th>Expend</th>\n",
              "      <th>Grad.Rate</th>\n",
              "      <th>Cluster</th>\n",
              "    </tr>\n",
              "  </thead>\n",
              "  <tbody>\n",
              "    <tr>\n",
              "      <th>Abilene Christian University</th>\n",
              "      <td>Yes</td>\n",
              "      <td>1660</td>\n",
              "      <td>1232</td>\n",
              "      <td>721</td>\n",
              "      <td>23</td>\n",
              "      <td>52</td>\n",
              "      <td>2885</td>\n",
              "      <td>537</td>\n",
              "      <td>7440</td>\n",
              "      <td>3300</td>\n",
              "      <td>450</td>\n",
              "      <td>2200</td>\n",
              "      <td>70</td>\n",
              "      <td>78</td>\n",
              "      <td>18.1</td>\n",
              "      <td>12</td>\n",
              "      <td>7041</td>\n",
              "      <td>60</td>\n",
              "      <td>1</td>\n",
              "    </tr>\n",
              "    <tr>\n",
              "      <th>Adelphi University</th>\n",
              "      <td>Yes</td>\n",
              "      <td>2186</td>\n",
              "      <td>1924</td>\n",
              "      <td>512</td>\n",
              "      <td>16</td>\n",
              "      <td>29</td>\n",
              "      <td>2683</td>\n",
              "      <td>1227</td>\n",
              "      <td>12280</td>\n",
              "      <td>6450</td>\n",
              "      <td>750</td>\n",
              "      <td>1500</td>\n",
              "      <td>29</td>\n",
              "      <td>30</td>\n",
              "      <td>12.2</td>\n",
              "      <td>16</td>\n",
              "      <td>10527</td>\n",
              "      <td>56</td>\n",
              "      <td>1</td>\n",
              "    </tr>\n",
              "    <tr>\n",
              "      <th>Adrian College</th>\n",
              "      <td>Yes</td>\n",
              "      <td>1428</td>\n",
              "      <td>1097</td>\n",
              "      <td>336</td>\n",
              "      <td>22</td>\n",
              "      <td>50</td>\n",
              "      <td>1036</td>\n",
              "      <td>99</td>\n",
              "      <td>11250</td>\n",
              "      <td>3750</td>\n",
              "      <td>400</td>\n",
              "      <td>1165</td>\n",
              "      <td>53</td>\n",
              "      <td>66</td>\n",
              "      <td>12.9</td>\n",
              "      <td>30</td>\n",
              "      <td>8735</td>\n",
              "      <td>54</td>\n",
              "      <td>1</td>\n",
              "    </tr>\n",
              "    <tr>\n",
              "      <th>Agnes Scott College</th>\n",
              "      <td>Yes</td>\n",
              "      <td>417</td>\n",
              "      <td>349</td>\n",
              "      <td>137</td>\n",
              "      <td>60</td>\n",
              "      <td>89</td>\n",
              "      <td>510</td>\n",
              "      <td>63</td>\n",
              "      <td>12960</td>\n",
              "      <td>5450</td>\n",
              "      <td>450</td>\n",
              "      <td>875</td>\n",
              "      <td>92</td>\n",
              "      <td>97</td>\n",
              "      <td>7.7</td>\n",
              "      <td>37</td>\n",
              "      <td>19016</td>\n",
              "      <td>59</td>\n",
              "      <td>1</td>\n",
              "    </tr>\n",
              "    <tr>\n",
              "      <th>Alaska Pacific University</th>\n",
              "      <td>Yes</td>\n",
              "      <td>193</td>\n",
              "      <td>146</td>\n",
              "      <td>55</td>\n",
              "      <td>16</td>\n",
              "      <td>44</td>\n",
              "      <td>249</td>\n",
              "      <td>869</td>\n",
              "      <td>7560</td>\n",
              "      <td>4120</td>\n",
              "      <td>800</td>\n",
              "      <td>1500</td>\n",
              "      <td>76</td>\n",
              "      <td>72</td>\n",
              "      <td>11.9</td>\n",
              "      <td>2</td>\n",
              "      <td>10922</td>\n",
              "      <td>15</td>\n",
              "      <td>1</td>\n",
              "    </tr>\n",
              "  </tbody>\n",
              "</table>\n",
              "</div>"
            ],
            "text/plain": [
              "                             Private  Apps  Accept  Enroll  Top10perc  \\\n",
              "Abilene Christian University     Yes  1660    1232     721         23   \n",
              "Adelphi University               Yes  2186    1924     512         16   \n",
              "Adrian College                   Yes  1428    1097     336         22   \n",
              "Agnes Scott College              Yes   417     349     137         60   \n",
              "Alaska Pacific University        Yes   193     146      55         16   \n",
              "\n",
              "                              Top25perc  F.Undergrad  P.Undergrad  Outstate  \\\n",
              "Abilene Christian University         52         2885          537      7440   \n",
              "Adelphi University                   29         2683         1227     12280   \n",
              "Adrian College                       50         1036           99     11250   \n",
              "Agnes Scott College                  89          510           63     12960   \n",
              "Alaska Pacific University            44          249          869      7560   \n",
              "\n",
              "                              Room.Board  Books  Personal  PhD  Terminal  \\\n",
              "Abilene Christian University        3300    450      2200   70        78   \n",
              "Adelphi University                  6450    750      1500   29        30   \n",
              "Adrian College                      3750    400      1165   53        66   \n",
              "Agnes Scott College                 5450    450       875   92        97   \n",
              "Alaska Pacific University           4120    800      1500   76        72   \n",
              "\n",
              "                              S.F.Ratio  perc.alumni  Expend  Grad.Rate  \\\n",
              "Abilene Christian University       18.1           12    7041         60   \n",
              "Adelphi University                 12.2           16   10527         56   \n",
              "Adrian College                     12.9           30    8735         54   \n",
              "Agnes Scott College                 7.7           37   19016         59   \n",
              "Alaska Pacific University          11.9            2   10922         15   \n",
              "\n",
              "                              Cluster  \n",
              "Abilene Christian University        1  \n",
              "Adelphi University                  1  \n",
              "Adrian College                      1  \n",
              "Agnes Scott College                 1  \n",
              "Alaska Pacific University           1  "
            ]
          },
          "metadata": {
            "tags": []
          },
          "execution_count": 122
        }
      ]
    },
    {
      "metadata": {
        "id": "yutRxthl6NB9",
        "colab_type": "text"
      },
      "cell_type": "markdown",
      "source": [
        "** Create a confusion matrix and classification report to see how well the Kmeans clustering worked without being given any labels.**"
      ]
    },
    {
      "metadata": {
        "id": "SVdKOVCiFsuC",
        "colab_type": "code",
        "colab": {
          "autoexec": {
            "startup": false,
            "wait_interval": 0
          }
        }
      },
      "cell_type": "code",
      "source": [
        "from sklearn.metrics import confusion_matrix,classification_report"
      ],
      "execution_count": 0,
      "outputs": []
    },
    {
      "metadata": {
        "id": "ri5IeTrNIUu1",
        "colab_type": "code",
        "colab": {
          "autoexec": {
            "startup": false,
            "wait_interval": 0
          },
          "base_uri": "https://localhost:8080/",
          "height": 207
        },
        "outputId": "a78a41f0-d598-46db-f367-5a27e32abeb6",
        "executionInfo": {
          "status": "ok",
          "timestamp": 1532248693789,
          "user_tz": -330,
          "elapsed": 1337,
          "user": {
            "displayName": "ankur raja",
            "photoUrl": "//lh3.googleusercontent.com/-P3hjYlx442I/AAAAAAAAAAI/AAAAAAAAAJ8/_AwxqjC6DhE/s50-c-k-no/photo.jpg",
            "userId": "111833698361307138454"
          }
        }
      },
      "cell_type": "code",
      "source": [
        "print (confusion_matrix(college_data['Cluster'],kmeans_model.labels_))\n",
        "print ('\\n')\n",
        "print (classification_report(college_data['Cluster'],kmeans_model.labels_))"
      ],
      "execution_count": 96,
      "outputs": [
        {
          "output_type": "stream",
          "text": [
            "[[138  74]\n",
            " [531  34]]\n",
            "\n",
            "\n",
            "             precision    recall  f1-score   support\n",
            "\n",
            "          0       0.21      0.65      0.31       212\n",
            "          1       0.31      0.06      0.10       565\n",
            "\n",
            "avg / total       0.29      0.22      0.16       777\n",
            "\n"
          ],
          "name": "stdout"
        }
      ]
    },
    {
      "metadata": {
        "id": "bUAloGg_6NB-",
        "colab_type": "code",
        "colab": {
          "autoexec": {
            "startup": false,
            "wait_interval": 0
          }
        },
        "outputId": "c9c61542-2305-4690-bef8-53e96a8cd6d8"
      },
      "cell_type": "code",
      "source": [
        ""
      ],
      "execution_count": 0,
      "outputs": [
        {
          "output_type": "stream",
          "text": [
            "[[138  74]\n",
            " [531  34]]\n",
            "             precision    recall  f1-score   support\n",
            "\n",
            "          0       0.21      0.65      0.31       212\n",
            "          1       0.31      0.06      0.10       565\n",
            "\n",
            "avg / total       0.29      0.22      0.16       777\n",
            "\n"
          ],
          "name": "stdout"
        }
      ]
    },
    {
      "metadata": {
        "id": "3ky4R0Pq6NCG",
        "colab_type": "text"
      },
      "cell_type": "markdown",
      "source": [
        "Not so bad considering the algorithm is purely using the features to cluster the universities into 2 distinct groups! Hopefully you can begin to see how K Means is useful for clustering un-labeled data!\n",
        "\n",
        "## Great Job!"
      ]
    }
  ]
}